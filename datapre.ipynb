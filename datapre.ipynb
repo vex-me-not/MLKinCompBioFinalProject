{
 "cells": [
  {
   "cell_type": "code",
   "execution_count": 1,
   "id": "ec15f9b7",
   "metadata": {},
   "outputs": [],
   "source": [
    "import scanpy as sc\n",
    "import pandas as pd\n",
    "import anndata\n",
    "\n",
    "from pathlib import Path\n",
    "from abc_atlas_access.abc_atlas_cache.abc_project_cache import AbcProjectCache"
   ]
  },
  {
   "cell_type": "markdown",
   "id": "dfcd7bad",
   "metadata": {},
   "source": [
    "Uncomment the cell below if you run this notebook for the first time"
   ]
  },
  {
   "cell_type": "code",
   "execution_count": 2,
   "id": "03f6e554",
   "metadata": {},
   "outputs": [],
   "source": [
    "# %pip install \"abc_atlas_access[notebooks] @ git+https://github.com/alleninstitute/abc_atlas_access.git\""
   ]
  },
  {
   "cell_type": "code",
   "execution_count": 3,
   "id": "8026bb01",
   "metadata": {},
   "outputs": [
    {
     "name": "stderr",
     "output_type": "stream",
     "text": [
      "c:\\Users\\User\\anaconda3\\Lib\\site-packages\\abc_atlas_access\\abc_atlas_cache\\cloud_cache.py:630: OutdatedManifestWarning: You are loading releases/20230630/manifest.json. A more up to date version of the dataset -- releases/20250531/manifest.json -- exists online. To see the changes between the two versions of the dataset, run\n",
      "type.compare_manifests('releases/20230630/manifest.json', 'releases/20250531/manifest.json')\n",
      "To load another version of the dataset, run\n",
      "type.load_manifest('releases/20250531/manifest.json')\n",
      "  warnings.warn(msg, OutdatedManifestWarning)\n"
     ]
    },
    {
     "data": {
      "text/plain": [
       "'releases/20230630/manifest.json'"
      ]
     },
     "execution_count": 3,
     "metadata": {},
     "output_type": "execute_result"
    }
   ],
   "source": [
    "download_base = Path('./data/abc_atlas')\n",
    "abc_cache = AbcProjectCache.from_cache_dir(download_base)\n",
    "\n",
    "abc_cache.current_manifest"
   ]
  },
  {
   "cell_type": "code",
   "execution_count": 4,
   "id": "a5b8b1d1",
   "metadata": {},
   "outputs": [
    {
     "data": {
      "text/plain": [
       "['releases/20230630/manifest.json',\n",
       " 'releases/20230830/manifest.json',\n",
       " 'releases/20231215/manifest.json',\n",
       " 'releases/20240330/manifest.json',\n",
       " 'releases/20240831/manifest.json',\n",
       " 'releases/20241115/manifest.json',\n",
       " 'releases/20241130/manifest.json',\n",
       " 'releases/20250131/manifest.json',\n",
       " 'releases/20250331/manifest.json',\n",
       " 'releases/20250531/manifest.json']"
      ]
     },
     "execution_count": 4,
     "metadata": {},
     "output_type": "execute_result"
    }
   ],
   "source": [
    "abc_cache.list_manifest_file_names"
   ]
  },
  {
   "cell_type": "code",
   "execution_count": 5,
   "id": "653c9803",
   "metadata": {},
   "outputs": [
    {
     "name": "stdout",
     "output_type": "stream",
     "text": [
      "old manifest loaded: releases/20230630/manifest.json\n"
     ]
    }
   ],
   "source": [
    "abc_cache.load_manifest('releases/20230630/manifest.json')\n",
    "print(\"old manifest loaded:\", abc_cache.current_manifest)\n",
    "\n",
    "# Return to the latest manifest\n",
    "# abc_cache.load_latest_manifest()\n",
    "# print(\"after latest manifest loaded:\", abc_cache.current_manifest)"
   ]
  },
  {
   "cell_type": "code",
   "execution_count": 6,
   "id": "cfd66c61",
   "metadata": {},
   "outputs": [
    {
     "data": {
      "text/plain": [
       "['Allen-CCF-2020',\n",
       " 'MERFISH-C57BL6J-638850',\n",
       " 'MERFISH-C57BL6J-638850-CCF',\n",
       " 'MERFISH-C57BL6J-638850-sections',\n",
       " 'WMB-10X',\n",
       " 'WMB-10Xv2',\n",
       " 'WMB-10Xv3',\n",
       " 'WMB-neighborhoods',\n",
       " 'WMB-taxonomy']"
      ]
     },
     "execution_count": 6,
     "metadata": {},
     "output_type": "execute_result"
    }
   ],
   "source": [
    "abc_cache.list_directories"
   ]
  },
  {
   "cell_type": "code",
   "execution_count": 7,
   "id": "a3acf1db",
   "metadata": {},
   "outputs": [
    {
     "data": {
      "text/plain": [
       "['WMB-10Xv3-CB/log2',\n",
       " 'WMB-10Xv3-CB/raw',\n",
       " 'WMB-10Xv3-CTXsp/log2',\n",
       " 'WMB-10Xv3-CTXsp/raw',\n",
       " 'WMB-10Xv3-HPF/log2',\n",
       " 'WMB-10Xv3-HPF/raw',\n",
       " 'WMB-10Xv3-HY/log2',\n",
       " 'WMB-10Xv3-HY/raw',\n",
       " 'WMB-10Xv3-Isocortex-1/log2',\n",
       " 'WMB-10Xv3-Isocortex-1/raw',\n",
       " 'WMB-10Xv3-Isocortex-2/log2',\n",
       " 'WMB-10Xv3-Isocortex-2/raw',\n",
       " 'WMB-10Xv3-MB/log2',\n",
       " 'WMB-10Xv3-MB/raw',\n",
       " 'WMB-10Xv3-MY/log2',\n",
       " 'WMB-10Xv3-MY/raw',\n",
       " 'WMB-10Xv3-OLF/log2',\n",
       " 'WMB-10Xv3-OLF/raw',\n",
       " 'WMB-10Xv3-P/log2',\n",
       " 'WMB-10Xv3-P/raw',\n",
       " 'WMB-10Xv3-PAL/log2',\n",
       " 'WMB-10Xv3-PAL/raw',\n",
       " 'WMB-10Xv3-STR/log2',\n",
       " 'WMB-10Xv3-STR/raw',\n",
       " 'WMB-10Xv3-TH/log2',\n",
       " 'WMB-10Xv3-TH/raw']"
      ]
     },
     "execution_count": 7,
     "metadata": {},
     "output_type": "execute_result"
    }
   ],
   "source": [
    "abc_cache.list_data_files('WMB-10Xv3')"
   ]
  },
  {
   "cell_type": "code",
   "execution_count": 8,
   "id": "f1e447a9",
   "metadata": {},
   "outputs": [
    {
     "data": {
      "text/plain": [
       "['WMB-10Xv2-CTXsp/log2',\n",
       " 'WMB-10Xv2-CTXsp/raw',\n",
       " 'WMB-10Xv2-HPF/log2',\n",
       " 'WMB-10Xv2-HPF/raw',\n",
       " 'WMB-10Xv2-HY/log2',\n",
       " 'WMB-10Xv2-HY/raw',\n",
       " 'WMB-10Xv2-Isocortex-1/log2',\n",
       " 'WMB-10Xv2-Isocortex-1/raw',\n",
       " 'WMB-10Xv2-Isocortex-2/log2',\n",
       " 'WMB-10Xv2-Isocortex-2/raw',\n",
       " 'WMB-10Xv2-Isocortex-3/log2',\n",
       " 'WMB-10Xv2-Isocortex-3/raw',\n",
       " 'WMB-10Xv2-Isocortex-4/log2',\n",
       " 'WMB-10Xv2-Isocortex-4/raw',\n",
       " 'WMB-10Xv2-MB/log2',\n",
       " 'WMB-10Xv2-MB/raw',\n",
       " 'WMB-10Xv2-OLF/log2',\n",
       " 'WMB-10Xv2-OLF/raw',\n",
       " 'WMB-10Xv2-TH/log2',\n",
       " 'WMB-10Xv2-TH/raw']"
      ]
     },
     "execution_count": 8,
     "metadata": {},
     "output_type": "execute_result"
    }
   ],
   "source": [
    "abc_cache.list_data_files('WMB-10Xv2')"
   ]
  },
  {
   "cell_type": "code",
   "execution_count": 9,
   "id": "1ccbfb8b",
   "metadata": {},
   "outputs": [
    {
     "data": {
      "text/plain": [
       "['cell_metadata',\n",
       " 'cell_metadata_with_cluster_annotation',\n",
       " 'example_genes_all_cells_expression',\n",
       " 'gene',\n",
       " 'region_of_interest_metadata']"
      ]
     },
     "execution_count": 9,
     "metadata": {},
     "output_type": "execute_result"
    }
   ],
   "source": [
    "abc_cache.list_metadata_files('WMB-10X')"
   ]
  },
  {
   "cell_type": "code",
   "execution_count": 10,
   "id": "b1b64865",
   "metadata": {},
   "outputs": [
    {
     "data": {
      "text/plain": [
       "[WindowsPath('F:/Vital Stuff/Εργασίες Σχολείου/The dreadful present/Μαστερ/Μαστερ Εξάμηνο 2ο/Machine Learning in Computational Biology/Project/FinalProject/MLKinCompBioFinalProject/data/abc_atlas/metadata/WMB-10X/20230630/cell_metadata.csv'),\n",
       " WindowsPath('F:/Vital Stuff/Εργασίες Σχολείου/The dreadful present/Μαστερ/Μαστερ Εξάμηνο 2ο/Machine Learning in Computational Biology/Project/FinalProject/MLKinCompBioFinalProject/data/abc_atlas/metadata/WMB-10X/20230630/views/cell_metadata_with_cluster_annotation.csv'),\n",
       " WindowsPath('F:/Vital Stuff/Εργασίες Σχολείου/The dreadful present/Μαστερ/Μαστερ Εξάμηνο 2ο/Machine Learning in Computational Biology/Project/FinalProject/MLKinCompBioFinalProject/data/abc_atlas/metadata/WMB-10X/20230630/views/example_genes_all_cells_expression.csv'),\n",
       " WindowsPath('F:/Vital Stuff/Εργασίες Σχολείου/The dreadful present/Μαστερ/Μαστερ Εξάμηνο 2ο/Machine Learning in Computational Biology/Project/FinalProject/MLKinCompBioFinalProject/data/abc_atlas/metadata/WMB-10X/20230630/gene.csv'),\n",
       " WindowsPath('F:/Vital Stuff/Εργασίες Σχολείου/The dreadful present/Μαστερ/Μαστερ Εξάμηνο 2ο/Machine Learning in Computational Biology/Project/FinalProject/MLKinCompBioFinalProject/data/abc_atlas/metadata/WMB-10X/20230630/region_of_interest_metadata.csv')]"
      ]
     },
     "execution_count": 10,
     "metadata": {},
     "output_type": "execute_result"
    }
   ],
   "source": [
    "abc_cache.get_directory_metadata('WMB-10X')"
   ]
  },
  {
   "cell_type": "code",
   "execution_count": 11,
   "id": "3eba90ff",
   "metadata": {},
   "outputs": [
    {
     "name": "stderr",
     "output_type": "stream",
     "text": [
      "WMB-10Xv3-HY-log2.h5ad:  14%|█▎        | 990M/7.25G [01:30<09:17, 11.2MMB/s]     "
     ]
    },
    {
     "ename": "KeyboardInterrupt",
     "evalue": "",
     "output_type": "error",
     "traceback": [
      "\u001b[1;31m---------------------------------------------------------------------------\u001b[0m",
      "\u001b[1;31mKeyboardInterrupt\u001b[0m                         Traceback (most recent call last)",
      "Cell \u001b[1;32mIn[11], line 1\u001b[0m\n\u001b[1;32m----> 1\u001b[0m abc_cache\u001b[38;5;241m.\u001b[39mget_data_path(directory\u001b[38;5;241m=\u001b[39m\u001b[38;5;124m'\u001b[39m\u001b[38;5;124mWMB-10Xv3\u001b[39m\u001b[38;5;124m'\u001b[39m, file_name\u001b[38;5;241m=\u001b[39m\u001b[38;5;124m'\u001b[39m\u001b[38;5;124mWMB-10Xv3-HY/log2\u001b[39m\u001b[38;5;124m'\u001b[39m)\n\u001b[0;32m      2\u001b[0m abc_cache\u001b[38;5;241m.\u001b[39mget_data_path(directory\u001b[38;5;241m=\u001b[39m\u001b[38;5;124m'\u001b[39m\u001b[38;5;124mWMB-10Xv3\u001b[39m\u001b[38;5;124m'\u001b[39m, file_name\u001b[38;5;241m=\u001b[39m\u001b[38;5;124m'\u001b[39m\u001b[38;5;124mWMB-10Xv3-TH/log2\u001b[39m\u001b[38;5;124m'\u001b[39m)\n",
      "File \u001b[1;32mc:\\Users\\User\\anaconda3\\Lib\\site-packages\\abc_atlas_access\\abc_atlas_cache\\abc_project_cache.py:508\u001b[0m, in \u001b[0;36mAbcProjectCache.get_data_path\u001b[1;34m(self, directory, file_name, force_download, skip_hash_check)\u001b[0m\n\u001b[0;32m    503\u001b[0m     data_path \u001b[38;5;241m=\u001b[39m \u001b[38;5;28mself\u001b[39m\u001b[38;5;241m.\u001b[39m_get_local_path(\n\u001b[0;32m    504\u001b[0m         directory\u001b[38;5;241m=\u001b[39mdirectory,\n\u001b[0;32m    505\u001b[0m         file_name\u001b[38;5;241m=\u001b[39mfile_name\n\u001b[0;32m    506\u001b[0m     )\n\u001b[0;32m    507\u001b[0m \u001b[38;5;28;01melse\u001b[39;00m:\n\u001b[1;32m--> 508\u001b[0m     data_path \u001b[38;5;241m=\u001b[39m \u001b[38;5;28mself\u001b[39m\u001b[38;5;241m.\u001b[39mcache\u001b[38;5;241m.\u001b[39mdownload_data(\n\u001b[0;32m    509\u001b[0m         directory\u001b[38;5;241m=\u001b[39mdirectory,\n\u001b[0;32m    510\u001b[0m         file_name\u001b[38;5;241m=\u001b[39mfile_name,\n\u001b[0;32m    511\u001b[0m         force_download\u001b[38;5;241m=\u001b[39mforce_download,\n\u001b[0;32m    512\u001b[0m         skip_hash_check\u001b[38;5;241m=\u001b[39mskip_hash_check\n\u001b[0;32m    513\u001b[0m     )\n\u001b[0;32m    514\u001b[0m \u001b[38;5;28;01mreturn\u001b[39;00m data_path\n",
      "File \u001b[1;32mc:\\Users\\User\\anaconda3\\Lib\\site-packages\\abc_atlas_access\\abc_atlas_cache\\cloud_cache.py:844\u001b[0m, in \u001b[0;36mCloudCacheBase.download_data\u001b[1;34m(self, directory, file_name, force_download, skip_hash_check)\u001b[0m\n\u001b[0;32m    840\u001b[0m \u001b[38;5;28;01mif\u001b[39;00m super_attributes[\u001b[38;5;124m'\u001b[39m\u001b[38;5;124mexists\u001b[39m\u001b[38;5;124m'\u001b[39m] \\\n\u001b[0;32m    841\u001b[0m         \u001b[38;5;129;01mand\u001b[39;00m \u001b[38;5;129;01mnot\u001b[39;00m \u001b[38;5;28mself\u001b[39m\u001b[38;5;241m.\u001b[39m_check_successful_download(\n\u001b[0;32m    842\u001b[0m                 file_attributes\u001b[38;5;241m=\u001b[39msuper_attributes[\u001b[38;5;124m'\u001b[39m\u001b[38;5;124mfile_attributes\u001b[39m\u001b[38;5;124m'\u001b[39m]):\n\u001b[0;32m    843\u001b[0m     force_download \u001b[38;5;241m=\u001b[39m \u001b[38;5;28;01mTrue\u001b[39;00m\n\u001b[1;32m--> 844\u001b[0m \u001b[38;5;28mself\u001b[39m\u001b[38;5;241m.\u001b[39m_download_file(\n\u001b[0;32m    845\u001b[0m     file_attributes\u001b[38;5;241m=\u001b[39mfile_attributes,\n\u001b[0;32m    846\u001b[0m     force_download\u001b[38;5;241m=\u001b[39mforce_download,\n\u001b[0;32m    847\u001b[0m     skip_hash_check\u001b[38;5;241m=\u001b[39mskip_hash_check\n\u001b[0;32m    848\u001b[0m )\n\u001b[0;32m    849\u001b[0m \u001b[38;5;28;01mreturn\u001b[39;00m file_attributes\u001b[38;5;241m.\u001b[39mlocal_path\n",
      "File \u001b[1;32mc:\\Users\\User\\anaconda3\\Lib\\site-packages\\abc_atlas_access\\abc_atlas_cache\\cloud_cache.py:1312\u001b[0m, in \u001b[0;36mS3CloudCache._download_file\u001b[1;34m(self, file_attributes, force_download, skip_hash_check)\u001b[0m\n\u001b[0;32m   1310\u001b[0m \u001b[38;5;28;01mif\u001b[39;00m \u001b[38;5;124m'\u001b[39m\u001b[38;5;124mBody\u001b[39m\u001b[38;5;124m'\u001b[39m \u001b[38;5;129;01min\u001b[39;00m response:\n\u001b[0;32m   1311\u001b[0m     \u001b[38;5;28;01mwith\u001b[39;00m \u001b[38;5;28mopen\u001b[39m(local_path, \u001b[38;5;124m'\u001b[39m\u001b[38;5;124mwb\u001b[39m\u001b[38;5;124m'\u001b[39m) \u001b[38;5;28;01mas\u001b[39;00m out_file:\n\u001b[1;32m-> 1312\u001b[0m         \u001b[38;5;28;01mfor\u001b[39;00m chunk \u001b[38;5;129;01min\u001b[39;00m response[\u001b[38;5;124m'\u001b[39m\u001b[38;5;124mBody\u001b[39m\u001b[38;5;124m'\u001b[39m]\u001b[38;5;241m.\u001b[39miter_chunks():\n\u001b[0;32m   1313\u001b[0m             out_file\u001b[38;5;241m.\u001b[39mwrite(chunk)\n\u001b[0;32m   1314\u001b[0m             pbar\u001b[38;5;241m.\u001b[39mupdate(\u001b[38;5;28mlen\u001b[39m(chunk))\n",
      "File \u001b[1;32mc:\\Users\\User\\anaconda3\\Lib\\site-packages\\botocore\\response.py:171\u001b[0m, in \u001b[0;36mStreamingBody.iter_chunks\u001b[1;34m(self, chunk_size)\u001b[0m\n\u001b[0;32m    167\u001b[0m \u001b[38;5;250m\u001b[39m\u001b[38;5;124;03m\"\"\"Return an iterator to yield chunks of chunk_size bytes from the raw\u001b[39;00m\n\u001b[0;32m    168\u001b[0m \u001b[38;5;124;03mstream.\u001b[39;00m\n\u001b[0;32m    169\u001b[0m \u001b[38;5;124;03m\"\"\"\u001b[39;00m\n\u001b[0;32m    170\u001b[0m \u001b[38;5;28;01mwhile\u001b[39;00m \u001b[38;5;28;01mTrue\u001b[39;00m:\n\u001b[1;32m--> 171\u001b[0m     current_chunk \u001b[38;5;241m=\u001b[39m \u001b[38;5;28mself\u001b[39m\u001b[38;5;241m.\u001b[39mread(chunk_size)\n\u001b[0;32m    172\u001b[0m     \u001b[38;5;28;01mif\u001b[39;00m current_chunk \u001b[38;5;241m==\u001b[39m \u001b[38;5;124mb\u001b[39m\u001b[38;5;124m\"\u001b[39m\u001b[38;5;124m\"\u001b[39m:\n\u001b[0;32m    173\u001b[0m         \u001b[38;5;28;01mbreak\u001b[39;00m\n",
      "File \u001b[1;32mc:\\Users\\User\\anaconda3\\Lib\\site-packages\\botocore\\response.py:99\u001b[0m, in \u001b[0;36mStreamingBody.read\u001b[1;34m(self, amt)\u001b[0m\n\u001b[0;32m     94\u001b[0m \u001b[38;5;250m\u001b[39m\u001b[38;5;124;03m\"\"\"Read at most amt bytes from the stream.\u001b[39;00m\n\u001b[0;32m     95\u001b[0m \n\u001b[0;32m     96\u001b[0m \u001b[38;5;124;03mIf the amt argument is omitted, read all data.\u001b[39;00m\n\u001b[0;32m     97\u001b[0m \u001b[38;5;124;03m\"\"\"\u001b[39;00m\n\u001b[0;32m     98\u001b[0m \u001b[38;5;28;01mtry\u001b[39;00m:\n\u001b[1;32m---> 99\u001b[0m     chunk \u001b[38;5;241m=\u001b[39m \u001b[38;5;28mself\u001b[39m\u001b[38;5;241m.\u001b[39m_raw_stream\u001b[38;5;241m.\u001b[39mread(amt)\n\u001b[0;32m    100\u001b[0m \u001b[38;5;28;01mexcept\u001b[39;00m URLLib3ReadTimeoutError \u001b[38;5;28;01mas\u001b[39;00m e:\n\u001b[0;32m    101\u001b[0m     \u001b[38;5;66;03m# TODO: the url will be None as urllib3 isn't setting it yet\u001b[39;00m\n\u001b[0;32m    102\u001b[0m     \u001b[38;5;28;01mraise\u001b[39;00m ReadTimeoutError(endpoint_url\u001b[38;5;241m=\u001b[39me\u001b[38;5;241m.\u001b[39murl, error\u001b[38;5;241m=\u001b[39me)\n",
      "File \u001b[1;32mc:\\Users\\User\\anaconda3\\Lib\\site-packages\\urllib3\\response.py:949\u001b[0m, in \u001b[0;36mHTTPResponse.read\u001b[1;34m(self, amt, decode_content, cache_content)\u001b[0m\n\u001b[0;32m    946\u001b[0m     \u001b[38;5;28;01mif\u001b[39;00m \u001b[38;5;28mlen\u001b[39m(\u001b[38;5;28mself\u001b[39m\u001b[38;5;241m.\u001b[39m_decoded_buffer) \u001b[38;5;241m>\u001b[39m\u001b[38;5;241m=\u001b[39m amt:\n\u001b[0;32m    947\u001b[0m         \u001b[38;5;28;01mreturn\u001b[39;00m \u001b[38;5;28mself\u001b[39m\u001b[38;5;241m.\u001b[39m_decoded_buffer\u001b[38;5;241m.\u001b[39mget(amt)\n\u001b[1;32m--> 949\u001b[0m data \u001b[38;5;241m=\u001b[39m \u001b[38;5;28mself\u001b[39m\u001b[38;5;241m.\u001b[39m_raw_read(amt)\n\u001b[0;32m    951\u001b[0m flush_decoder \u001b[38;5;241m=\u001b[39m amt \u001b[38;5;129;01mis\u001b[39;00m \u001b[38;5;28;01mNone\u001b[39;00m \u001b[38;5;129;01mor\u001b[39;00m (amt \u001b[38;5;241m!=\u001b[39m \u001b[38;5;241m0\u001b[39m \u001b[38;5;129;01mand\u001b[39;00m \u001b[38;5;129;01mnot\u001b[39;00m data)\n\u001b[0;32m    953\u001b[0m \u001b[38;5;28;01mif\u001b[39;00m \u001b[38;5;129;01mnot\u001b[39;00m data \u001b[38;5;129;01mand\u001b[39;00m \u001b[38;5;28mlen\u001b[39m(\u001b[38;5;28mself\u001b[39m\u001b[38;5;241m.\u001b[39m_decoded_buffer) \u001b[38;5;241m==\u001b[39m \u001b[38;5;241m0\u001b[39m:\n",
      "File \u001b[1;32mc:\\Users\\User\\anaconda3\\Lib\\site-packages\\urllib3\\response.py:873\u001b[0m, in \u001b[0;36mHTTPResponse._raw_read\u001b[1;34m(self, amt, read1)\u001b[0m\n\u001b[0;32m    870\u001b[0m fp_closed \u001b[38;5;241m=\u001b[39m \u001b[38;5;28mgetattr\u001b[39m(\u001b[38;5;28mself\u001b[39m\u001b[38;5;241m.\u001b[39m_fp, \u001b[38;5;124m\"\u001b[39m\u001b[38;5;124mclosed\u001b[39m\u001b[38;5;124m\"\u001b[39m, \u001b[38;5;28;01mFalse\u001b[39;00m)\n\u001b[0;32m    872\u001b[0m \u001b[38;5;28;01mwith\u001b[39;00m \u001b[38;5;28mself\u001b[39m\u001b[38;5;241m.\u001b[39m_error_catcher():\n\u001b[1;32m--> 873\u001b[0m     data \u001b[38;5;241m=\u001b[39m \u001b[38;5;28mself\u001b[39m\u001b[38;5;241m.\u001b[39m_fp_read(amt, read1\u001b[38;5;241m=\u001b[39mread1) \u001b[38;5;28;01mif\u001b[39;00m \u001b[38;5;129;01mnot\u001b[39;00m fp_closed \u001b[38;5;28;01melse\u001b[39;00m \u001b[38;5;124mb\u001b[39m\u001b[38;5;124m\"\u001b[39m\u001b[38;5;124m\"\u001b[39m\n\u001b[0;32m    874\u001b[0m     \u001b[38;5;28;01mif\u001b[39;00m amt \u001b[38;5;129;01mis\u001b[39;00m \u001b[38;5;129;01mnot\u001b[39;00m \u001b[38;5;28;01mNone\u001b[39;00m \u001b[38;5;129;01mand\u001b[39;00m amt \u001b[38;5;241m!=\u001b[39m \u001b[38;5;241m0\u001b[39m \u001b[38;5;129;01mand\u001b[39;00m \u001b[38;5;129;01mnot\u001b[39;00m data:\n\u001b[0;32m    875\u001b[0m         \u001b[38;5;66;03m# Platform-specific: Buggy versions of Python.\u001b[39;00m\n\u001b[0;32m    876\u001b[0m         \u001b[38;5;66;03m# Close the connection when no data is returned\u001b[39;00m\n\u001b[1;32m   (...)\u001b[0m\n\u001b[0;32m    881\u001b[0m         \u001b[38;5;66;03m# not properly close the connection in all cases. There is\u001b[39;00m\n\u001b[0;32m    882\u001b[0m         \u001b[38;5;66;03m# no harm in redundantly calling close.\u001b[39;00m\n\u001b[0;32m    883\u001b[0m         \u001b[38;5;28mself\u001b[39m\u001b[38;5;241m.\u001b[39m_fp\u001b[38;5;241m.\u001b[39mclose()\n",
      "File \u001b[1;32mc:\\Users\\User\\anaconda3\\Lib\\site-packages\\urllib3\\response.py:856\u001b[0m, in \u001b[0;36mHTTPResponse._fp_read\u001b[1;34m(self, amt, read1)\u001b[0m\n\u001b[0;32m    853\u001b[0m     \u001b[38;5;28;01mreturn\u001b[39;00m \u001b[38;5;28mself\u001b[39m\u001b[38;5;241m.\u001b[39m_fp\u001b[38;5;241m.\u001b[39mread1(amt) \u001b[38;5;28;01mif\u001b[39;00m amt \u001b[38;5;129;01mis\u001b[39;00m \u001b[38;5;129;01mnot\u001b[39;00m \u001b[38;5;28;01mNone\u001b[39;00m \u001b[38;5;28;01melse\u001b[39;00m \u001b[38;5;28mself\u001b[39m\u001b[38;5;241m.\u001b[39m_fp\u001b[38;5;241m.\u001b[39mread1()\n\u001b[0;32m    854\u001b[0m \u001b[38;5;28;01melse\u001b[39;00m:\n\u001b[0;32m    855\u001b[0m     \u001b[38;5;66;03m# StringIO doesn't like amt=None\u001b[39;00m\n\u001b[1;32m--> 856\u001b[0m     \u001b[38;5;28;01mreturn\u001b[39;00m \u001b[38;5;28mself\u001b[39m\u001b[38;5;241m.\u001b[39m_fp\u001b[38;5;241m.\u001b[39mread(amt) \u001b[38;5;28;01mif\u001b[39;00m amt \u001b[38;5;129;01mis\u001b[39;00m \u001b[38;5;129;01mnot\u001b[39;00m \u001b[38;5;28;01mNone\u001b[39;00m \u001b[38;5;28;01melse\u001b[39;00m \u001b[38;5;28mself\u001b[39m\u001b[38;5;241m.\u001b[39m_fp\u001b[38;5;241m.\u001b[39mread()\n",
      "File \u001b[1;32mc:\\Users\\User\\anaconda3\\Lib\\http\\client.py:479\u001b[0m, in \u001b[0;36mHTTPResponse.read\u001b[1;34m(self, amt)\u001b[0m\n\u001b[0;32m    476\u001b[0m \u001b[38;5;28;01mif\u001b[39;00m \u001b[38;5;28mself\u001b[39m\u001b[38;5;241m.\u001b[39mlength \u001b[38;5;129;01mis\u001b[39;00m \u001b[38;5;129;01mnot\u001b[39;00m \u001b[38;5;28;01mNone\u001b[39;00m \u001b[38;5;129;01mand\u001b[39;00m amt \u001b[38;5;241m>\u001b[39m \u001b[38;5;28mself\u001b[39m\u001b[38;5;241m.\u001b[39mlength:\n\u001b[0;32m    477\u001b[0m     \u001b[38;5;66;03m# clip the read to the \"end of response\"\u001b[39;00m\n\u001b[0;32m    478\u001b[0m     amt \u001b[38;5;241m=\u001b[39m \u001b[38;5;28mself\u001b[39m\u001b[38;5;241m.\u001b[39mlength\n\u001b[1;32m--> 479\u001b[0m s \u001b[38;5;241m=\u001b[39m \u001b[38;5;28mself\u001b[39m\u001b[38;5;241m.\u001b[39mfp\u001b[38;5;241m.\u001b[39mread(amt)\n\u001b[0;32m    480\u001b[0m \u001b[38;5;28;01mif\u001b[39;00m \u001b[38;5;129;01mnot\u001b[39;00m s \u001b[38;5;129;01mand\u001b[39;00m amt:\n\u001b[0;32m    481\u001b[0m     \u001b[38;5;66;03m# Ideally, we would raise IncompleteRead if the content-length\u001b[39;00m\n\u001b[0;32m    482\u001b[0m     \u001b[38;5;66;03m# wasn't satisfied, but it might break compatibility.\u001b[39;00m\n\u001b[0;32m    483\u001b[0m     \u001b[38;5;28mself\u001b[39m\u001b[38;5;241m.\u001b[39m_close_conn()\n",
      "File \u001b[1;32mc:\\Users\\User\\anaconda3\\Lib\\socket.py:708\u001b[0m, in \u001b[0;36mSocketIO.readinto\u001b[1;34m(self, b)\u001b[0m\n\u001b[0;32m    706\u001b[0m \u001b[38;5;28;01mwhile\u001b[39;00m \u001b[38;5;28;01mTrue\u001b[39;00m:\n\u001b[0;32m    707\u001b[0m     \u001b[38;5;28;01mtry\u001b[39;00m:\n\u001b[1;32m--> 708\u001b[0m         \u001b[38;5;28;01mreturn\u001b[39;00m \u001b[38;5;28mself\u001b[39m\u001b[38;5;241m.\u001b[39m_sock\u001b[38;5;241m.\u001b[39mrecv_into(b)\n\u001b[0;32m    709\u001b[0m     \u001b[38;5;28;01mexcept\u001b[39;00m timeout:\n\u001b[0;32m    710\u001b[0m         \u001b[38;5;28mself\u001b[39m\u001b[38;5;241m.\u001b[39m_timeout_occurred \u001b[38;5;241m=\u001b[39m \u001b[38;5;28;01mTrue\u001b[39;00m\n",
      "File \u001b[1;32mc:\\Users\\User\\anaconda3\\Lib\\ssl.py:1252\u001b[0m, in \u001b[0;36mSSLSocket.recv_into\u001b[1;34m(self, buffer, nbytes, flags)\u001b[0m\n\u001b[0;32m   1248\u001b[0m     \u001b[38;5;28;01mif\u001b[39;00m flags \u001b[38;5;241m!=\u001b[39m \u001b[38;5;241m0\u001b[39m:\n\u001b[0;32m   1249\u001b[0m         \u001b[38;5;28;01mraise\u001b[39;00m \u001b[38;5;167;01mValueError\u001b[39;00m(\n\u001b[0;32m   1250\u001b[0m           \u001b[38;5;124m\"\u001b[39m\u001b[38;5;124mnon-zero flags not allowed in calls to recv_into() on \u001b[39m\u001b[38;5;132;01m%s\u001b[39;00m\u001b[38;5;124m\"\u001b[39m \u001b[38;5;241m%\u001b[39m\n\u001b[0;32m   1251\u001b[0m           \u001b[38;5;28mself\u001b[39m\u001b[38;5;241m.\u001b[39m\u001b[38;5;18m__class__\u001b[39m)\n\u001b[1;32m-> 1252\u001b[0m     \u001b[38;5;28;01mreturn\u001b[39;00m \u001b[38;5;28mself\u001b[39m\u001b[38;5;241m.\u001b[39mread(nbytes, buffer)\n\u001b[0;32m   1253\u001b[0m \u001b[38;5;28;01melse\u001b[39;00m:\n\u001b[0;32m   1254\u001b[0m     \u001b[38;5;28;01mreturn\u001b[39;00m \u001b[38;5;28msuper\u001b[39m()\u001b[38;5;241m.\u001b[39mrecv_into(buffer, nbytes, flags)\n",
      "File \u001b[1;32mc:\\Users\\User\\anaconda3\\Lib\\ssl.py:1104\u001b[0m, in \u001b[0;36mSSLSocket.read\u001b[1;34m(self, len, buffer)\u001b[0m\n\u001b[0;32m   1102\u001b[0m \u001b[38;5;28;01mtry\u001b[39;00m:\n\u001b[0;32m   1103\u001b[0m     \u001b[38;5;28;01mif\u001b[39;00m buffer \u001b[38;5;129;01mis\u001b[39;00m \u001b[38;5;129;01mnot\u001b[39;00m \u001b[38;5;28;01mNone\u001b[39;00m:\n\u001b[1;32m-> 1104\u001b[0m         \u001b[38;5;28;01mreturn\u001b[39;00m \u001b[38;5;28mself\u001b[39m\u001b[38;5;241m.\u001b[39m_sslobj\u001b[38;5;241m.\u001b[39mread(\u001b[38;5;28mlen\u001b[39m, buffer)\n\u001b[0;32m   1105\u001b[0m     \u001b[38;5;28;01melse\u001b[39;00m:\n\u001b[0;32m   1106\u001b[0m         \u001b[38;5;28;01mreturn\u001b[39;00m \u001b[38;5;28mself\u001b[39m\u001b[38;5;241m.\u001b[39m_sslobj\u001b[38;5;241m.\u001b[39mread(\u001b[38;5;28mlen\u001b[39m)\n",
      "\u001b[1;31mKeyboardInterrupt\u001b[0m: "
     ]
    },
    {
     "name": "stderr",
     "output_type": "stream",
     "text": [
      "WMB-10Xv3-HY-log2.h5ad:  14%|█▎        | 992M/7.25G [01:50<09:17, 11.2MMB/s]"
     ]
    }
   ],
   "source": [
    "abc_cache.get_data_path(directory='WMB-10Xv3', file_name='WMB-10Xv3-HY/log2')\n",
    "abc_cache.get_data_path(directory='WMB-10Xv3', file_name='WMB-10Xv3-TH/log2')"
   ]
  },
  {
   "cell_type": "code",
   "execution_count": null,
   "id": "b0cb03c3",
   "metadata": {},
   "outputs": [
    {
     "name": "stderr",
     "output_type": "stream",
     "text": [
      "WMB-10Xv2-OLF-log2.h5ad: 100%|██████████| 5.13G/5.13G [08:25<00:00, 10.1MMB/s]     \n",
      "WMB-10Xv2-CTXsp-log2.h5ad: 100%|██████████| 1.74G/1.74G [03:01<00:00, 9.58MMB/s]    \n"
     ]
    },
    {
     "data": {
      "text/plain": [
       "WindowsPath('F:/Vital Stuff/Εργασίες Σχολείου/The dreadful present/Μαστερ/Μαστερ Εξάμηνο 2ο/Machine Learning in Computational Biology/Project/FinalProject/MLKinCompBioFinalProject/data/abc_atlas/expression_matrices/WMB-10Xv2/20230630/WMB-10Xv2-CTXsp-log2.h5ad')"
      ]
     },
     "execution_count": 12,
     "metadata": {},
     "output_type": "execute_result"
    }
   ],
   "source": [
    "abc_cache.get_data_path(directory='WMB-10Xv2', file_name='WMB-10Xv2-HY/log2')\n",
    "abc_cache.get_data_path(directory='WMB-10Xv2', file_name='WMB-10Xv2-TH/log2')"
   ]
  },
  {
   "cell_type": "code",
   "execution_count": null,
   "id": "bbdfd298",
   "metadata": {},
   "outputs": [],
   "source": [
    "# adata= anndata.read_h5ad(\"./data/WMB-10Xv3-CTXsp-log2.h5ad\",backed='r')\n",
    "\n",
    "# print(adata)\n",
    "\n",
    "# print(adata.X)\n",
    "# print(adata.obs.head())\n",
    "\n",
    "# sc.tl.umap(adata)\n",
    "# sc.pl.umap(adata=adata,color=\"cell_type\")"
   ]
  },
  {
   "cell_type": "code",
   "execution_count": null,
   "id": "7007a174",
   "metadata": {},
   "outputs": [],
   "source": [
    "# adata= sc.read_h5ad(\"./data/WMB-10Xv3-CTXsp-raw.h5ad\")\n",
    "\n",
    "# print(adata.X)\n",
    "# print(adata.obs.head())"
   ]
  },
  {
   "cell_type": "code",
   "execution_count": null,
   "id": "c0bbd986",
   "metadata": {},
   "outputs": [],
   "source": [
    "# adata= sc.read_h5ad(\"./data/WMB-10Xv3-OLF-raw.h5ad\")\n",
    "\n",
    "# print(adata.X)\n",
    "# print(adata.obs.head())"
   ]
  },
  {
   "cell_type": "code",
   "execution_count": null,
   "id": "52bbe7d3",
   "metadata": {},
   "outputs": [],
   "source": [
    "# adata= sc.read_h5ad(\"./data/WMB-10Xv3-OLF-log2.h5ad\")\n",
    "\n",
    "# print(adata.X)\n",
    "# print(adata.obs.head())"
   ]
  },
  {
   "cell_type": "code",
   "execution_count": null,
   "id": "0cee688b",
   "metadata": {},
   "outputs": [
    {
     "data": {
      "text/html": [
       "<div>\n",
       "<style scoped>\n",
       "    .dataframe tbody tr th:only-of-type {\n",
       "        vertical-align: middle;\n",
       "    }\n",
       "\n",
       "    .dataframe tbody tr th {\n",
       "        vertical-align: top;\n",
       "    }\n",
       "\n",
       "    .dataframe thead th {\n",
       "        text-align: right;\n",
       "    }\n",
       "</style>\n",
       "<table border=\"1\" class=\"dataframe\">\n",
       "  <thead>\n",
       "    <tr style=\"text-align: right;\">\n",
       "      <th></th>\n",
       "      <th>acronym</th>\n",
       "      <th>label</th>\n",
       "      <th>name</th>\n",
       "      <th>order</th>\n",
       "      <th>color_hex_triplet</th>\n",
       "    </tr>\n",
       "  </thead>\n",
       "  <tbody>\n",
       "    <tr>\n",
       "      <th>0</th>\n",
       "      <td>MO-FRP</td>\n",
       "      <td>WMB-MO-FRP</td>\n",
       "      <td>Somatomotor - Frontal pole</td>\n",
       "      <td>0</td>\n",
       "      <td>#3DCC7C</td>\n",
       "    </tr>\n",
       "    <tr>\n",
       "      <th>1</th>\n",
       "      <td>MOp</td>\n",
       "      <td>WMB-MOp</td>\n",
       "      <td>Primary motor area</td>\n",
       "      <td>1</td>\n",
       "      <td>#179968</td>\n",
       "    </tr>\n",
       "    <tr>\n",
       "      <th>2</th>\n",
       "      <td>SS-GU-VISC</td>\n",
       "      <td>WMB-SS-GU-VISC</td>\n",
       "      <td>Somatosensory/gustatory/visceral areas</td>\n",
       "      <td>2</td>\n",
       "      <td>#2E8599</td>\n",
       "    </tr>\n",
       "    <tr>\n",
       "      <th>3</th>\n",
       "      <td>SSp</td>\n",
       "      <td>WMB-SSp</td>\n",
       "      <td>Primary somatosensory area</td>\n",
       "      <td>3</td>\n",
       "      <td>#5CCCCC</td>\n",
       "    </tr>\n",
       "    <tr>\n",
       "      <th>4</th>\n",
       "      <td>AUD</td>\n",
       "      <td>WMB-AUD</td>\n",
       "      <td>Auditory areas</td>\n",
       "      <td>4</td>\n",
       "      <td>#455A99</td>\n",
       "    </tr>\n",
       "  </tbody>\n",
       "</table>\n",
       "</div>"
      ],
      "text/plain": [
       "      acronym           label                                    name  order  \\\n",
       "0      MO-FRP      WMB-MO-FRP              Somatomotor - Frontal pole      0   \n",
       "1         MOp         WMB-MOp                      Primary motor area      1   \n",
       "2  SS-GU-VISC  WMB-SS-GU-VISC  Somatosensory/gustatory/visceral areas      2   \n",
       "3         SSp         WMB-SSp              Primary somatosensory area      3   \n",
       "4         AUD         WMB-AUD                          Auditory areas      4   \n",
       "\n",
       "  color_hex_triplet  \n",
       "0           #3DCC7C  \n",
       "1           #179968  \n",
       "2           #2E8599  \n",
       "3           #5CCCCC  \n",
       "4           #455A99  "
      ]
     },
     "execution_count": 17,
     "metadata": {},
     "output_type": "execute_result"
    }
   ],
   "source": [
    "metadf=pd.read_csv(\"./data/abc_atlas/metadata/WMB-10X/20230630/region_of_interest_metadata.csv\")\n",
    "metadf.head()"
   ]
  }
 ],
 "metadata": {
  "kernelspec": {
   "display_name": "base",
   "language": "python",
   "name": "python3"
  },
  "language_info": {
   "codemirror_mode": {
    "name": "ipython",
    "version": 3
   },
   "file_extension": ".py",
   "mimetype": "text/x-python",
   "name": "python",
   "nbconvert_exporter": "python",
   "pygments_lexer": "ipython3",
   "version": "3.12.4"
  }
 },
 "nbformat": 4,
 "nbformat_minor": 5
}
