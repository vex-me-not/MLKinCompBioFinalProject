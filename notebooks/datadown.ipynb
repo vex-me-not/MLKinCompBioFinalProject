{
 "cells": [
  {
   "cell_type": "code",
   "execution_count": null,
   "id": "7c274d4a",
   "metadata": {},
   "outputs": [],
   "source": [
    "import sys\n",
    "import os"
   ]
  },
  {
   "cell_type": "markdown",
   "id": "64df77cc",
   "metadata": {},
   "source": [
    "Uncomment the cell below if you run this notebook for the first time"
   ]
  },
  {
   "cell_type": "code",
   "execution_count": null,
   "id": "2ecff99b",
   "metadata": {},
   "outputs": [],
   "source": [
    "# %pip install \"abc_atlas_access[notebooks] @ git+https://github.com/alleninstitute/abc_atlas_access.git\""
   ]
  },
  {
   "cell_type": "markdown",
   "id": "a873c883",
   "metadata": {},
   "source": [
    "We append our to working path the ../src path, where functions.py lies"
   ]
  },
  {
   "cell_type": "code",
   "execution_count": null,
   "id": "109f8a88",
   "metadata": {},
   "outputs": [
    {
     "name": "stdout",
     "output_type": "stream",
     "text": [
      "f:\\Vital Stuff\\Εργασίες Σχολείου\\The dreadful present\\Μαστερ\\Μαστερ Εξάμηνο 2ο\\Machine Learning in Computational Biology\\Project\\FinalProject\\MLKinCompBioFinalProject\n"
     ]
    }
   ],
   "source": [
    "\n",
    "# need to be able to import src\n",
    "sys.path.append(os.path.abspath(os.path.join(os.getcwd(), \"..\")))\n",
    "\n",
    "# absolute path to the src directory\n",
    "src_path = os.path.abspath(\"../src\")\n",
    "\n",
    "# Add src directory to system path\n",
    "sys.path.append(src_path)\n",
    "\n",
    "# get the /MLCBAss1/Assignment-1 path\n",
    "ass_path=sys.path[-2]\n",
    "\n",
    "print(ass_path)"
   ]
  },
  {
   "cell_type": "code",
   "execution_count": null,
   "id": "cbba8c83",
   "metadata": {},
   "outputs": [],
   "source": [
    "%load_ext autoreload\n",
    "%autoreload 2\n",
    "\n",
    "from functions import *"
   ]
  },
  {
   "cell_type": "code",
   "execution_count": null,
   "id": "3525ab0e",
   "metadata": {},
   "outputs": [
    {
     "name": "stdout",
     "output_type": "stream",
     "text": [
      "Current manifest is  releases/20230630/manifest.json\n",
      "All available manifests:  ['releases/20230630/manifest.json', 'releases/20230830/manifest.json', 'releases/20231215/manifest.json', 'releases/20240330/manifest.json', 'releases/20240831/manifest.json', 'releases/20241115/manifest.json', 'releases/20241130/manifest.json', 'releases/20250131/manifest.json', 'releases/20250331/manifest.json', 'releases/20250531/manifest.json']\n",
      "We will be using manifest : releases/20230630/manifest.json\n",
      "All available data directories: ['Allen-CCF-2020', 'MERFISH-C57BL6J-638850', 'MERFISH-C57BL6J-638850-CCF', 'MERFISH-C57BL6J-638850-sections', 'WMB-10X', 'WMB-10Xv2', 'WMB-10Xv3', 'WMB-neighborhoods', 'WMB-taxonomy']\n",
      "Directories to be used: ['WMB-10Xv3', 'WMB-10Xv2']\n",
      "All available data files of WMB-10Xv3 directory: ['WMB-10Xv3-CB/log2', 'WMB-10Xv3-CB/raw', 'WMB-10Xv3-CTXsp/log2', 'WMB-10Xv3-CTXsp/raw', 'WMB-10Xv3-HPF/log2', 'WMB-10Xv3-HPF/raw', 'WMB-10Xv3-HY/log2', 'WMB-10Xv3-HY/raw', 'WMB-10Xv3-Isocortex-1/log2', 'WMB-10Xv3-Isocortex-1/raw', 'WMB-10Xv3-Isocortex-2/log2', 'WMB-10Xv3-Isocortex-2/raw', 'WMB-10Xv3-MB/log2', 'WMB-10Xv3-MB/raw', 'WMB-10Xv3-MY/log2', 'WMB-10Xv3-MY/raw', 'WMB-10Xv3-OLF/log2', 'WMB-10Xv3-OLF/raw', 'WMB-10Xv3-P/log2', 'WMB-10Xv3-P/raw', 'WMB-10Xv3-PAL/log2', 'WMB-10Xv3-PAL/raw', 'WMB-10Xv3-STR/log2', 'WMB-10Xv3-STR/raw', 'WMB-10Xv3-TH/log2', 'WMB-10Xv3-TH/raw']\n",
      "All available data files of WMB-10Xv2 directory: ['WMB-10Xv2-CTXsp/log2', 'WMB-10Xv2-CTXsp/raw', 'WMB-10Xv2-HPF/log2', 'WMB-10Xv2-HPF/raw', 'WMB-10Xv2-HY/log2', 'WMB-10Xv2-HY/raw', 'WMB-10Xv2-Isocortex-1/log2', 'WMB-10Xv2-Isocortex-1/raw', 'WMB-10Xv2-Isocortex-2/log2', 'WMB-10Xv2-Isocortex-2/raw', 'WMB-10Xv2-Isocortex-3/log2', 'WMB-10Xv2-Isocortex-3/raw', 'WMB-10Xv2-Isocortex-4/log2', 'WMB-10Xv2-Isocortex-4/raw', 'WMB-10Xv2-MB/log2', 'WMB-10Xv2-MB/raw', 'WMB-10Xv2-OLF/log2', 'WMB-10Xv2-OLF/raw', 'WMB-10Xv2-TH/log2', 'WMB-10Xv2-TH/raw']\n",
      "Metadata to be used: ['cell_metadata', 'cell_metadata_with_cluster_annotation', 'example_genes_all_cells_expression', 'gene', 'region_of_interest_metadata']\n",
      "Downloading the metadata\n",
      "\n",
      "Dowloading the WMB-10Xv3 data file for brain part : HY\n",
      "Dowloading the WMB-10Xv3 data file for brain part : TH\n",
      "Dowloading the WMB-10Xv2 data file for brain part : HY\n",
      "Dowloading the WMB-10Xv2 data file for brain part : TH\n"
     ]
    }
   ],
   "source": [
    "download_data(brain_parts=['HY','TH'],directories_to_use=['WMB-10Xv3','WMB-10Xv2'],metadata_to_use='WMB-10X')"
   ]
  }
 ],
 "metadata": {
  "kernelspec": {
   "display_name": "base",
   "language": "python",
   "name": "python3"
  },
  "language_info": {
   "codemirror_mode": {
    "name": "ipython",
    "version": 3
   },
   "file_extension": ".py",
   "mimetype": "text/x-python",
   "name": "python",
   "nbconvert_exporter": "python",
   "pygments_lexer": "ipython3",
   "version": "3.12.4"
  }
 },
 "nbformat": 4,
 "nbformat_minor": 5
}
