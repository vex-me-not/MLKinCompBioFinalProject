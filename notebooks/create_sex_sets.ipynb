{
 "cells": [
  {
   "cell_type": "code",
   "execution_count": null,
   "id": "c4f92a3a",
   "metadata": {},
   "outputs": [],
   "source": [
    "import sys\n",
    "import os"
   ]
  },
  {
   "cell_type": "code",
   "execution_count": 2,
   "id": "77059020",
   "metadata": {},
   "outputs": [
    {
     "name": "stdout",
     "output_type": "stream",
     "text": [
      "f:\\Vital Stuff\\Εργασίες Σχολείου\\The dreadful present\\Μαστερ\\Μαστερ Εξάμηνο 2ο\\Machine Learning in Computational Biology\\Project\\FinalProject\\MLKinCompBioFinalProject\n"
     ]
    }
   ],
   "source": [
    "# need to be able to import src\n",
    "sys.path.append(os.path.abspath(os.path.join(os.getcwd(), \"..\")))\n",
    "\n",
    "# absolute path to the src directory\n",
    "src_path = os.path.abspath(\"../src\")\n",
    "\n",
    "# Add src directory to system path\n",
    "sys.path.append(src_path)\n",
    "\n",
    "# get the /MLCBAss1/Assignment-1 path\n",
    "ass_path=sys.path[-2]\n",
    "\n",
    "print(ass_path)"
   ]
  },
  {
   "cell_type": "code",
   "execution_count": 3,
   "id": "2d109ae9",
   "metadata": {},
   "outputs": [],
   "source": [
    "%load_ext autoreload\n",
    "%autoreload 2\n",
    "\n",
    "from functions import *"
   ]
  },
  {
   "cell_type": "code",
   "execution_count": 4,
   "id": "b4236b2d",
   "metadata": {},
   "outputs": [],
   "source": [
    "META_PATH='../data/abc_atlas/metadata/WMB-10X/20230630/cell_metadata.csv'"
   ]
  },
  {
   "cell_type": "code",
   "execution_count": 9,
   "id": "7ab96c85",
   "metadata": {},
   "outputs": [],
   "source": [
    "get_sexes(area='HY',experiment='WMB-10Xv2',metadata_path=META_PATH)\n",
    "get_sexes(area='HY',experiment='WMB-10Xv3',metadata_path=META_PATH)\n",
    "get_sexes(area='TH',experiment='WMB-10Xv2',metadata_path=META_PATH)\n",
    "get_sexes(area='TH',experiment='WMB-10Xv3',metadata_path=META_PATH)"
   ]
  },
  {
   "cell_type": "code",
   "execution_count": null,
   "id": "0beb2165",
   "metadata": {},
   "outputs": [],
   "source": [
    "save_encoded_sex(area='HY',experiment='WMB-10Xv2',sexes_path='../data/WMB-10Xv2_sexes_HY.csv')\n",
    "save_encoded_sex(area='HY',experiment='WMB-10Xv3',sexes_path='../data/WMB-10Xv3_sexes_HY.csv')\n",
    "save_encoded_sex(area='TH',experiment='WMB-10Xv2',sexes_path='../data/WMB-10Xv2_sexes_TH.csv')\n",
    "save_encoded_sex(area='TH',experiment='WMB-10Xv3',sexes_path='../data/WMB-10Xv3_sexes_TH.csv')"
   ]
  },
  {
   "cell_type": "code",
   "execution_count": 24,
   "id": "c990bd6f",
   "metadata": {},
   "outputs": [],
   "source": [
    "create_sexed_adata(adata_path='../data/abc_atlas/expression_matrices/WMB-10Xv2/20230630/WMB-10Xv2-HY-log2.h5ad',\n",
    "                   encoded_sex_path='../data/WMB-10Xv2ENCODED_sexes_HY.csv',\n",
    "                   dest_path='../data/abc_atlas/expression_matrices/WMB-10Xv2/20230630/WMB-10Xv2-SEX-HY-log2.h5ad')\n",
    "\n",
    "create_sexed_adata(adata_path='../data/abc_atlas/expression_matrices/WMB-10Xv3/20230630/WMB-10Xv3-HY-log2.h5ad',\n",
    "                   encoded_sex_path='../data/WMB-10Xv3ENCODED_sexes_HY.csv',\n",
    "                   dest_path='../data/abc_atlas/expression_matrices/WMB-10Xv3/20230630/WMB-10Xv3-SEX-HY-log2.h5ad')\n",
    "\n",
    "create_sexed_adata(adata_path='../data/abc_atlas/expression_matrices/WMB-10Xv2/20230630/WMB-10Xv2-TH-log2.h5ad',\n",
    "                   encoded_sex_path='../data/WMB-10Xv2ENCODED_sexes_TH.csv',\n",
    "                   dest_path='../data/abc_atlas/expression_matrices/WMB-10Xv2/20230630/WMB-10Xv2-SEX-TH-log2.h5ad')\n",
    "\n",
    "create_sexed_adata(adata_path='../data/abc_atlas/expression_matrices/WMB-10Xv3/20230630/WMB-10Xv3-TH-log2.h5ad',\n",
    "                   encoded_sex_path='../data/WMB-10Xv3ENCODED_sexes_TH.csv',\n",
    "                   dest_path='../data/abc_atlas/expression_matrices/WMB-10Xv3/20230630/WMB-10Xv3-SEX-TH-log2.h5ad')"
   ]
  },
  {
   "cell_type": "code",
   "execution_count": null,
   "id": "20e9b9db",
   "metadata": {},
   "outputs": [
    {
     "name": "stdout",
     "output_type": "stream",
     "text": [
      "AnnData object with n_obs × n_vars = 10000 × 32285\n",
      "    obs: 'cell_barcode', 'library_label', 'anatomical_division_label', 'sex'\n",
      "    var: 'gene_symbol'\n",
      "    uns: 'normalization', 'parent', 'parent_layer', 'parent_rows'\n",
      "AnnData object with n_obs × n_vars = 10000 × 32285\n",
      "    obs: 'cell_barcode', 'library_label', 'anatomical_division_label', 'sex'\n",
      "    var: 'gene_symbol'\n",
      "    uns: 'normalization', 'parent', 'parent_layer', 'parent_rows'\n"
     ]
    }
   ],
   "source": [
    "# We create the 10k subsets for training\n",
    "\n",
    "path_list=[\"../data/abc_atlas/expression_matrices/WMB-10Xv3/20230630/WMB-10Xv3-SEX-HY-log2.h5ad\",\n",
    "           \"../data/abc_atlas/expression_matrices/WMB-10Xv3/20230630/WMB-10Xv3-SEX-TH-log2.h5ad\"\n",
    "           ]\n",
    "\n",
    "for path in path_list:\n",
    "\n",
    "    adata = sc.read_h5ad(path)\n",
    "\n",
    "    # Set number of cells to keep (e.g., 10,000)\n",
    "    n_cells = 10000\n",
    "    np.random.seed(42)  # for reproducibility\n",
    "\n",
    "    # Randomly select cell indices\n",
    "    random_indices, _ = train_test_split(\n",
    "        np.arange(adata.n_obs),\n",
    "        train_size=n_cells,\n",
    "        stratify=adata.obs['sex'],\n",
    "        random_state=42 \n",
    "    )\n",
    "\n",
    "    # Create the subset\n",
    "    adata_subset = adata[random_indices, :].copy()\n",
    "\n",
    "    print(adata_subset)\n",
    "\n",
    "    if \"WMB-10Xv3-SEX-HY-log2.h5ad\" in path:\n",
    "        adata_subset.write(\"../data/abc_atlas/expression_matrices/WMB-10Xv3/20230630/WMB-10Xv3-HY-log2_SEX_subset_10k_cells.h5ad\")\n",
    "    elif \"WMB-10Xv3-SEX-TH-log2.h5ad\" in path:\n",
    "        adata_subset.write(\"../data/abc_atlas/expression_matrices/WMB-10Xv3/20230630/WMB-10Xv3-TH-log2_SEX_subset_10k_cells.h5ad\")\n",
    "    \n",
    "    del adata, adata_subset,random_indices\n",
    "    gc.collect()"
   ]
  },
  {
   "cell_type": "code",
   "execution_count": null,
   "id": "f8e08716",
   "metadata": {},
   "outputs": [
    {
     "name": "stdout",
     "output_type": "stream",
     "text": [
      "AnnData object with n_obs × n_vars = 3000 × 32285\n",
      "    obs: 'cell_barcode', 'library_label', 'anatomical_division_label', 'sex'\n",
      "    var: 'gene_symbol'\n",
      "    uns: 'normalization', 'parent', 'parent_layer', 'parent_rows'\n",
      "AnnData object with n_obs × n_vars = 3000 × 32285\n",
      "    obs: 'cell_barcode', 'library_label', 'anatomical_division_label', 'sex'\n",
      "    var: 'gene_symbol'\n",
      "    uns: 'normalization', 'parent', 'parent_layer', 'parent_rows'\n"
     ]
    }
   ],
   "source": [
    "# We create the 3k subsets for testing\n",
    "\n",
    "path_list=[\"../data/abc_atlas/expression_matrices/WMB-10Xv2/20230630/WMB-10Xv2-SEX-HY-log2.h5ad\",\n",
    "           \"../data/abc_atlas/expression_matrices/WMB-10Xv2/20230630/WMB-10Xv2-SEX-TH-log2.h5ad\"\n",
    "           ]\n",
    "\n",
    "for path in path_list:\n",
    "\n",
    "    adata = sc.read_h5ad(path)\n",
    "\n",
    "    # Set number of cells to keep (e.g., 3,000)\n",
    "    n_cells = 3000\n",
    "    np.random.seed(42)  # for reproducibility\n",
    "\n",
    "    # Randomly select cell indices\n",
    "    random_indices, _ = train_test_split(\n",
    "        np.arange(adata.n_obs),\n",
    "        train_size=n_cells,\n",
    "        stratify=adata.obs['sex'],\n",
    "        random_state=42 \n",
    "    )\n",
    "\n",
    "    # Create the subset\n",
    "    adata_subset = adata[random_indices, :].copy()\n",
    "\n",
    "    print(adata_subset)\n",
    "\n",
    "    if \"WMB-10Xv2-SEX-HY-log2.h5ad\" in path:\n",
    "        adata_subset.write(\"../data/abc_atlas/expression_matrices/WMB-10Xv2/20230630/WMB-10Xv2-HY-log2_SEX_subset_3k_cells.h5ad\")\n",
    "    elif \"WMB-10Xv2-SEX-TH-log2.h5ad\" in path:\n",
    "        adata_subset.write(\"../data/abc_atlas/expression_matrices/WMB-10Xv2/20230630/WMB-10Xv2-TH-log2_SEX_subset_3k_cells.h5ad\")\n",
    "    \n",
    "    del adata, adata_subset,random_indices\n",
    "    gc.collect()"
   ]
  },
  {
   "cell_type": "code",
   "execution_count": null,
   "id": "5f3aec08",
   "metadata": {},
   "outputs": [
    {
     "name": "stdout",
     "output_type": "stream",
     "text": [
      "AnnData object with n_obs × n_vars = 3000 × 32285\n",
      "    obs: 'cell_barcode', 'library_label', 'anatomical_division_label', 'sex'\n",
      "    var: 'gene_symbol'\n",
      "    uns: 'normalization', 'parent', 'parent_layer', 'parent_rows'\n",
      "AnnData object with n_obs × n_vars = 3000 × 32285\n",
      "    obs: 'cell_barcode', 'library_label', 'anatomical_division_label', 'sex'\n",
      "    var: 'gene_symbol'\n",
      "    uns: 'normalization', 'parent', 'parent_layer', 'parent_rows'\n"
     ]
    }
   ],
   "source": [
    "path_list=[\"../data/abc_atlas/expression_matrices/WMB-10Xv3/20230630/WMB-10Xv3-SEX-HY-log2.h5ad\",\n",
    "           \"../data/abc_atlas/expression_matrices/WMB-10Xv3/20230630/WMB-10Xv3-SEX-TH-log2.h5ad\"\n",
    "           ]\n",
    "\n",
    "for path in path_list:\n",
    "\n",
    "    adata = sc.read_h5ad(path)\n",
    "\n",
    "    # Set number of cells to keep (e.g., 3,000)\n",
    "    n_cells = 3000\n",
    "    np.random.seed(42)  # for reproducibility\n",
    "\n",
    "    # Randomly select cell indices\n",
    "    # Stratified random sampling of 3k cells\n",
    "    random_indices, _ = train_test_split(\n",
    "        np.arange(adata.n_obs),\n",
    "        train_size=n_cells,\n",
    "        stratify=adata.obs['sex'],\n",
    "        random_state=42 \n",
    "    )\n",
    "\n",
    "    # Create the subset\n",
    "    adata_subset = adata[random_indices, :].copy()\n",
    "\n",
    "    print(adata_subset)\n",
    "\n",
    "    if \"WMB-10Xv3-SEX-HY-log2.h5ad\" in path:\n",
    "        adata_subset.write(\"../data/abc_atlas/expression_matrices/WMB-10Xv3/20230630/WMB-10Xv3-HY-log2_SEX_subset_3k_cells.h5ad\")\n",
    "    elif \"WMB-10Xv3-SEX-TH-log2.h5ad\" in path:\n",
    "        adata_subset.write(\"../data/abc_atlas/expression_matrices/WMB-10Xv3/20230630/WMB-10Xv3-TH-log2_SEX_subset_3k_cells.h5ad\")\n",
    "    \n",
    "    del adata, adata_subset,random_indices\n",
    "    gc.collect()"
   ]
  }
 ],
 "metadata": {
  "kernelspec": {
   "display_name": "base",
   "language": "python",
   "name": "python3"
  },
  "language_info": {
   "codemirror_mode": {
    "name": "ipython",
    "version": 3
   },
   "file_extension": ".py",
   "mimetype": "text/x-python",
   "name": "python",
   "nbconvert_exporter": "python",
   "pygments_lexer": "ipython3",
   "version": "3.12.4"
  }
 },
 "nbformat": 4,
 "nbformat_minor": 5
}
