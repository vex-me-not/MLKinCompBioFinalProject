{
 "cells": [
  {
   "cell_type": "code",
   "execution_count": null,
   "id": "d328b439",
   "metadata": {},
   "outputs": [],
   "source": [
    "import sys\n",
    "import os\n",
    "\n",
    "\n",
    "sys.path.append(os.path.abspath(os.path.join(os.getcwd(), \"..\")))\n",
    "print(sys.path[-1])"
   ]
  },
  {
   "cell_type": "code",
   "execution_count": null,
   "id": "7b789a08",
   "metadata": {},
   "outputs": [],
   "source": [
    "BASE_DIR = os.path.abspath(os.path.join(os.getcwd(), \"..\"))\n",
    "DATA_DIR = os.path.join(BASE_DIR, \"data\")\n",
    "H5AD_V2_DIR = os.path.join(\n",
    "    DATA_DIR, \"abc_atlas\", \"expression_matrices\", \"WMB-10Xv2\", \"20230630\"\n",
    ")\n",
    "H5AD_V3_DIR = os.path.join(\n",
    "    DATA_DIR, \"abc_atlas\", \"expression_matrices\", \"WMB-10Xv3\", \"20230630\"\n",
    ")\n",
    "\n",
    "\n",
    "print(f\"{'BASE_DIR':<15}{BASE_DIR}\")\n",
    "print(f\"{'DATA_DIR':<15}{DATA_DIR}\")\n",
    "print(f\"{'H5AD_V2_DIR':<15}{H5AD_V2_DIR}\")\n",
    "print(f\"{'H5AD_V3_DIR':<15}{H5AD_V3_DIR}\")"
   ]
  },
  {
   "cell_type": "code",
   "execution_count": null,
   "id": "e203f3dc",
   "metadata": {},
   "outputs": [],
   "source": [
    "hy_v2_path = os.path.join(\n",
    "    H5AD_V2_DIR,\n",
    "    \"WMB-10Xv2-HY-log2.h5ad\"\n",
    ")\n",
    "hy_v3_path = os.path.join(\n",
    "    H5AD_V3_DIR,\n",
    "    \"WMB-10Xv3-HY-log2.h5ad\"\n",
    ")\n",
    "\n",
    "print(f\"{'hy_v2_path':<15}{hy_v2_path}\")\n",
    "print(f\"{'hy_v3_path':<15}{hy_v3_path}\")"
   ]
  },
  {
   "cell_type": "code",
   "execution_count": null,
   "id": "39f25291",
   "metadata": {},
   "outputs": [],
   "source": [
    "from src.utils import load_data\n",
    "from src.clustering import ClusteringOptimization\n",
    "\n",
    "import scanpy as sc\n",
    "import matplotlib.pyplot as plt"
   ]
  },
  {
   "cell_type": "code",
   "execution_count": null,
   "id": "ff6fed84",
   "metadata": {},
   "outputs": [],
   "source": [
    "hy_v2 = load_data(hy_v2_path, backed=\"r\")\n",
    "hy_v3 = load_data(hy_v3_path, backed=\"r\")"
   ]
  },
  {
   "cell_type": "code",
   "execution_count": null,
   "id": "2f25e7ed",
   "metadata": {},
   "outputs": [],
   "source": [
    "adata = hy_v2.to_memory()\n",
    "\n",
    "optimizer = ClusteringOptimization(\n",
    "    adata=adata,\n",
    "    genes_to_clust=(\"top\", 2_500), # Use fewer genes for speed\n",
    "    n_pcs=15, # Specify PCs, or leave as None to auto-detect\n",
    "    tune_dbscan=True,\n",
    "    tune_leiden=True,\n",
    "    tune_neighbors=True,\n",
    ")\n",
    "optimizer.run_optimization(n_trials=30) \n",
    "best_params = optimizer.get_best_params()\n",
    "final_adata = optimizer.apply_best_params()\n",
    "print(\"\\n--- Visualizing Final Results ---\")\n",
    "fig, axes = plt.subplots(1, 2, figsize=(14, 6))\n",
    "\n",
    "sc.pl.umap(\n",
    "    final_adata, \n",
    "    color='dbscan_labels', \n",
    "    ax=axes[0], \n",
    "    show=False, \n",
    "    frameon=False,\n",
    "    title='DBSCAN Noise Detection (All Cells)'\n",
    ")\n",
    "\n",
    "sc.pl.umap(\n",
    "    final_adata, \n",
    "    color='optimized_leiden', \n",
    "    ax=axes[1], \n",
    "    show=False, \n",
    "    frameon=False,\n",
    "    title='Optimized Leiden (Noise Removed)',\n",
    "    na_color='lightgray' # Color for the 'Filtered_Out_Noise' cells\n",
    ")\n",
    "\n",
    "plt.tight_layout()\n",
    "plt.show()\n",
    "\n",
    "\n",
    "adata_clean = final_adata[final_adata.obs['optimized_leiden'] != 'Filtered_Out_Noise'].copy()\n",
    "sc.pl.umap(adata_clean, color='optimized_leiden', title='Optimized Leiden (Filtered View)')\n"
   ]
  }
 ],
 "metadata": {
  "kernelspec": {
   "display_name": ".env",
   "language": "python",
   "name": "python3"
  },
  "language_info": {
   "codemirror_mode": {
    "name": "ipython",
    "version": 3
   },
   "file_extension": ".py",
   "mimetype": "text/x-python",
   "name": "python",
   "nbconvert_exporter": "python",
   "pygments_lexer": "ipython3",
   "version": "3.12.3"
  }
 },
 "nbformat": 4,
 "nbformat_minor": 5
}
