{
 "cells": [
  {
   "cell_type": "code",
   "execution_count": 23,
   "id": "ac03c280",
   "metadata": {},
   "outputs": [],
   "source": [
    "import sys\n",
    "import os\n",
    "\n",
    "from pathlib import Path"
   ]
  },
  {
   "cell_type": "code",
   "execution_count": 24,
   "id": "7ae869e8",
   "metadata": {},
   "outputs": [
    {
     "name": "stdout",
     "output_type": "stream",
     "text": [
      "f:\\Vital Stuff\\Εργασίες Σχολείου\\The dreadful present\\Μαστερ\\Μαστερ Εξάμηνο 2ο\\Machine Learning in Computational Biology\\Project\\FinalProject\\MLKinCompBioFinalProject\n"
     ]
    }
   ],
   "source": [
    "# need to be able to import src\n",
    "sys.path.append(os.path.abspath(os.path.join(os.getcwd(), \"..\")))\n",
    "\n",
    "# absolute path to the src directory\n",
    "src_path = os.path.abspath(\"../src\")\n",
    "\n",
    "# Add src directory to system path\n",
    "sys.path.append(src_path)\n",
    "\n",
    "# get the /MLCBAss1/Assignment-1 path\n",
    "ass_path=sys.path[-2]\n",
    "\n",
    "print(ass_path)"
   ]
  },
  {
   "cell_type": "code",
   "execution_count": 25,
   "id": "01c93d71",
   "metadata": {},
   "outputs": [
    {
     "name": "stdout",
     "output_type": "stream",
     "text": [
      "The autoreload extension is already loaded. To reload it, use:\n",
      "  %reload_ext autoreload\n"
     ]
    }
   ],
   "source": [
    "%load_ext autoreload\n",
    "%autoreload 2\n",
    "\n",
    "from functions import *"
   ]
  },
  {
   "cell_type": "code",
   "execution_count": null,
   "id": "b520e03f",
   "metadata": {},
   "outputs": [
    {
     "name": "stdout",
     "output_type": "stream",
     "text": [
      "Index(['ENSMUSG00000025902', 'ENSMUSG00000104238', 'ENSMUSG00000002459',\n",
      "       'ENSMUSG00000067879', 'ENSMUSG00000097893', 'ENSMUSG00000042501',\n",
      "       'ENSMUSG00000048960', 'ENSMUSG00000067813', 'ENSMUSG00000025932',\n",
      "       'ENSMUSG00000025776',\n",
      "       ...\n",
      "       'ENSMUSG00000044583', 'ENSMUSG00000031355', 'ENSMUSG00000072844',\n",
      "       'ENSMUSG00000053211', 'ENSMUSG00000101243', 'ENSMUSG00000101399',\n",
      "       'ENSMUSG00000100809', 'ENSMUSG00000096902', 'ENSMUSG00000102045',\n",
      "       'ENSMUSG00000079222'],\n",
      "      dtype='object', name='gene_identifier', length=2000)\n",
      "gene_identifier  ENSMUSG00000025902  ENSMUSG00000104238  ENSMUSG00000002459  \\\n",
      "0                          9.380745                 0.0            0.000000   \n",
      "1                          0.000000                 0.0            4.987968   \n",
      "2                          0.000000                 0.0            0.000000   \n",
      "3                          0.000000                 0.0            0.000000   \n",
      "4                          0.000000                 0.0            6.783943   \n",
      "...                             ...                 ...                 ...   \n",
      "19995                      0.000000                 0.0            9.802401   \n",
      "19996                      0.000000                 0.0            0.000000   \n",
      "19997                      0.000000                 0.0            5.219433   \n",
      "19998                      0.000000                 0.0            8.063335   \n",
      "19999                      0.000000                 0.0            0.000000   \n",
      "\n",
      "gene_identifier  ENSMUSG00000067879  ENSMUSG00000097893  ENSMUSG00000042501  \\\n",
      "0                               0.0                 0.0                 0.0   \n",
      "1                               0.0                 0.0                 0.0   \n",
      "2                               0.0                 0.0                 0.0   \n",
      "3                               0.0                 0.0                 0.0   \n",
      "4                               0.0                 0.0                 0.0   \n",
      "...                             ...                 ...                 ...   \n",
      "19995                           0.0                 0.0                 0.0   \n",
      "19996                           0.0                 0.0                 0.0   \n",
      "19997                           0.0                 0.0                 0.0   \n",
      "19998                           0.0                 0.0                 0.0   \n",
      "19999                           0.0                 0.0                 0.0   \n",
      "\n",
      "gene_identifier  ENSMUSG00000048960  ENSMUSG00000067813  ENSMUSG00000025932  \\\n",
      "0                          9.380745                 0.0                 0.0   \n",
      "1                          0.000000                 0.0                 0.0   \n",
      "2                          0.000000                 0.0                 0.0   \n",
      "3                          0.000000                 0.0                 0.0   \n",
      "4                          6.783943                 0.0                 0.0   \n",
      "...                             ...                 ...                 ...   \n",
      "19995                      0.000000                 0.0                 0.0   \n",
      "19996                      6.000538                 0.0                 0.0   \n",
      "19997                      0.000000                 0.0                 0.0   \n",
      "19998                      9.866833                 0.0                 0.0   \n",
      "19999                      0.000000                 0.0                 0.0   \n",
      "\n",
      "gene_identifier  ENSMUSG00000025776  ...  ENSMUSG00000031355  \\\n",
      "0                               0.0  ...            7.800105   \n",
      "1                               0.0  ...            0.000000   \n",
      "2                               0.0  ...            0.000000   \n",
      "3                               0.0  ...            0.000000   \n",
      "4                               0.0  ...            6.783943   \n",
      "...                             ...  ...                 ...   \n",
      "19995                           0.0  ...            0.000000   \n",
      "19996                           0.0  ...            0.000000   \n",
      "19997                           0.0  ...            0.000000   \n",
      "19998                           0.0  ...            0.000000   \n",
      "19999                           0.0  ...            0.000000   \n",
      "\n",
      "gene_identifier  ENSMUSG00000072844  ENSMUSG00000053211  ENSMUSG00000101243  \\\n",
      "0                               0.0                 0.0                 0.0   \n",
      "1                               0.0                 0.0                 0.0   \n",
      "2                               0.0                 0.0                 0.0   \n",
      "3                               0.0                 0.0                 0.0   \n",
      "4                               0.0                 0.0                 0.0   \n",
      "...                             ...                 ...                 ...   \n",
      "19995                           0.0                 0.0                 0.0   \n",
      "19996                           0.0                 0.0                 0.0   \n",
      "19997                           0.0                 0.0                 0.0   \n",
      "19998                           0.0                 0.0                 0.0   \n",
      "19999                           0.0                 0.0                 0.0   \n",
      "\n",
      "gene_identifier  ENSMUSG00000101399  ENSMUSG00000100809  ENSMUSG00000096902  \\\n",
      "0                               0.0                 0.0                 0.0   \n",
      "1                               0.0                 0.0                 0.0   \n",
      "2                               0.0                 0.0                 0.0   \n",
      "3                               0.0                 0.0                 0.0   \n",
      "4                               0.0                 0.0                 0.0   \n",
      "...                             ...                 ...                 ...   \n",
      "19995                           0.0                 0.0                 0.0   \n",
      "19996                           0.0                 0.0                 0.0   \n",
      "19997                           0.0                 0.0                 0.0   \n",
      "19998                           0.0                 0.0                 0.0   \n",
      "19999                           0.0                 0.0                 0.0   \n",
      "\n",
      "gene_identifier  ENSMUSG00000102045  ENSMUSG00000079222  class  \n",
      "0                               0.0                 0.0      0  \n",
      "1                               0.0                 0.0      1  \n",
      "2                               0.0                 0.0      1  \n",
      "3                               0.0                 0.0      1  \n",
      "4                               0.0                 0.0      0  \n",
      "...                             ...                 ...    ...  \n",
      "19995                           0.0                 0.0      0  \n",
      "19996                           0.0                 0.0      0  \n",
      "19997                           0.0                 0.0      1  \n",
      "19998                           0.0                 0.0      1  \n",
      "19999                           0.0                 0.0      0  \n",
      "\n",
      "[20000 rows x 2001 columns]\n"
     ]
    }
   ],
   "source": [
    "X_df=produce_df(hy_path=\"../data/abc_atlas/expression_matrices/WMB-10Xv3/20230630/WMB-10Xv3-HY-log2_subset_10k_cells.h5ad\",\n",
    "                    th_path=\"../data/abc_atlas/expression_matrices/WMB-10Xv3/20230630/WMB-10Xv3-TH-log2_subset_10k_cells.h5ad\",\n",
    "                    verbose=False)\n",
    "\n",
    "print(X_df)\n",
    "\n",
    "my_file = Path(\"../data/merged_train_subset.csv\")\n",
    "\n",
    "if not my_file.is_file():\n",
    "    X_df.to_csv(\"../data/merged_train_subset.csv\")\n",
    "\n",
    "\n",
    "# # Train/test split (80/20)\n",
    "# X_train, X_val, y_train, y_val = train_test_split(X, y, test_size=0.2, random_state=42)\n",
    "\n",
    "# del X,y\n",
    "\n",
    "# # Random Forest\n",
    "# rf = RandomForestClassifier()\n",
    "# rf.fit(X_train, y_train)\n",
    "# y_pred_rf = rf.predict(X_val)\n",
    "# print(\"Random Forest Accuracy:\", accuracy_score(y_val, y_pred_rf))\n",
    "\n",
    "# del X_train,X_val,y_train,y_val,rf,y_pred_rf"
   ]
  },
  {
   "cell_type": "code",
   "execution_count": null,
   "id": "ae40089f",
   "metadata": {},
   "outputs": [
    {
     "name": "stderr",
     "output_type": "stream",
     "text": [
      "[I 2025-06-22 22:49:10,926] A new study created in memory with name: LogisticRegression\n"
     ]
    },
    {
     "name": "stdout",
     "output_type": "stream",
     "text": [
      "------ Repetition 1/10 ------\n",
      "\n"
     ]
    },
    {
     "name": "stderr",
     "output_type": "stream",
     "text": [
      "[I 2025-06-22 22:49:59,161] Trial 0 finished with value: 0.7364377652343345 and parameters: {'penalty': 'l2', 'solver': 'saga', 'C': 0.0029276403624846213, 'l1_ratio': 0.19723050371065476}. Best is trial 0 with value: 0.7364377652343345.\n",
      "[I 2025-06-22 22:50:47,262] Trial 1 finished with value: 0.7366252417997637 and parameters: {'penalty': 'l2', 'solver': 'saga', 'C': 0.16735301277935594, 'l1_ratio': 0.991397797782879}. Best is trial 1 with value: 0.7366252417997637.\n"
     ]
    }
   ],
   "source": [
    "\n",
    "my_file = Path(\"../data/rncv_summary_results.csv\")\n",
    "if not my_file.is_file():\n",
    "    perform_rnCV(path='../data/merged_train_subset.csv')"
   ]
  }
 ],
 "metadata": {
  "kernelspec": {
   "display_name": "base",
   "language": "python",
   "name": "python3"
  },
  "language_info": {
   "codemirror_mode": {
    "name": "ipython",
    "version": 3
   },
   "file_extension": ".py",
   "mimetype": "text/x-python",
   "name": "python",
   "nbconvert_exporter": "python",
   "pygments_lexer": "ipython3",
   "version": "3.12.4"
  }
 },
 "nbformat": 4,
 "nbformat_minor": 5
}
