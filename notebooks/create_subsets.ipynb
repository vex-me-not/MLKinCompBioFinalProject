{
 "cells": [
  {
   "cell_type": "code",
   "execution_count": 6,
   "id": "c9d00cb4",
   "metadata": {},
   "outputs": [],
   "source": [
    "import sys\n",
    "import os"
   ]
  },
  {
   "cell_type": "code",
   "execution_count": 7,
   "id": "45bfd4ee",
   "metadata": {},
   "outputs": [
    {
     "name": "stdout",
     "output_type": "stream",
     "text": [
      "f:\\Vital Stuff\\Εργασίες Σχολείου\\The dreadful present\\Μαστερ\\Μαστερ Εξάμηνο 2ο\\Machine Learning in Computational Biology\\Project\\FinalProject\\MLKinCompBioFinalProject\n"
     ]
    }
   ],
   "source": [
    "# need to be able to import src\n",
    "sys.path.append(os.path.abspath(os.path.join(os.getcwd(), \"..\")))\n",
    "\n",
    "# absolute path to the src directory\n",
    "src_path = os.path.abspath(\"../src\")\n",
    "\n",
    "# Add src directory to system path\n",
    "sys.path.append(src_path)\n",
    "\n",
    "# get the /MLCBAss1/Assignment-1 path\n",
    "ass_path=sys.path[-2]\n",
    "\n",
    "print(ass_path)"
   ]
  },
  {
   "cell_type": "code",
   "execution_count": 8,
   "id": "4d6dcb3c",
   "metadata": {},
   "outputs": [
    {
     "name": "stdout",
     "output_type": "stream",
     "text": [
      "AnnData object with n_obs × n_vars = 10000 × 32285\n",
      "    obs: 'cell_barcode', 'library_label', 'anatomical_division_label'\n",
      "    var: 'gene_symbol'\n",
      "    uns: 'normalization', 'parent', 'parent_layer', 'parent_rows'\n",
      "AnnData object with n_obs × n_vars = 10000 × 32285\n",
      "    obs: 'cell_barcode', 'library_label', 'anatomical_division_label'\n",
      "    var: 'gene_symbol'\n",
      "    uns: 'normalization', 'parent', 'parent_layer', 'parent_rows'\n",
      "AnnData object with n_obs × n_vars = 10000 × 32285\n",
      "    obs: 'cell_barcode', 'library_label', 'anatomical_division_label'\n",
      "    var: 'gene_symbol'\n",
      "    uns: 'normalization', 'parent', 'parent_layer', 'parent_rows'\n",
      "AnnData object with n_obs × n_vars = 10000 × 32285\n",
      "    obs: 'cell_barcode', 'library_label', 'anatomical_division_label'\n",
      "    var: 'gene_symbol'\n",
      "    uns: 'normalization', 'parent', 'parent_layer', 'parent_rows'\n"
     ]
    }
   ],
   "source": [
    "import scanpy as sc\n",
    "import numpy as np\n",
    "\n",
    "\n",
    "path_list=[\"../data/abc_atlas/expression_matrices/WMB-10Xv3/20230630/WMB-10Xv3-HY-log2.h5ad\",\n",
    "           \"../data/abc_atlas/expression_matrices/WMB-10Xv3/20230630/WMB-10Xv3-TH-log2.h5ad\",\n",
    "           \"../data/abc_atlas/expression_matrices/WMB-10Xv2/20230630/WMB-10Xv2-HY-log2.h5ad\",\n",
    "           \"../data/abc_atlas/expression_matrices/WMB-10Xv2/20230630/WMB-10Xv2-TH-log2.h5ad\"]\n",
    "\n",
    "for path in path_list:\n",
    "\n",
    "    adata = sc.read_h5ad(path)\n",
    "\n",
    "    # Set number of cells to keep (e.g., 10,000)\n",
    "    n_cells = 10000\n",
    "    np.random.seed(42)  # for reproducibility\n",
    "\n",
    "    # Randomly select cell indices\n",
    "    random_indices = np.random.choice(adata.n_obs, size=n_cells, replace=False)\n",
    "\n",
    "    # Create the subset\n",
    "    adata_subset = adata[random_indices, :].copy()\n",
    "\n",
    "    print(adata_subset)\n",
    "\n",
    "    if \"WMB-10Xv3-HY-log2.h5ad\" in path:\n",
    "        adata_subset.write(\"../data/abc_atlas/expression_matrices/WMB-10Xv3/20230630/WMB-10Xv3-HY-log2_subset_10k_cells.h5ad\")\n",
    "    elif \"WMB-10Xv3-TH-log2.h5ad\" in path:\n",
    "        adata_subset.write(\"../data/abc_atlas/expression_matrices/WMB-10Xv3/20230630/WMB-10Xv3-TH-log2_subset_10k_cells.h5ad\")\n",
    "    elif \"WMB-10Xv2-HY-log2.h5ad\" in path:\n",
    "        adata_subset.write(\"../data/abc_atlas/expression_matrices/WMB-10Xv2/20230630/WMB-10Xv2-HY-log2_subset_10k_cells.h5ad\")\n",
    "    elif \"WMB-10Xv2-TH-log2.h5ad\" in path:\n",
    "        adata_subset.write(\"../data/abc_atlas/expression_matrices/WMB-10Xv2/20230630/WMB-10Xv2-TH-log2_subset_10k_cells.h5ad\")\n",
    "    \n",
    "    del adata, adata_subset\n",
    "\n",
    "\n"
   ]
  }
 ],
 "metadata": {
  "kernelspec": {
   "display_name": "base",
   "language": "python",
   "name": "python3"
  },
  "language_info": {
   "codemirror_mode": {
    "name": "ipython",
    "version": 3
   },
   "file_extension": ".py",
   "mimetype": "text/x-python",
   "name": "python",
   "nbconvert_exporter": "python",
   "pygments_lexer": "ipython3",
   "version": "3.12.4"
  }
 },
 "nbformat": 4,
 "nbformat_minor": 5
}
