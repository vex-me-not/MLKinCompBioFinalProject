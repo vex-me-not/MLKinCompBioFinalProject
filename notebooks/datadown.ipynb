{
 "cells": [
  {
   "cell_type": "code",
   "execution_count": 1,
   "id": "7c274d4a",
   "metadata": {},
   "outputs": [
    {
     "name": "stdout",
     "output_type": "stream",
     "text": [
      "/home/cotsios/dsit/2nd-semester/ml-in-comp-bio/project/MLKinCompBioFinalProject\n"
     ]
    }
   ],
   "source": [
    "import sys\n",
    "import os\n",
    "\n",
    "\n",
    "sys.path.append(os.path.abspath(os.path.join(os.getcwd(), \"..\")))\n",
    "print(sys.path[-1])"
   ]
  },
  {
   "cell_type": "code",
   "execution_count": 2,
   "id": "c67497ba",
   "metadata": {},
   "outputs": [
    {
     "name": "stdout",
     "output_type": "stream",
     "text": [
      "BASE_DIR       /home/cotsios/dsit/2nd-semester/ml-in-comp-bio/project/MLKinCompBioFinalProject\n",
      "DATA_DIR       /home/cotsios/dsit/2nd-semester/ml-in-comp-bio/project/MLKinCompBioFinalProject\n"
     ]
    }
   ],
   "source": [
    "BASE_DIR = os.path.abspath(os.path.join(os.getcwd(), \"..\"))\n",
    "DATA_DIR = os.path.join(BASE_DIR, \"data\", \"abc_atlas\")\n",
    "\n",
    "print(f\"{'BASE_DIR':<15}{BASE_DIR}\")\n",
    "print(f\"{'DATA_DIR':<15}{BASE_DIR}\")"
   ]
  },
  {
   "cell_type": "code",
   "execution_count": 3,
   "id": "cbba8c83",
   "metadata": {},
   "outputs": [],
   "source": [
    "from src.utils import download_data"
   ]
  },
  {
   "cell_type": "code",
   "execution_count": 4,
   "id": "3525ab0e",
   "metadata": {},
   "outputs": [
    {
     "name": "stdout",
     "output_type": "stream",
     "text": [
      "Current manifest is  releases/20250531/manifest.json\n",
      "All available manifests:  ['releases/20230630/manifest.json', 'releases/20230830/manifest.json', 'releases/20231215/manifest.json', 'releases/20240330/manifest.json', 'releases/20240831/manifest.json', 'releases/20241115/manifest.json', 'releases/20241130/manifest.json', 'releases/20250131/manifest.json', 'releases/20250331/manifest.json', 'releases/20250531/manifest.json']\n",
      "We will be using manifest : releases/20230630/manifest.json\n",
      "All available data directories:  ['Allen-CCF-2020', 'MERFISH-C57BL6J-638850', 'MERFISH-C57BL6J-638850-CCF', 'MERFISH-C57BL6J-638850-sections', 'WMB-10X', 'WMB-10Xv2', 'WMB-10Xv3', 'WMB-neighborhoods', 'WMB-taxonomy']\n",
      "Directories to be used:  ['WMB-10Xv3', 'WMB-10Xv2']\n",
      "All available data files of WMB-10Xv3 directory: ['WMB-10Xv3-CB/log2', 'WMB-10Xv3-CB/raw', 'WMB-10Xv3-CTXsp/log2', 'WMB-10Xv3-CTXsp/raw', 'WMB-10Xv3-HPF/log2', 'WMB-10Xv3-HPF/raw', 'WMB-10Xv3-HY/log2', 'WMB-10Xv3-HY/raw', 'WMB-10Xv3-Isocortex-1/log2', 'WMB-10Xv3-Isocortex-1/raw', 'WMB-10Xv3-Isocortex-2/log2', 'WMB-10Xv3-Isocortex-2/raw', 'WMB-10Xv3-MB/log2', 'WMB-10Xv3-MB/raw', 'WMB-10Xv3-MY/log2', 'WMB-10Xv3-MY/raw', 'WMB-10Xv3-OLF/log2', 'WMB-10Xv3-OLF/raw', 'WMB-10Xv3-P/log2', 'WMB-10Xv3-P/raw', 'WMB-10Xv3-PAL/log2', 'WMB-10Xv3-PAL/raw', 'WMB-10Xv3-STR/log2', 'WMB-10Xv3-STR/raw', 'WMB-10Xv3-TH/log2', 'WMB-10Xv3-TH/raw']\n",
      "All available data files of WMB-10Xv2 directory: ['WMB-10Xv2-CTXsp/log2', 'WMB-10Xv2-CTXsp/raw', 'WMB-10Xv2-HPF/log2', 'WMB-10Xv2-HPF/raw', 'WMB-10Xv2-HY/log2', 'WMB-10Xv2-HY/raw', 'WMB-10Xv2-Isocortex-1/log2', 'WMB-10Xv2-Isocortex-1/raw', 'WMB-10Xv2-Isocortex-2/log2', 'WMB-10Xv2-Isocortex-2/raw', 'WMB-10Xv2-Isocortex-3/log2', 'WMB-10Xv2-Isocortex-3/raw', 'WMB-10Xv2-Isocortex-4/log2', 'WMB-10Xv2-Isocortex-4/raw', 'WMB-10Xv2-MB/log2', 'WMB-10Xv2-MB/raw', 'WMB-10Xv2-OLF/log2', 'WMB-10Xv2-OLF/raw', 'WMB-10Xv2-TH/log2', 'WMB-10Xv2-TH/raw']\n",
      "Metadata to be used:  ['cell_metadata', 'cell_metadata_with_cluster_annotation', 'example_genes_all_cells_expression', 'gene', 'region_of_interest_metadata']\n",
      "Downloading the metadata\n",
      "\n"
     ]
    },
    {
     "name": "stderr",
     "output_type": "stream",
     "text": [
      "cell_metadata.csv: 100%|██████████| 770M/770M [01:14<00:00, 10.3MMB/s]    \n",
      "cell_metadata_with_cluster_annotation.csv: 100%|██████████| 1.42G/1.42G [02:05<00:00, 11.3MMB/s]    \n",
      "example_genes_all_cells_expression.csv: 100%|██████████| 319M/319M [00:30<00:00, 10.5MMB/s]    \n",
      "gene.csv: 100%|██████████| 1.91M/1.91M [00:01<00:00, 985kMB/s] \n",
      "region_of_interest_metadata.csv: 100%|██████████| 1.40k/1.40k [00:00<00:00, 6.25kMB/s]\n"
     ]
    },
    {
     "name": "stdout",
     "output_type": "stream",
     "text": [
      "Dowloading the WMB-10Xv3 data file for brain part: HY\n"
     ]
    },
    {
     "name": "stderr",
     "output_type": "stream",
     "text": [
      "WMB-10Xv3-HY-log2.h5ad: 100%|██████████| 7.25G/7.25G [13:39<00:00, 8.85MMB/s]    \n"
     ]
    },
    {
     "name": "stdout",
     "output_type": "stream",
     "text": [
      "Dowloading the WMB-10Xv3 data file for brain part: TH\n"
     ]
    },
    {
     "name": "stderr",
     "output_type": "stream",
     "text": [
      "WMB-10Xv3-TH-log2.h5ad: 100%|██████████| 5.81G/5.81G [09:33<00:00, 10.1MMB/s]    \n"
     ]
    },
    {
     "name": "stdout",
     "output_type": "stream",
     "text": [
      "Dowloading the WMB-10Xv2 data file for brain part: HY\n"
     ]
    },
    {
     "name": "stderr",
     "output_type": "stream",
     "text": [
      "WMB-10Xv2-HY-log2.h5ad: 100%|██████████| 2.91G/2.91G [04:35<00:00, 10.6MMB/s]    \n"
     ]
    },
    {
     "name": "stdout",
     "output_type": "stream",
     "text": [
      "Dowloading the WMB-10Xv2 data file for brain part: TH\n"
     ]
    },
    {
     "name": "stderr",
     "output_type": "stream",
     "text": [
      "WMB-10Xv2-TH-log2.h5ad: 100%|██████████| 4.04G/4.04G [05:33<00:00, 12.1MMB/s]    \n"
     ]
    }
   ],
   "source": [
    "download_data(\n",
    "    download_base=DATA_DIR,\n",
    "    brain_parts=[\"HY\",\"TH\"],\n",
    "    directories_to_use=[\"WMB-10Xv3\",\"WMB-10Xv2\"],\n",
    "    metadata_to_use=\"WMB-10X\"\n",
    ")"
   ]
  }
 ],
 "metadata": {
  "kernelspec": {
   "display_name": ".env",
   "language": "python",
   "name": "python3"
  },
  "language_info": {
   "codemirror_mode": {
    "name": "ipython",
    "version": 3
   },
   "file_extension": ".py",
   "mimetype": "text/x-python",
   "name": "python",
   "nbconvert_exporter": "python",
   "pygments_lexer": "ipython3",
   "version": "3.12.3"
  }
 },
 "nbformat": 4,
 "nbformat_minor": 5
}
