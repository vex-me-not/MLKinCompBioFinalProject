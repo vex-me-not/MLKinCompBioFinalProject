{
 "cells": [
  {
   "cell_type": "code",
   "execution_count": 12,
   "id": "ec15f9b7",
   "metadata": {},
   "outputs": [],
   "source": [
    "import scanpy as sc\n",
    "import pandas as pd\n",
    "import anndata\n",
    "\n",
    "from pathlib import Path\n",
    "from abc_atlas_access.abc_atlas_cache.abc_project_cache import AbcProjectCache"
   ]
  },
  {
   "cell_type": "code",
   "execution_count": 13,
   "id": "03f6e554",
   "metadata": {},
   "outputs": [],
   "source": [
    "# %pip install \"abc_atlas_access[notebooks] @ git+https://github.com/alleninstitute/abc_atlas_access.git\""
   ]
  },
  {
   "cell_type": "code",
   "execution_count": null,
   "id": "8026bb01",
   "metadata": {},
   "outputs": [],
   "source": [
    "download_base = Path('./data/abc_atlas')\n",
    "abc_cache = AbcProjectCache.from_cache_dir(download_base)\n",
    "\n",
    "abc_cache.current_manifest"
   ]
  },
  {
   "cell_type": "code",
   "execution_count": null,
   "id": "a5b8b1d1",
   "metadata": {},
   "outputs": [],
   "source": [
    "abc_cache.list_manifest_file_names"
   ]
  },
  {
   "cell_type": "code",
   "execution_count": null,
   "id": "653c9803",
   "metadata": {},
   "outputs": [],
   "source": [
    "abc_cache.load_manifest('releases/20230630/manifest.json')\n",
    "print(\"old manifest loaded:\", abc_cache.current_manifest)\n",
    "\n",
    "# Return to the latest manifest\n",
    "# abc_cache.load_latest_manifest()\n",
    "# print(\"after latest manifest loaded:\", abc_cache.current_manifest)"
   ]
  },
  {
   "cell_type": "code",
   "execution_count": null,
   "id": "cfd66c61",
   "metadata": {},
   "outputs": [],
   "source": [
    "abc_cache.list_directories"
   ]
  },
  {
   "cell_type": "code",
   "execution_count": null,
   "id": "a3acf1db",
   "metadata": {},
   "outputs": [],
   "source": [
    "abc_cache.list_data_files('WMB-10Xv3')"
   ]
  },
  {
   "cell_type": "code",
   "execution_count": null,
   "id": "f1e447a9",
   "metadata": {},
   "outputs": [],
   "source": [
    "abc_cache.list_data_files('WMB-10Xv2')"
   ]
  },
  {
   "cell_type": "code",
   "execution_count": null,
   "id": "1ccbfb8b",
   "metadata": {},
   "outputs": [],
   "source": [
    "abc_cache.list_metadata_files('WMB-10X')"
   ]
  },
  {
   "cell_type": "code",
   "execution_count": null,
   "id": "b1b64865",
   "metadata": {},
   "outputs": [],
   "source": [
    "abc_cache.get_directory_metadata('WMB-10X')"
   ]
  },
  {
   "cell_type": "code",
   "execution_count": null,
   "id": "3eba90ff",
   "metadata": {},
   "outputs": [],
   "source": [
    "abc_cache.get_data_path(directory='WMB-10Xv3', file_name='WMB-10Xv3-OLF/log2')\n",
    "abc_cache.get_data_path(directory='WMB-10Xv3', file_name='WMB-10Xv3-CTXsp/log2')"
   ]
  },
  {
   "cell_type": "code",
   "execution_count": null,
   "id": "b0cb03c3",
   "metadata": {},
   "outputs": [],
   "source": [
    "abc_cache.get_data_path(directory='WMB-10Xv2', file_name='WMB-10Xv2-OLF/log2')\n",
    "abc_cache.get_data_path(directory='WMB-10Xv2', file_name='WMB-10Xv2-CTXsp/log2')"
   ]
  },
  {
   "cell_type": "code",
   "execution_count": 22,
   "id": "bbdfd298",
   "metadata": {},
   "outputs": [],
   "source": [
    "# adata= anndata.read_h5ad(\"./data/WMB-10Xv3-CTXsp-log2.h5ad\",backed='r')\n",
    "\n",
    "# print(adata)\n",
    "\n",
    "# print(adata.X)\n",
    "# print(adata.obs.head())\n",
    "\n",
    "# sc.tl.umap(adata)\n",
    "# sc.pl.umap(adata=adata,color=\"cell_type\")"
   ]
  },
  {
   "cell_type": "code",
   "execution_count": 23,
   "id": "7007a174",
   "metadata": {},
   "outputs": [],
   "source": [
    "# adata= sc.read_h5ad(\"./data/WMB-10Xv3-CTXsp-raw.h5ad\")\n",
    "\n",
    "# print(adata.X)\n",
    "# print(adata.obs.head())"
   ]
  },
  {
   "cell_type": "code",
   "execution_count": 24,
   "id": "c0bbd986",
   "metadata": {},
   "outputs": [],
   "source": [
    "# adata= sc.read_h5ad(\"./data/WMB-10Xv3-OLF-raw.h5ad\")\n",
    "\n",
    "# print(adata.X)\n",
    "# print(adata.obs.head())"
   ]
  },
  {
   "cell_type": "code",
   "execution_count": 25,
   "id": "52bbe7d3",
   "metadata": {},
   "outputs": [],
   "source": [
    "# adata= sc.read_h5ad(\"./data/WMB-10Xv3-OLF-log2.h5ad\")\n",
    "\n",
    "# print(adata.X)\n",
    "# print(adata.obs.head())"
   ]
  },
  {
   "cell_type": "code",
   "execution_count": null,
   "id": "0cee688b",
   "metadata": {},
   "outputs": [],
   "source": [
    "metadf=pd.read_csv(\"./data/abc_atlas/metadata/WMB-10X/20230630/region_of_interest_metadata.csv\")\n",
    "metadf.head()"
   ]
  }
 ],
 "metadata": {
  "kernelspec": {
   "display_name": "base",
   "language": "python",
   "name": "python3"
  },
  "language_info": {
   "codemirror_mode": {
    "name": "ipython",
    "version": 3
   },
   "file_extension": ".py",
   "mimetype": "text/x-python",
   "name": "python",
   "nbconvert_exporter": "python",
   "pygments_lexer": "ipython3",
   "version": "3.12.4"
  }
 },
 "nbformat": 4,
 "nbformat_minor": 5
}
