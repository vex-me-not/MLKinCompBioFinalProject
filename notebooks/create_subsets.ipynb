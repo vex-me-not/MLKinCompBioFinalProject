{
 "cells": [
  {
   "cell_type": "markdown",
   "id": "9d5445a5",
   "metadata": {},
   "source": [
    "In this notebook, we generate subsets of sizes 3k, 5k, and 10k for each region (thalamus and hypothalamus) across both experiments (WMB-10Xv2 and WMB-10Xv3), which are required for the analyses that follow. To reproduce our results, please ensure you first run the `datadown.ipynb` notebook to download and preprocess the necessary data, and then proceed with this notebook."
   ]
  },
  {
   "cell_type": "code",
   "execution_count": null,
   "id": "c9d00cb4",
   "metadata": {},
   "outputs": [],
   "source": [
    "import sys\n",
    "import os\n",
    "import scanpy as sc\n",
    "import numpy as np\n",
    "import gc"
   ]
  },
  {
   "cell_type": "code",
   "execution_count": 6,
   "id": "45bfd4ee",
   "metadata": {},
   "outputs": [
    {
     "name": "stdout",
     "output_type": "stream",
     "text": [
      "f:\\Vital Stuff\\Εργασίες Σχολείου\\The dreadful present\\Μαστερ\\Μαστερ Εξάμηνο 2ο\\Machine Learning in Computational Biology\\Project\\FinalProject\\MLKinCompBioFinalProject\n"
     ]
    }
   ],
   "source": [
    "# need to be able to import src\n",
    "sys.path.append(os.path.abspath(os.path.join(os.getcwd(), \"..\")))\n",
    "\n",
    "# absolute path to the src directory\n",
    "src_path = os.path.abspath(\"../src\")\n",
    "\n",
    "# Add src directory to system path\n",
    "sys.path.append(src_path)\n",
    "\n",
    "# get the /MLCBAss1/Assignment-1 path\n",
    "ass_path=sys.path[-2]\n",
    "\n",
    "print(ass_path)"
   ]
  },
  {
   "cell_type": "code",
   "execution_count": null,
   "id": "e4b541f9",
   "metadata": {},
   "outputs": [],
   "source": [
    "# Creates subsets of size size_in_k*1000\n",
    "def create_subsets(path_list,size_in_k):\n",
    "    for path in path_list:\n",
    "\n",
    "        adata = sc.read_h5ad(path)\n",
    "\n",
    "        # Set number of cells to keep (e.g., 10,000)\n",
    "        n_cells = size_in_k * 1000\n",
    "        np.random.seed(42)  # for reproducibility\n",
    "\n",
    "        # Randomly select cell indices\n",
    "        random_indices = np.random.choice(adata.n_obs, size=n_cells, replace=False)\n",
    "\n",
    "        # Create the subset\n",
    "        adata_subset = adata[random_indices, :].copy()\n",
    "\n",
    "        print(adata_subset)\n",
    "        \n",
    "\n",
    "        if \"WMB-10Xv3-HY-log2.h5ad\" in path:\n",
    "            adata_subset.write(\"../data/abc_atlas/expression_matrices/WMB-10Xv3/20230630/WMB-10Xv3-HY-log2_subset_\"+str(size_in_k)+\"k_cells.h5ad\")\n",
    "        elif \"WMB-10Xv3-TH-log2.h5ad\" in path:\n",
    "            adata_subset.write(\"../data/abc_atlas/expression_matrices/WMB-10Xv3/20230630/WMB-10Xv3-TH-log2_subset_\"+str(size_in_k)+\"k_cells.h5ad\")\n",
    "        elif \"WMB-10Xv2-HY-log2.h5ad\" in path:\n",
    "            adata_subset.write(\"../data/abc_atlas/expression_matrices/WMB-10Xv2/20230630/WMB-10Xv2-HY-log2_subset_\"+str(size_in_k)+\"k_cells.h5ad\")\n",
    "        elif \"WMB-10Xv2-TH-log2.h5ad\" in path:\n",
    "            adata_subset.write(\"../data/abc_atlas/expression_matrices/WMB-10Xv2/20230630/WMB-10Xv2-TH-log2_subset_\"+str(size_in_k)+\"k_cells.h5ad\")\n",
    "        \n",
    "        del adata, adata_subset\n",
    "        gc.collect()   "
   ]
  },
  {
   "cell_type": "code",
   "execution_count": null,
   "id": "4d6dcb3c",
   "metadata": {},
   "outputs": [],
   "source": [
    "\n",
    "path_list=[\"../data/abc_atlas/expression_matrices/WMB-10Xv3/20230630/WMB-10Xv3-HY-log2.h5ad\",\n",
    "           \"../data/abc_atlas/expression_matrices/WMB-10Xv3/20230630/WMB-10Xv3-TH-log2.h5ad\",\n",
    "           \"../data/abc_atlas/expression_matrices/WMB-10Xv2/20230630/WMB-10Xv2-HY-log2.h5ad\",\n",
    "           \"../data/abc_atlas/expression_matrices/WMB-10Xv2/20230630/WMB-10Xv2-TH-log2.h5ad\"]\n",
    "\n",
    "create_subsets(path_list=path_list,size_in_k=3)\n",
    "create_subsets(path_list=path_list,size_in_k=5)\n",
    "create_subsets(path_list=path_list,size_in_k=10)"
   ]
  }
 ],
 "metadata": {
  "kernelspec": {
   "display_name": "base",
   "language": "python",
   "name": "python3"
  },
  "language_info": {
   "codemirror_mode": {
    "name": "ipython",
    "version": 3
   },
   "file_extension": ".py",
   "mimetype": "text/x-python",
   "name": "python",
   "nbconvert_exporter": "python",
   "pygments_lexer": "ipython3",
   "version": "3.12.4"
  }
 },
 "nbformat": 4,
 "nbformat_minor": 5
}
