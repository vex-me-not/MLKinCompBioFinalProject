{
 "cells": [
  {
   "cell_type": "code",
   "execution_count": 6,
   "id": "ac03c280",
   "metadata": {},
   "outputs": [],
   "source": [
    "import sys\n",
    "import os\n",
    "import re\n",
    "\n",
    "from pathlib import Path"
   ]
  },
  {
   "cell_type": "code",
   "execution_count": 7,
   "id": "7ae869e8",
   "metadata": {},
   "outputs": [
    {
     "name": "stdout",
     "output_type": "stream",
     "text": [
      "f:\\Vital Stuff\\Εργασίες Σχολείου\\The dreadful present\\Μαστερ\\Μαστερ Εξάμηνο 2ο\\Machine Learning in Computational Biology\\Project\\FinalProject\\MLKinCompBioFinalProject\n"
     ]
    }
   ],
   "source": [
    "# need to be able to import src\n",
    "sys.path.append(os.path.abspath(os.path.join(os.getcwd(), \"..\")))\n",
    "\n",
    "# absolute path to the src directory\n",
    "src_path = os.path.abspath(\"../src\")\n",
    "\n",
    "# Add src directory to system path\n",
    "sys.path.append(src_path)\n",
    "\n",
    "# get the /MLCBAss1/Assignment-1 path\n",
    "ass_path=sys.path[-2]\n",
    "\n",
    "print(ass_path)"
   ]
  },
  {
   "cell_type": "code",
   "execution_count": 8,
   "id": "01c93d71",
   "metadata": {},
   "outputs": [
    {
     "name": "stdout",
     "output_type": "stream",
     "text": [
      "The autoreload extension is already loaded. To reload it, use:\n",
      "  %reload_ext autoreload\n"
     ]
    }
   ],
   "source": [
    "%load_ext autoreload\n",
    "%autoreload 2\n",
    "\n",
    "from functions import *"
   ]
  },
  {
   "cell_type": "code",
   "execution_count": 9,
   "id": "b520e03f",
   "metadata": {},
   "outputs": [
    {
     "name": "stdout",
     "output_type": "stream",
     "text": [
      "Index(['ENSMUSG00000025902', 'ENSMUSG00000104238', 'ENSMUSG00000067879',\n",
      "       'ENSMUSG00000097893', 'ENSMUSG00000048960', 'ENSMUSG00000099498',\n",
      "       'ENSMUSG00000025932', 'ENSMUSG00000025927', 'ENSMUSG00000028033',\n",
      "       'ENSMUSG00000026141',\n",
      "       ...\n",
      "       'ENSMUSG00000040522', 'ENSMUSG00000044583', 'ENSMUSG00000031355',\n",
      "       'ENSMUSG00000072844', 'ENSMUSG00000069053', 'ENSMUSG00000096650',\n",
      "       'ENSMUSG00000099601', 'ENSMUSG00000101399', 'ENSMUSG00000102111',\n",
      "       'ENSMUSG00000102045'],\n",
      "      dtype='object', name='gene_identifier', length=2000)\n"
     ]
    }
   ],
   "source": [
    "X_df=produce_df(hy_path=\"../data/abc_atlas/expression_matrices/WMB-10Xv3/20230630/WMB-10Xv3-HY-log2_subset_3k_cells.h5ad\",\n",
    "                    th_path=\"../data/abc_atlas/expression_matrices/WMB-10Xv3/20230630/WMB-10Xv3-TH-log2_subset_3k_cells.h5ad\",\n",
    "                    verbose=False)\n",
    "\n",
    "my_file = Path(\"../data/merged_train_subset3k.csv\")\n",
    "\n",
    "if not my_file.is_file():\n",
    "    X_df.to_csv(\"../data/merged_train_subset3k.csv\",index=False)\n"
   ]
  },
  {
   "cell_type": "code",
   "execution_count": 10,
   "id": "ae40089f",
   "metadata": {},
   "outputs": [
    {
     "name": "stderr",
     "output_type": "stream",
     "text": [
      "[I 2025-06-23 15:31:37,262] A new study created in memory with name: LogisticRegression\n"
     ]
    },
    {
     "name": "stdout",
     "output_type": "stream",
     "text": [
      "------ Repetition 1/4 ------\n",
      "\n"
     ]
    },
    {
     "name": "stderr",
     "output_type": "stream",
     "text": [
      "[I 2025-06-23 15:31:56,864] Trial 0 finished with value: 0.8854166666666666 and parameters: {'penalty': 'l1', 'solver': 'saga', 'C': 0.01, 'l1_ratio': 0.75}. Best is trial 0 with value: 0.8854166666666666.\n",
      "[I 2025-06-23 15:32:12,282] Trial 1 finished with value: 0.8929166666666667 and parameters: {'penalty': 'l2', 'solver': 'saga', 'C': 0.1, 'l1_ratio': 0.5}. Best is trial 1 with value: 0.8929166666666667.\n",
      "[I 2025-06-23 15:32:34,381] Trial 2 finished with value: 0.8939583333333333 and parameters: {'penalty': 'l1', 'solver': 'saga', 'C': 0.1, 'l1_ratio': 0.75}. Best is trial 2 with value: 0.8939583333333333.\n",
      "[I 2025-06-23 15:32:56,126] Trial 3 finished with value: 0.89875 and parameters: {'penalty': 'elasticnet', 'solver': 'saga', 'C': 0.01, 'l1_ratio': 0.25}. Best is trial 3 with value: 0.89875.\n",
      "[I 2025-06-23 15:33:10,440] Trial 4 finished with value: 0.894375 and parameters: {'penalty': 'l2', 'solver': 'saga', 'C': 0.01, 'l1_ratio': 0.75}. Best is trial 3 with value: 0.89875.\n",
      "[I 2025-06-23 15:33:17,745] Trial 5 pruned. \n",
      "[I 2025-06-23 15:33:29,138] A new study created in memory with name: LogisticRegression\n",
      "[I 2025-06-23 15:33:48,204] Trial 0 finished with value: 0.883125 and parameters: {'penalty': 'l1', 'solver': 'saga', 'C': 0.01, 'l1_ratio': 0.25}. Best is trial 0 with value: 0.883125.\n",
      "[I 2025-06-23 15:34:06,331] Trial 1 finished with value: 0.7752083333333334 and parameters: {'penalty': 'elasticnet', 'solver': 'saga', 'C': 0.001, 'l1_ratio': 0.75}. Best is trial 0 with value: 0.883125.\n",
      "[I 2025-06-23 15:34:24,305] Trial 2 finished with value: 0.76125 and parameters: {'penalty': 'l1', 'solver': 'saga', 'C': 0.001, 'l1_ratio': 0.25}. Best is trial 0 with value: 0.883125.\n",
      "[I 2025-06-23 15:34:44,828] Trial 3 finished with value: 0.8943749999999998 and parameters: {'penalty': 'elasticnet', 'solver': 'saga', 'C': 0.01, 'l1_ratio': 0.5}. Best is trial 3 with value: 0.8943749999999998.\n",
      "[I 2025-06-23 15:35:03,972] Trial 4 finished with value: 0.883125 and parameters: {'penalty': 'l1', 'solver': 'saga', 'C': 0.01, 'l1_ratio': 0.5}. Best is trial 3 with value: 0.8943749999999998.\n",
      "[I 2025-06-23 15:35:23,428] Trial 5 finished with value: 0.883125 and parameters: {'penalty': 'l1', 'solver': 'saga', 'C': 0.01, 'l1_ratio': 0.25}. Best is trial 3 with value: 0.8943749999999998.\n",
      "[I 2025-06-23 15:35:34,137] A new study created in memory with name: LogisticRegression\n",
      "[I 2025-06-23 15:35:57,178] Trial 0 finished with value: 0.8925 and parameters: {'penalty': 'elasticnet', 'solver': 'saga', 'C': 0.1, 'l1_ratio': 0.5}. Best is trial 0 with value: 0.8925.\n",
      "[I 2025-06-23 15:36:06,810] Trial 1 finished with value: 0.8972916666666667 and parameters: {'penalty': 'l2', 'solver': 'saga', 'C': 0.001, 'l1_ratio': 0.5}. Best is trial 1 with value: 0.8972916666666667.\n",
      "[I 2025-06-23 15:36:25,741] Trial 2 finished with value: 0.8539583333333333 and parameters: {'penalty': 'elasticnet', 'solver': 'saga', 'C': 0.001, 'l1_ratio': 0.25}. Best is trial 1 with value: 0.8972916666666667.\n",
      "[I 2025-06-23 15:36:48,310] Trial 3 finished with value: 0.895625 and parameters: {'penalty': 'l1', 'solver': 'saga', 'C': 0.1, 'l1_ratio': 0.25}. Best is trial 1 with value: 0.8972916666666667.\n",
      "[I 2025-06-23 15:37:11,098] Trial 4 finished with value: 0.8929166666666667 and parameters: {'penalty': 'elasticnet', 'solver': 'saga', 'C': 0.1, 'l1_ratio': 0.5}. Best is trial 1 with value: 0.8972916666666667.\n",
      "[I 2025-06-23 15:37:20,669] Trial 5 pruned. \n"
     ]
    },
    {
     "name": "stdout",
     "output_type": "stream",
     "text": [
      "EARLY STOPPING: No improvement after 4 trials!\n",
      "--> Best trial is 1 with value: 0.8972916666666667 and parameters: {'penalty': 'l2', 'solver': 'saga', 'C': 0.001, 'l1_ratio': 0.5}\n",
      "\n"
     ]
    },
    {
     "name": "stderr",
     "output_type": "stream",
     "text": [
      "[I 2025-06-23 15:37:25,471] A new study created in memory with name: LogisticRegression\n",
      "[I 2025-06-23 15:37:35,490] Trial 0 finished with value: 0.8985416666666666 and parameters: {'penalty': 'l2', 'solver': 'saga', 'C': 0.001, 'l1_ratio': 0.75}. Best is trial 0 with value: 0.8985416666666666.\n",
      "[I 2025-06-23 15:37:50,136] Trial 1 finished with value: 0.8929166666666667 and parameters: {'penalty': 'l2', 'solver': 'saga', 'C': 0.1, 'l1_ratio': 0.25}. Best is trial 0 with value: 0.8985416666666666.\n",
      "[I 2025-06-23 15:38:07,880] Trial 2 finished with value: 0.759375 and parameters: {'penalty': 'l1', 'solver': 'saga', 'C': 0.001, 'l1_ratio': 0.25}. Best is trial 0 with value: 0.8985416666666666.\n",
      "[I 2025-06-23 15:38:22,383] Trial 3 finished with value: 0.8922916666666666 and parameters: {'penalty': 'l2', 'solver': 'saga', 'C': 0.1, 'l1_ratio': 0.25}. Best is trial 0 with value: 0.8985416666666666.\n",
      "[I 2025-06-23 15:38:41,702] Trial 4 finished with value: 0.8839583333333333 and parameters: {'penalty': 'l1', 'solver': 'saga', 'C': 0.01, 'l1_ratio': 0.75}. Best is trial 0 with value: 0.8985416666666666.\n"
     ]
    },
    {
     "name": "stdout",
     "output_type": "stream",
     "text": [
      "EARLY STOPPING: No improvement after 4 trials!\n",
      "--> Best trial is 0 with value: 0.8985416666666666 and parameters: {'penalty': 'l2', 'solver': 'saga', 'C': 0.001, 'l1_ratio': 0.75}\n",
      "\n"
     ]
    },
    {
     "name": "stderr",
     "output_type": "stream",
     "text": [
      "[I 2025-06-23 15:38:46,643] A new study created in memory with name: LogisticRegression\n",
      "[I 2025-06-23 15:39:06,006] Trial 0 finished with value: 0.8816666666666667 and parameters: {'penalty': 'l1', 'solver': 'saga', 'C': 0.01, 'l1_ratio': 0.75}. Best is trial 0 with value: 0.8816666666666667.\n",
      "[I 2025-06-23 15:39:23,929] Trial 1 finished with value: 0.7720833333333333 and parameters: {'penalty': 'elasticnet', 'solver': 'saga', 'C': 0.001, 'l1_ratio': 0.75}. Best is trial 0 with value: 0.8816666666666667.\n",
      "[I 2025-06-23 15:39:43,672] Trial 2 finished with value: 0.8816666666666667 and parameters: {'penalty': 'l1', 'solver': 'saga', 'C': 0.01, 'l1_ratio': 0.25}. Best is trial 0 with value: 0.8816666666666667.\n",
      "[I 2025-06-23 15:40:07,803] Trial 3 finished with value: 0.8877083333333333 and parameters: {'penalty': 'elasticnet', 'solver': 'saga', 'C': 0.1, 'l1_ratio': 0.25}. Best is trial 3 with value: 0.8877083333333333.\n",
      "[I 2025-06-23 15:40:17,265] Trial 4 finished with value: 0.8902083333333334 and parameters: {'penalty': 'l2', 'solver': 'saga', 'C': 0.001, 'l1_ratio': 0.25}. Best is trial 4 with value: 0.8902083333333334.\n",
      "[I 2025-06-23 15:40:38,772] Trial 5 finished with value: 0.8958333333333334 and parameters: {'penalty': 'elasticnet', 'solver': 'saga', 'C': 0.01, 'l1_ratio': 0.25}. Best is trial 5 with value: 0.8958333333333334.\n",
      "[I 2025-06-23 15:40:49,537] A new study created in memory with name: LDA\n",
      "[I 2025-06-23 15:41:05,997] Trial 0 finished with value: 0.8110416666666667 and parameters: {'solver': 'svd', 'tol': 0.1}. Best is trial 0 with value: 0.8110416666666667.\n",
      "[I 2025-06-23 15:41:22,372] Trial 1 finished with value: 0.8110416666666667 and parameters: {'solver': 'svd', 'tol': 0.1}. Best is trial 0 with value: 0.8110416666666667.\n",
      "[I 2025-06-23 15:41:39,773] Trial 2 finished with value: 0.8110416666666667 and parameters: {'solver': 'svd', 'tol': 0.1}. Best is trial 0 with value: 0.8110416666666667.\n",
      "[I 2025-06-23 15:41:56,427] Trial 3 finished with value: 0.8014583333333333 and parameters: {'solver': 'svd', 'tol': 0.01}. Best is trial 0 with value: 0.8110416666666667.\n",
      "[I 2025-06-23 15:42:13,581] Trial 4 finished with value: 0.8110416666666667 and parameters: {'solver': 'svd', 'tol': 0.1}. Best is trial 0 with value: 0.8110416666666667.\n"
     ]
    },
    {
     "name": "stdout",
     "output_type": "stream",
     "text": [
      "EARLY STOPPING: No improvement after 4 trials!\n",
      "--> Best trial is 0 with value: 0.8110416666666667 and parameters: {'solver': 'svd', 'tol': 0.1}\n",
      "\n"
     ]
    },
    {
     "name": "stderr",
     "output_type": "stream",
     "text": [
      "[I 2025-06-23 15:42:19,504] A new study created in memory with name: LDA\n",
      "[I 2025-06-23 15:42:35,184] Trial 0 finished with value: 0.8093750000000001 and parameters: {'solver': 'svd', 'tol': 0.1}. Best is trial 0 with value: 0.8093750000000001.\n",
      "[I 2025-06-23 15:42:51,579] Trial 1 finished with value: 0.7972916666666666 and parameters: {'solver': 'svd', 'tol': 0.01}. Best is trial 0 with value: 0.8093750000000001.\n",
      "[I 2025-06-23 15:43:09,596] Trial 2 finished with value: 0.7972916666666666 and parameters: {'solver': 'svd', 'tol': 0.01}. Best is trial 0 with value: 0.8093750000000001.\n",
      "[I 2025-06-23 15:43:27,658] Trial 3 finished with value: 0.7991666666666667 and parameters: {'solver': 'svd', 'tol': 0.05}. Best is trial 0 with value: 0.8093750000000001.\n",
      "[I 2025-06-23 15:43:45,893] Trial 4 finished with value: 0.8093750000000001 and parameters: {'solver': 'svd', 'tol': 0.1}. Best is trial 0 with value: 0.8093750000000001.\n"
     ]
    },
    {
     "name": "stdout",
     "output_type": "stream",
     "text": [
      "EARLY STOPPING: No improvement after 4 trials!\n",
      "--> Best trial is 0 with value: 0.8093750000000001 and parameters: {'solver': 'svd', 'tol': 0.1}\n",
      "\n"
     ]
    },
    {
     "name": "stderr",
     "output_type": "stream",
     "text": [
      "[I 2025-06-23 15:43:52,165] A new study created in memory with name: LDA\n",
      "[I 2025-06-23 15:44:10,528] Trial 0 finished with value: 0.7977083333333331 and parameters: {'solver': 'svd', 'tol': 0.05}. Best is trial 0 with value: 0.7977083333333331.\n",
      "[I 2025-06-23 15:44:29,098] Trial 1 finished with value: 0.8025000000000001 and parameters: {'solver': 'svd', 'tol': 0.1}. Best is trial 1 with value: 0.8025000000000001.\n",
      "[I 2025-06-23 15:44:45,799] Trial 2 finished with value: 0.7977083333333331 and parameters: {'solver': 'svd', 'tol': 0.05}. Best is trial 1 with value: 0.8025000000000001.\n",
      "[I 2025-06-23 15:44:59,943] Trial 3 finished with value: 0.7972916666666666 and parameters: {'solver': 'svd', 'tol': 0.01}. Best is trial 1 with value: 0.8025000000000001.\n",
      "[I 2025-06-23 15:45:13,828] Trial 4 finished with value: 0.8025000000000001 and parameters: {'solver': 'svd', 'tol': 0.1}. Best is trial 1 with value: 0.8025000000000001.\n",
      "[I 2025-06-23 15:45:27,805] Trial 5 finished with value: 0.8025000000000001 and parameters: {'solver': 'svd', 'tol': 0.1}. Best is trial 1 with value: 0.8025000000000001.\n"
     ]
    },
    {
     "name": "stdout",
     "output_type": "stream",
     "text": [
      "EARLY STOPPING: No improvement after 4 trials!\n",
      "--> Best trial is 1 with value: 0.8025000000000001 and parameters: {'solver': 'svd', 'tol': 0.1}\n",
      "\n"
     ]
    },
    {
     "name": "stderr",
     "output_type": "stream",
     "text": [
      "[I 2025-06-23 15:45:33,090] A new study created in memory with name: LDA\n",
      "[I 2025-06-23 15:45:48,146] Trial 0 finished with value: 0.8077083333333333 and parameters: {'solver': 'svd', 'tol': 0.01}. Best is trial 0 with value: 0.8077083333333333.\n",
      "[I 2025-06-23 15:46:04,035] Trial 1 finished with value: 0.8145833333333332 and parameters: {'solver': 'svd', 'tol': 0.1}. Best is trial 1 with value: 0.8145833333333332.\n",
      "[I 2025-06-23 15:46:20,834] Trial 2 finished with value: 0.8077083333333333 and parameters: {'solver': 'svd', 'tol': 0.01}. Best is trial 1 with value: 0.8145833333333332.\n",
      "[I 2025-06-23 15:46:38,430] Trial 3 finished with value: 0.8099999999999999 and parameters: {'solver': 'svd', 'tol': 0.05}. Best is trial 1 with value: 0.8145833333333332.\n",
      "[I 2025-06-23 15:46:53,394] Trial 4 finished with value: 0.8145833333333332 and parameters: {'solver': 'svd', 'tol': 0.1}. Best is trial 1 with value: 0.8145833333333332.\n",
      "[I 2025-06-23 15:46:57,978] Trial 5 pruned. \n"
     ]
    },
    {
     "name": "stdout",
     "output_type": "stream",
     "text": [
      "EARLY STOPPING: No improvement after 4 trials!\n",
      "--> Best trial is 1 with value: 0.8145833333333332 and parameters: {'solver': 'svd', 'tol': 0.1}\n",
      "\n"
     ]
    },
    {
     "name": "stderr",
     "output_type": "stream",
     "text": [
      "[I 2025-06-23 15:47:03,252] A new study created in memory with name: LDA\n",
      "[I 2025-06-23 15:47:17,781] Trial 0 finished with value: 0.7937499999999998 and parameters: {'solver': 'svd', 'tol': 0.01}. Best is trial 0 with value: 0.7937499999999998.\n",
      "[I 2025-06-23 15:47:31,604] Trial 1 finished with value: 0.7914583333333334 and parameters: {'solver': 'svd', 'tol': 0.05}. Best is trial 0 with value: 0.7937499999999998.\n",
      "[I 2025-06-23 15:47:45,420] Trial 2 finished with value: 0.7914583333333334 and parameters: {'solver': 'svd', 'tol': 0.05}. Best is trial 0 with value: 0.7937499999999998.\n",
      "[I 2025-06-23 15:48:00,486] Trial 3 finished with value: 0.7937499999999998 and parameters: {'solver': 'svd', 'tol': 0.01}. Best is trial 0 with value: 0.7937499999999998.\n",
      "[I 2025-06-23 15:48:15,206] Trial 4 finished with value: 0.7914583333333334 and parameters: {'solver': 'svd', 'tol': 0.05}. Best is trial 0 with value: 0.7937499999999998.\n"
     ]
    },
    {
     "name": "stdout",
     "output_type": "stream",
     "text": [
      "EARLY STOPPING: No improvement after 4 trials!\n",
      "--> Best trial is 0 with value: 0.7937499999999998 and parameters: {'solver': 'svd', 'tol': 0.01}\n",
      "\n"
     ]
    },
    {
     "name": "stderr",
     "output_type": "stream",
     "text": [
      "[I 2025-06-23 15:48:20,474] A new study created in memory with name: RandomForest\n",
      "[I 2025-06-23 15:48:40,501] Trial 0 finished with value: 0.8620833333333334 and parameters: {'n_estimators': 500, 'max_depth': 10, 'min_samples_split': 2}. Best is trial 0 with value: 0.8620833333333334.\n",
      "[I 2025-06-23 15:49:00,375] Trial 1 finished with value: 0.8620833333333334 and parameters: {'n_estimators': 500, 'max_depth': 10, 'min_samples_split': 5}. Best is trial 0 with value: 0.8620833333333334.\n",
      "[I 2025-06-23 15:49:11,448] Trial 2 finished with value: 0.8243749999999999 and parameters: {'n_estimators': 500, 'max_depth': 5, 'min_samples_split': 2}. Best is trial 0 with value: 0.8620833333333334.\n",
      "[I 2025-06-23 15:49:31,421] Trial 3 finished with value: 0.8608333333333333 and parameters: {'n_estimators': 500, 'max_depth': 10, 'min_samples_split': 2}. Best is trial 0 with value: 0.8620833333333334.\n",
      "[I 2025-06-23 15:49:42,449] Trial 4 finished with value: 0.8204166666666666 and parameters: {'n_estimators': 500, 'max_depth': 5, 'min_samples_split': 2}. Best is trial 0 with value: 0.8620833333333334.\n"
     ]
    },
    {
     "name": "stdout",
     "output_type": "stream",
     "text": [
      "EARLY STOPPING: No improvement after 4 trials!\n",
      "--> Best trial is 0 with value: 0.8620833333333334 and parameters: {'n_estimators': 500, 'max_depth': 10, 'min_samples_split': 2}\n",
      "\n"
     ]
    },
    {
     "name": "stderr",
     "output_type": "stream",
     "text": [
      "[I 2025-06-23 15:49:52,382] A new study created in memory with name: RandomForest\n",
      "[I 2025-06-23 15:49:57,526] Trial 0 finished with value: 0.8670833333333333 and parameters: {'n_estimators': 100, 'max_depth': 15, 'min_samples_split': 10}. Best is trial 0 with value: 0.8670833333333333.\n",
      "[I 2025-06-23 15:50:03,106] Trial 1 finished with value: 0.8177083333333334 and parameters: {'n_estimators': 250, 'max_depth': 5, 'min_samples_split': 5}. Best is trial 0 with value: 0.8670833333333333.\n",
      "[I 2025-06-23 15:50:15,731] Trial 2 finished with value: 0.8712499999999999 and parameters: {'n_estimators': 250, 'max_depth': 15, 'min_samples_split': 5}. Best is trial 2 with value: 0.8712499999999999.\n",
      "[I 2025-06-23 15:50:28,426] Trial 3 finished with value: 0.868125 and parameters: {'n_estimators': 250, 'max_depth': 15, 'min_samples_split': 5}. Best is trial 2 with value: 0.8712499999999999.\n",
      "[I 2025-06-23 15:50:34,019] Trial 4 finished with value: 0.8154166666666667 and parameters: {'n_estimators': 250, 'max_depth': 5, 'min_samples_split': 2}. Best is trial 2 with value: 0.8712499999999999.\n",
      "[I 2025-06-23 15:50:37,348] Trial 5 pruned. \n",
      "[I 2025-06-23 15:50:38,141] Trial 6 pruned. \n"
     ]
    },
    {
     "name": "stdout",
     "output_type": "stream",
     "text": [
      "EARLY STOPPING: No improvement after 4 trials!\n",
      "--> Best trial is 2 with value: 0.8712499999999999 and parameters: {'n_estimators': 250, 'max_depth': 15, 'min_samples_split': 5}\n",
      "\n"
     ]
    },
    {
     "name": "stderr",
     "output_type": "stream",
     "text": [
      "[I 2025-06-23 15:50:44,481] A new study created in memory with name: RandomForest\n",
      "[I 2025-06-23 15:50:49,770] Trial 0 finished with value: 0.8741666666666666 and parameters: {'n_estimators': 100, 'max_depth': 15, 'min_samples_split': 5}. Best is trial 0 with value: 0.8741666666666666.\n",
      "[I 2025-06-23 15:50:52,198] Trial 1 finished with value: 0.8225000000000001 and parameters: {'n_estimators': 100, 'max_depth': 5, 'min_samples_split': 2}. Best is trial 0 with value: 0.8741666666666666.\n",
      "[I 2025-06-23 15:51:02,027] Trial 2 finished with value: 0.868125 and parameters: {'n_estimators': 250, 'max_depth': 10, 'min_samples_split': 10}. Best is trial 0 with value: 0.8741666666666666.\n",
      "[I 2025-06-23 15:51:07,188] Trial 3 finished with value: 0.8735416666666667 and parameters: {'n_estimators': 100, 'max_depth': 15, 'min_samples_split': 10}. Best is trial 0 with value: 0.8741666666666666.\n",
      "[I 2025-06-23 15:51:11,332] Trial 4 finished with value: 0.8604166666666666 and parameters: {'n_estimators': 100, 'max_depth': 10, 'min_samples_split': 5}. Best is trial 0 with value: 0.8741666666666666.\n"
     ]
    },
    {
     "name": "stdout",
     "output_type": "stream",
     "text": [
      "EARLY STOPPING: No improvement after 4 trials!\n",
      "--> Best trial is 0 with value: 0.8741666666666666 and parameters: {'n_estimators': 100, 'max_depth': 15, 'min_samples_split': 5}\n",
      "\n"
     ]
    },
    {
     "name": "stderr",
     "output_type": "stream",
     "text": [
      "[I 2025-06-23 15:51:14,080] A new study created in memory with name: RandomForest\n",
      "[I 2025-06-23 15:51:23,992] Trial 0 finished with value: 0.8591666666666667 and parameters: {'n_estimators': 250, 'max_depth': 10, 'min_samples_split': 2}. Best is trial 0 with value: 0.8591666666666667.\n",
      "[I 2025-06-23 15:51:43,049] Trial 1 finished with value: 0.8591666666666665 and parameters: {'n_estimators': 500, 'max_depth': 10, 'min_samples_split': 10}. Best is trial 0 with value: 0.8591666666666667.\n",
      "[I 2025-06-23 15:51:47,179] Trial 2 finished with value: 0.8575 and parameters: {'n_estimators': 100, 'max_depth': 10, 'min_samples_split': 5}. Best is trial 0 with value: 0.8591666666666667.\n",
      "[I 2025-06-23 15:51:51,217] Trial 3 finished with value: 0.8575 and parameters: {'n_estimators': 100, 'max_depth': 10, 'min_samples_split': 10}. Best is trial 0 with value: 0.8591666666666667.\n",
      "[I 2025-06-23 15:52:16,609] Trial 4 finished with value: 0.8762500000000001 and parameters: {'n_estimators': 500, 'max_depth': 15, 'min_samples_split': 2}. Best is trial 4 with value: 0.8762500000000001.\n",
      "[I 2025-06-23 15:52:17,974] Trial 5 pruned. \n",
      "[I 2025-06-23 15:52:43,004] Trial 6 finished with value: 0.8762500000000001 and parameters: {'n_estimators': 500, 'max_depth': 15, 'min_samples_split': 5}. Best is trial 4 with value: 0.8762500000000001.\n",
      "[I 2025-06-23 15:52:46,645] Trial 7 pruned. \n",
      "[I 2025-06-23 15:53:11,556] Trial 8 finished with value: 0.8752083333333333 and parameters: {'n_estimators': 500, 'max_depth': 15, 'min_samples_split': 10}. Best is trial 4 with value: 0.8762500000000001.\n"
     ]
    },
    {
     "name": "stdout",
     "output_type": "stream",
     "text": [
      "EARLY STOPPING: No improvement after 4 trials!\n",
      "--> Best trial is 4 with value: 0.8762500000000001 and parameters: {'n_estimators': 500, 'max_depth': 15, 'min_samples_split': 2}\n",
      "\n"
     ]
    },
    {
     "name": "stderr",
     "output_type": "stream",
     "text": [
      "[I 2025-06-23 15:53:24,572] A new study created in memory with name: RandomForest\n",
      "[I 2025-06-23 15:53:26,985] Trial 0 finished with value: 0.8297916666666666 and parameters: {'n_estimators': 100, 'max_depth': 5, 'min_samples_split': 5}. Best is trial 0 with value: 0.8297916666666666.\n",
      "[I 2025-06-23 15:53:29,411] Trial 1 finished with value: 0.8164583333333333 and parameters: {'n_estimators': 100, 'max_depth': 5, 'min_samples_split': 10}. Best is trial 0 with value: 0.8297916666666666.\n",
      "[I 2025-06-23 15:53:40,438] Trial 2 finished with value: 0.8239583333333335 and parameters: {'n_estimators': 500, 'max_depth': 5, 'min_samples_split': 10}. Best is trial 0 with value: 0.8297916666666666.\n",
      "[I 2025-06-23 15:54:00,466] Trial 3 finished with value: 0.8620833333333332 and parameters: {'n_estimators': 500, 'max_depth': 10, 'min_samples_split': 5}. Best is trial 3 with value: 0.8620833333333332.\n",
      "[I 2025-06-23 15:54:06,217] Trial 4 finished with value: 0.8210416666666666 and parameters: {'n_estimators': 250, 'max_depth': 5, 'min_samples_split': 5}. Best is trial 3 with value: 0.8620833333333332.\n",
      "[I 2025-06-23 15:54:10,478] Trial 5 finished with value: 0.8597916666666666 and parameters: {'n_estimators': 100, 'max_depth': 10, 'min_samples_split': 5}. Best is trial 3 with value: 0.8620833333333332.\n",
      "[I 2025-06-23 15:54:23,779] Trial 6 finished with value: 0.8766666666666666 and parameters: {'n_estimators': 250, 'max_depth': 15, 'min_samples_split': 2}. Best is trial 6 with value: 0.8766666666666666.\n",
      "[I 2025-06-23 15:54:49,847] Trial 7 finished with value: 0.88125 and parameters: {'n_estimators': 500, 'max_depth': 15, 'min_samples_split': 5}. Best is trial 7 with value: 0.88125.\n",
      "[I 2025-06-23 15:54:50,652] Trial 8 pruned. \n",
      "[I 2025-06-23 15:54:55,797] Trial 9 finished with value: 0.8745833333333334 and parameters: {'n_estimators': 100, 'max_depth': 15, 'min_samples_split': 10}. Best is trial 7 with value: 0.88125.\n",
      "[I 2025-06-23 15:55:08,766] A new study created in memory with name: LightGBM\n",
      "[I 2025-06-23 15:55:17,098] Trial 0 finished with value: 0.9077083333333333 and parameters: {'n_estimators': 100, 'max_depth': 15, 'learning_rate': 0.1, 'verbosity': -1}. Best is trial 0 with value: 0.9077083333333333.\n",
      "[I 2025-06-23 15:55:35,326] Trial 1 finished with value: 0.9104166666666668 and parameters: {'n_estimators': 250, 'max_depth': 10, 'learning_rate': 0.1, 'verbosity': -1}. Best is trial 1 with value: 0.9104166666666668.\n",
      "[I 2025-06-23 15:55:43,751] Trial 2 finished with value: 0.9081250000000001 and parameters: {'n_estimators': 100, 'max_depth': 10, 'learning_rate': 0.1, 'verbosity': -1}. Best is trial 1 with value: 0.9104166666666668.\n",
      "[I 2025-06-23 15:56:28,413] Trial 3 finished with value: 0.855 and parameters: {'n_estimators': 500, 'max_depth': 10, 'learning_rate': 0.001, 'verbosity': -1}. Best is trial 1 with value: 0.9104166666666668.\n",
      "[I 2025-06-23 15:56:42,443] Trial 4 finished with value: 0.8885416666666668 and parameters: {'n_estimators': 250, 'max_depth': 5, 'learning_rate': 0.01, 'verbosity': -1}. Best is trial 1 with value: 0.9104166666666668.\n",
      "[I 2025-06-23 15:56:47,525] Trial 5 finished with value: 0.9093749999999999 and parameters: {'n_estimators': 100, 'max_depth': 5, 'learning_rate': 0.1, 'verbosity': -1}. Best is trial 1 with value: 0.9104166666666668.\n"
     ]
    },
    {
     "name": "stdout",
     "output_type": "stream",
     "text": [
      "EARLY STOPPING: No improvement after 4 trials!\n",
      "--> Best trial is 1 with value: 0.9104166666666668 and parameters: {'n_estimators': 250, 'max_depth': 10, 'learning_rate': 0.1, 'verbosity': -1}\n",
      "\n"
     ]
    },
    {
     "name": "stderr",
     "output_type": "stream",
     "text": [
      "[I 2025-06-23 15:56:56,552] A new study created in memory with name: LightGBM\n",
      "[I 2025-06-23 15:57:18,878] Trial 0 finished with value: 0.8947916666666668 and parameters: {'n_estimators': 250, 'max_depth': 15, 'learning_rate': 0.01, 'verbosity': -1}. Best is trial 0 with value: 0.8947916666666668.\n",
      "[I 2025-06-23 15:57:44,577] Trial 1 finished with value: 0.8604166666666666 and parameters: {'n_estimators': 250, 'max_depth': 15, 'learning_rate': 0.001, 'verbosity': -1}. Best is trial 0 with value: 0.8947916666666668.\n",
      "[I 2025-06-23 15:57:53,468] Trial 2 finished with value: 0.91375 and parameters: {'n_estimators': 100, 'max_depth': 15, 'learning_rate': 0.1, 'verbosity': -1}. Best is trial 2 with value: 0.91375.\n",
      "[I 2025-06-23 15:58:17,511] Trial 3 finished with value: 0.8604166666666666 and parameters: {'n_estimators': 250, 'max_depth': 10, 'learning_rate': 0.001, 'verbosity': -1}. Best is trial 2 with value: 0.91375.\n",
      "[I 2025-06-23 15:58:24,523] Trial 4 finished with value: 0.8585416666666666 and parameters: {'n_estimators': 100, 'max_depth': 5, 'learning_rate': 0.01, 'verbosity': -1}. Best is trial 2 with value: 0.91375.\n",
      "[I 2025-06-23 15:58:39,758] Trial 5 pruned. \n",
      "[I 2025-06-23 15:58:44,205] A new study created in memory with name: LightGBM\n",
      "[I 2025-06-23 15:58:58,739] Trial 0 finished with value: 0.8189583333333333 and parameters: {'n_estimators': 250, 'max_depth': 5, 'learning_rate': 0.001, 'verbosity': -1}. Best is trial 0 with value: 0.8189583333333333.\n",
      "[I 2025-06-23 15:59:21,703] Trial 1 finished with value: 0.850625 and parameters: {'n_estimators': 250, 'max_depth': 10, 'learning_rate': 0.001, 'verbosity': -1}. Best is trial 1 with value: 0.850625.\n",
      "[I 2025-06-23 15:59:28,175] Trial 2 finished with value: 0.8039583333333334 and parameters: {'n_estimators': 100, 'max_depth': 5, 'learning_rate': 0.001, 'verbosity': -1}. Best is trial 1 with value: 0.850625.\n",
      "[I 2025-06-23 15:59:49,384] Trial 3 finished with value: 0.850625 and parameters: {'n_estimators': 250, 'max_depth': 10, 'learning_rate': 0.001, 'verbosity': -1}. Best is trial 1 with value: 0.850625.\n",
      "[I 2025-06-23 16:00:26,412] Trial 4 finished with value: 0.9170833333333334 and parameters: {'n_estimators': 500, 'max_depth': 15, 'learning_rate': 0.1, 'verbosity': -1}. Best is trial 4 with value: 0.9170833333333334.\n",
      "[I 2025-06-23 16:00:45,569] A new study created in memory with name: LightGBM\n",
      "[I 2025-06-23 16:01:10,163] Trial 0 finished with value: 0.8508333333333334 and parameters: {'n_estimators': 250, 'max_depth': 10, 'learning_rate': 0.001, 'verbosity': -1}. Best is trial 0 with value: 0.8508333333333334.\n",
      "[I 2025-06-23 16:01:38,564] Trial 1 finished with value: 0.8483333333333333 and parameters: {'n_estimators': 500, 'max_depth': 5, 'learning_rate': 0.001, 'verbosity': -1}. Best is trial 0 with value: 0.8508333333333334.\n",
      "[I 2025-06-23 16:01:57,899] Trial 2 finished with value: 0.9166666666666666 and parameters: {'n_estimators': 250, 'max_depth': 10, 'learning_rate': 0.1, 'verbosity': -1}. Best is trial 2 with value: 0.9166666666666666.\n",
      "[I 2025-06-23 16:02:18,991] Trial 3 finished with value: 0.9160416666666666 and parameters: {'n_estimators': 500, 'max_depth': 5, 'learning_rate': 0.1, 'verbosity': -1}. Best is trial 2 with value: 0.9166666666666666.\n",
      "[I 2025-06-23 16:02:33,684] Trial 4 finished with value: 0.8272916666666666 and parameters: {'n_estimators': 250, 'max_depth': 5, 'learning_rate': 0.001, 'verbosity': -1}. Best is trial 2 with value: 0.9166666666666666.\n",
      "[I 2025-06-23 16:02:43,351] A new study created in memory with name: LightGBM\n",
      "[I 2025-06-23 16:03:17,511] Trial 0 finished with value: 0.9147916666666666 and parameters: {'n_estimators': 500, 'max_depth': 15, 'learning_rate': 0.1, 'verbosity': -1}. Best is trial 0 with value: 0.9147916666666666.\n",
      "[I 2025-06-23 16:03:34,533] Trial 1 finished with value: 0.9147916666666666 and parameters: {'n_estimators': 500, 'max_depth': 5, 'learning_rate': 0.1, 'verbosity': -1}. Best is trial 0 with value: 0.9147916666666666.\n",
      "[I 2025-06-23 16:03:54,486] Trial 2 finished with value: 0.8922916666666666 and parameters: {'n_estimators': 250, 'max_depth': 10, 'learning_rate': 0.01, 'verbosity': -1}. Best is trial 0 with value: 0.9147916666666666.\n",
      "[I 2025-06-23 16:04:19,614] Trial 3 finished with value: 0.9016666666666667 and parameters: {'n_estimators': 500, 'max_depth': 5, 'learning_rate': 0.01, 'verbosity': -1}. Best is trial 0 with value: 0.9147916666666666.\n",
      "[I 2025-06-23 16:04:25,638] Trial 4 finished with value: 0.7995833333333334 and parameters: {'n_estimators': 100, 'max_depth': 5, 'learning_rate': 0.001, 'verbosity': -1}. Best is trial 0 with value: 0.9147916666666666.\n"
     ]
    },
    {
     "name": "stdout",
     "output_type": "stream",
     "text": [
      "EARLY STOPPING: No improvement after 4 trials!\n",
      "--> Best trial is 0 with value: 0.9147916666666666 and parameters: {'n_estimators': 500, 'max_depth': 15, 'learning_rate': 0.1, 'verbosity': -1}\n",
      "\n"
     ]
    },
    {
     "name": "stderr",
     "output_type": "stream",
     "text": [
      "[I 2025-06-23 16:04:44,688] A new study created in memory with name: LogisticRegression\n"
     ]
    },
    {
     "name": "stdout",
     "output_type": "stream",
     "text": [
      "------ Repetition 2/4 ------\n",
      "\n"
     ]
    },
    {
     "name": "stderr",
     "output_type": "stream",
     "text": [
      "[I 2025-06-23 16:05:03,877] Trial 0 finished with value: 0.8854166666666666 and parameters: {'penalty': 'l1', 'solver': 'saga', 'C': 0.01, 'l1_ratio': 0.5}. Best is trial 0 with value: 0.8854166666666666.\n",
      "[I 2025-06-23 16:05:22,981] Trial 1 finished with value: 0.885625 and parameters: {'penalty': 'l1', 'solver': 'saga', 'C': 0.01, 'l1_ratio': 0.25}. Best is trial 1 with value: 0.885625.\n",
      "[I 2025-06-23 16:05:44,583] Trial 2 finished with value: 0.8941666666666667 and parameters: {'penalty': 'l1', 'solver': 'saga', 'C': 0.1, 'l1_ratio': 0.25}. Best is trial 2 with value: 0.8941666666666667.\n",
      "[I 2025-06-23 16:06:03,676] Trial 3 finished with value: 0.885625 and parameters: {'penalty': 'l1', 'solver': 'saga', 'C': 0.01, 'l1_ratio': 0.5}. Best is trial 2 with value: 0.8941666666666667.\n",
      "[I 2025-06-23 16:06:15,145] Trial 4 finished with value: 0.7902083333333333 and parameters: {'penalty': 'elasticnet', 'solver': 'saga', 'C': 0.001, 'l1_ratio': 0.5}. Best is trial 2 with value: 0.8941666666666667.\n",
      "[I 2025-06-23 16:06:23,273] Trial 5 pruned. \n",
      "[I 2025-06-23 16:06:27,984] Trial 6 pruned. \n"
     ]
    },
    {
     "name": "stdout",
     "output_type": "stream",
     "text": [
      "EARLY STOPPING: No improvement after 4 trials!\n",
      "--> Best trial is 2 with value: 0.8941666666666667 and parameters: {'penalty': 'l1', 'solver': 'saga', 'C': 0.1, 'l1_ratio': 0.25}\n",
      "\n"
     ]
    },
    {
     "name": "stderr",
     "output_type": "stream",
     "text": [
      "[I 2025-06-23 16:06:39,312] A new study created in memory with name: LogisticRegression\n",
      "[I 2025-06-23 16:06:48,865] Trial 0 finished with value: 0.8960416666666666 and parameters: {'penalty': 'l2', 'solver': 'saga', 'C': 0.001, 'l1_ratio': 0.5}. Best is trial 0 with value: 0.8960416666666666.\n",
      "[I 2025-06-23 16:07:03,088] Trial 1 finished with value: 0.8889583333333334 and parameters: {'penalty': 'l2', 'solver': 'saga', 'C': 0.01, 'l1_ratio': 0.25}. Best is trial 0 with value: 0.8960416666666666.\n",
      "[I 2025-06-23 16:07:17,396] Trial 2 finished with value: 0.88625 and parameters: {'penalty': 'l2', 'solver': 'saga', 'C': 0.1, 'l1_ratio': 0.5}. Best is trial 0 with value: 0.8960416666666666.\n",
      "[I 2025-06-23 16:07:38,959] Trial 3 finished with value: 0.8960416666666667 and parameters: {'penalty': 'l1', 'solver': 'saga', 'C': 0.1, 'l1_ratio': 0.75}. Best is trial 3 with value: 0.8960416666666667.\n",
      "[I 2025-06-23 16:07:56,239] Trial 4 finished with value: 0.7625000000000001 and parameters: {'penalty': 'l1', 'solver': 'saga', 'C': 0.001, 'l1_ratio': 0.25}. Best is trial 3 with value: 0.8960416666666667.\n",
      "[I 2025-06-23 16:08:12,463] Trial 5 pruned. \n",
      "[I 2025-06-23 16:08:34,105] Trial 6 finished with value: 0.8962499999999999 and parameters: {'penalty': 'l1', 'solver': 'saga', 'C': 0.1, 'l1_ratio': 0.75}. Best is trial 6 with value: 0.8962499999999999.\n",
      "[I 2025-06-23 16:08:45,209] A new study created in memory with name: LogisticRegression\n",
      "[I 2025-06-23 16:09:05,737] Trial 0 finished with value: 0.9020833333333332 and parameters: {'penalty': 'elasticnet', 'solver': 'saga', 'C': 0.01, 'l1_ratio': 0.5}. Best is trial 0 with value: 0.9020833333333332.\n",
      "[I 2025-06-23 16:09:25,385] Trial 1 finished with value: 0.8952083333333333 and parameters: {'penalty': 'elasticnet', 'solver': 'saga', 'C': 0.01, 'l1_ratio': 0.75}. Best is trial 0 with value: 0.9020833333333332.\n",
      "[I 2025-06-23 16:09:39,623] Trial 2 finished with value: 0.8893749999999999 and parameters: {'penalty': 'l2', 'solver': 'saga', 'C': 0.1, 'l1_ratio': 0.25}. Best is trial 0 with value: 0.9020833333333332.\n",
      "[I 2025-06-23 16:09:59,300] Trial 3 finished with value: 0.895 and parameters: {'penalty': 'elasticnet', 'solver': 'saga', 'C': 0.01, 'l1_ratio': 0.75}. Best is trial 0 with value: 0.9020833333333332.\n",
      "[I 2025-06-23 16:10:18,256] Trial 4 finished with value: 0.886875 and parameters: {'penalty': 'l1', 'solver': 'saga', 'C': 0.01, 'l1_ratio': 0.75}. Best is trial 0 with value: 0.9020833333333332.\n"
     ]
    },
    {
     "name": "stdout",
     "output_type": "stream",
     "text": [
      "EARLY STOPPING: No improvement after 4 trials!\n",
      "--> Best trial is 0 with value: 0.9020833333333332 and parameters: {'penalty': 'elasticnet', 'solver': 'saga', 'C': 0.01, 'l1_ratio': 0.5}\n",
      "\n"
     ]
    },
    {
     "name": "stderr",
     "output_type": "stream",
     "text": [
      "[I 2025-06-23 16:10:28,742] A new study created in memory with name: LogisticRegression\n",
      "[I 2025-06-23 16:10:46,051] Trial 0 finished with value: 0.7779166666666667 and parameters: {'penalty': 'elasticnet', 'solver': 'saga', 'C': 0.001, 'l1_ratio': 0.75}. Best is trial 0 with value: 0.7779166666666667.\n",
      "[I 2025-06-23 16:11:00,501] Trial 1 finished with value: 0.8904166666666667 and parameters: {'penalty': 'l2', 'solver': 'saga', 'C': 0.1, 'l1_ratio': 0.75}. Best is trial 1 with value: 0.8904166666666667.\n",
      "[I 2025-06-23 16:11:19,408] Trial 2 finished with value: 0.8845833333333334 and parameters: {'penalty': 'l1', 'solver': 'saga', 'C': 0.01, 'l1_ratio': 0.5}. Best is trial 1 with value: 0.8904166666666667.\n",
      "[I 2025-06-23 16:11:38,396] Trial 3 finished with value: 0.8845833333333334 and parameters: {'penalty': 'l1', 'solver': 'saga', 'C': 0.01, 'l1_ratio': 0.75}. Best is trial 1 with value: 0.8904166666666667.\n",
      "[I 2025-06-23 16:11:59,750] Trial 4 finished with value: 0.8989583333333333 and parameters: {'penalty': 'elasticnet', 'solver': 'saga', 'C': 0.01, 'l1_ratio': 0.25}. Best is trial 4 with value: 0.8989583333333333.\n",
      "[I 2025-06-23 16:12:05,513] Trial 5 pruned. \n",
      "[I 2025-06-23 16:12:11,318] Trial 6 pruned. \n",
      "[I 2025-06-23 16:12:22,129] A new study created in memory with name: LogisticRegression\n",
      "[I 2025-06-23 16:12:34,479] Trial 0 finished with value: 0.8487499999999999 and parameters: {'penalty': 'elasticnet', 'solver': 'saga', 'C': 0.001, 'l1_ratio': 0.25}. Best is trial 0 with value: 0.8487499999999999.\n",
      "[I 2025-06-23 16:12:51,686] Trial 1 finished with value: 0.7575 and parameters: {'penalty': 'l1', 'solver': 'saga', 'C': 0.001, 'l1_ratio': 0.25}. Best is trial 0 with value: 0.8487499999999999.\n",
      "[I 2025-06-23 16:13:05,753] Trial 2 finished with value: 0.8864583333333332 and parameters: {'penalty': 'l2', 'solver': 'saga', 'C': 0.1, 'l1_ratio': 0.25}. Best is trial 2 with value: 0.8864583333333332.\n",
      "[I 2025-06-23 16:13:20,025] Trial 3 finished with value: 0.8881249999999999 and parameters: {'penalty': 'l2', 'solver': 'saga', 'C': 0.01, 'l1_ratio': 0.5}. Best is trial 3 with value: 0.8881249999999999.\n",
      "[I 2025-06-23 16:13:39,124] Trial 4 finished with value: 0.886875 and parameters: {'penalty': 'l1', 'solver': 'saga', 'C': 0.01, 'l1_ratio': 0.25}. Best is trial 3 with value: 0.8881249999999999.\n",
      "[I 2025-06-23 16:13:53,470] Trial 5 finished with value: 0.8870833333333333 and parameters: {'penalty': 'l2', 'solver': 'saga', 'C': 0.1, 'l1_ratio': 0.75}. Best is trial 3 with value: 0.8881249999999999.\n",
      "[I 2025-06-23 16:14:02,972] Trial 6 finished with value: 0.89875 and parameters: {'penalty': 'l2', 'solver': 'saga', 'C': 0.001, 'l1_ratio': 0.5}. Best is trial 6 with value: 0.89875.\n",
      "[I 2025-06-23 16:14:07,902] A new study created in memory with name: LDA\n",
      "[I 2025-06-23 16:14:21,734] Trial 0 finished with value: 0.8002083333333333 and parameters: {'solver': 'svd', 'tol': 0.05}. Best is trial 0 with value: 0.8002083333333333.\n",
      "[I 2025-06-23 16:14:35,619] Trial 1 finished with value: 0.7979166666666666 and parameters: {'solver': 'svd', 'tol': 0.01}. Best is trial 0 with value: 0.8002083333333333.\n",
      "[I 2025-06-23 16:14:49,905] Trial 2 finished with value: 0.8089583333333333 and parameters: {'solver': 'svd', 'tol': 0.1}. Best is trial 2 with value: 0.8089583333333333.\n",
      "[I 2025-06-23 16:15:03,784] Trial 3 finished with value: 0.8089583333333333 and parameters: {'solver': 'svd', 'tol': 0.1}. Best is trial 2 with value: 0.8089583333333333.\n",
      "[I 2025-06-23 16:15:17,471] Trial 4 finished with value: 0.8089583333333333 and parameters: {'solver': 'svd', 'tol': 0.1}. Best is trial 2 with value: 0.8089583333333333.\n",
      "[I 2025-06-23 16:15:31,691] Trial 5 finished with value: 0.8089583333333333 and parameters: {'solver': 'svd', 'tol': 0.1}. Best is trial 2 with value: 0.8089583333333333.\n",
      "[I 2025-06-23 16:15:45,434] Trial 6 finished with value: 0.8089583333333333 and parameters: {'solver': 'svd', 'tol': 0.1}. Best is trial 2 with value: 0.8089583333333333.\n"
     ]
    },
    {
     "name": "stdout",
     "output_type": "stream",
     "text": [
      "EARLY STOPPING: No improvement after 4 trials!\n",
      "--> Best trial is 2 with value: 0.8089583333333333 and parameters: {'solver': 'svd', 'tol': 0.1}\n",
      "\n"
     ]
    },
    {
     "name": "stderr",
     "output_type": "stream",
     "text": [
      "[I 2025-06-23 16:15:50,725] A new study created in memory with name: LDA\n",
      "[I 2025-06-23 16:16:04,550] Trial 0 finished with value: 0.8085416666666667 and parameters: {'solver': 'svd', 'tol': 0.05}. Best is trial 0 with value: 0.8085416666666667.\n",
      "[I 2025-06-23 16:16:18,308] Trial 1 finished with value: 0.808125 and parameters: {'solver': 'svd', 'tol': 0.01}. Best is trial 0 with value: 0.8085416666666667.\n",
      "[I 2025-06-23 16:16:32,197] Trial 2 finished with value: 0.808125 and parameters: {'solver': 'svd', 'tol': 0.01}. Best is trial 0 with value: 0.8085416666666667.\n",
      "[I 2025-06-23 16:16:45,985] Trial 3 finished with value: 0.811875 and parameters: {'solver': 'svd', 'tol': 0.1}. Best is trial 3 with value: 0.811875.\n",
      "[I 2025-06-23 16:16:59,865] Trial 4 finished with value: 0.8085416666666667 and parameters: {'solver': 'svd', 'tol': 0.05}. Best is trial 3 with value: 0.811875.\n",
      "[I 2025-06-23 16:17:13,665] Trial 5 finished with value: 0.811875 and parameters: {'solver': 'svd', 'tol': 0.1}. Best is trial 3 with value: 0.811875.\n",
      "[I 2025-06-23 16:17:18,317] Trial 6 pruned. \n",
      "[I 2025-06-23 16:17:32,295] Trial 7 pruned. \n"
     ]
    },
    {
     "name": "stdout",
     "output_type": "stream",
     "text": [
      "EARLY STOPPING: No improvement after 4 trials!\n",
      "--> Best trial is 3 with value: 0.811875 and parameters: {'solver': 'svd', 'tol': 0.1}\n",
      "\n"
     ]
    },
    {
     "name": "stderr",
     "output_type": "stream",
     "text": [
      "[I 2025-06-23 16:17:37,607] A new study created in memory with name: LDA\n",
      "[I 2025-06-23 16:17:51,374] Trial 0 finished with value: 0.8070833333333334 and parameters: {'solver': 'svd', 'tol': 0.1}. Best is trial 0 with value: 0.8070833333333334.\n",
      "[I 2025-06-23 16:18:05,308] Trial 1 finished with value: 0.7966666666666665 and parameters: {'solver': 'svd', 'tol': 0.05}. Best is trial 0 with value: 0.8070833333333334.\n",
      "[I 2025-06-23 16:18:19,876] Trial 2 finished with value: 0.7966666666666665 and parameters: {'solver': 'svd', 'tol': 0.05}. Best is trial 0 with value: 0.8070833333333334.\n",
      "[I 2025-06-23 16:18:33,915] Trial 3 finished with value: 0.7966666666666665 and parameters: {'solver': 'svd', 'tol': 0.05}. Best is trial 0 with value: 0.8070833333333334.\n",
      "[I 2025-06-23 16:18:47,807] Trial 4 finished with value: 0.8070833333333334 and parameters: {'solver': 'svd', 'tol': 0.1}. Best is trial 0 with value: 0.8070833333333334.\n"
     ]
    },
    {
     "name": "stdout",
     "output_type": "stream",
     "text": [
      "EARLY STOPPING: No improvement after 4 trials!\n",
      "--> Best trial is 0 with value: 0.8070833333333334 and parameters: {'solver': 'svd', 'tol': 0.1}\n",
      "\n"
     ]
    },
    {
     "name": "stderr",
     "output_type": "stream",
     "text": [
      "[I 2025-06-23 16:18:53,058] A new study created in memory with name: LDA\n",
      "[I 2025-06-23 16:19:06,948] Trial 0 finished with value: 0.8112499999999999 and parameters: {'solver': 'svd', 'tol': 0.1}. Best is trial 0 with value: 0.8112499999999999.\n",
      "[I 2025-06-23 16:19:20,868] Trial 1 finished with value: 0.8008333333333333 and parameters: {'solver': 'svd', 'tol': 0.01}. Best is trial 0 with value: 0.8112499999999999.\n",
      "[I 2025-06-23 16:19:34,859] Trial 2 finished with value: 0.8008333333333333 and parameters: {'solver': 'svd', 'tol': 0.01}. Best is trial 0 with value: 0.8112499999999999.\n",
      "[I 2025-06-23 16:19:49,615] Trial 3 finished with value: 0.8112499999999999 and parameters: {'solver': 'svd', 'tol': 0.1}. Best is trial 0 with value: 0.8112499999999999.\n",
      "[I 2025-06-23 16:20:03,899] Trial 4 finished with value: 0.8008333333333333 and parameters: {'solver': 'svd', 'tol': 0.01}. Best is trial 0 with value: 0.8112499999999999.\n"
     ]
    },
    {
     "name": "stdout",
     "output_type": "stream",
     "text": [
      "EARLY STOPPING: No improvement after 4 trials!\n",
      "--> Best trial is 0 with value: 0.8112499999999999 and parameters: {'solver': 'svd', 'tol': 0.1}\n",
      "\n"
     ]
    },
    {
     "name": "stderr",
     "output_type": "stream",
     "text": [
      "[I 2025-06-23 16:20:09,121] A new study created in memory with name: LDA\n",
      "[I 2025-06-23 16:20:22,982] Trial 0 finished with value: 0.8058333333333333 and parameters: {'solver': 'svd', 'tol': 0.01}. Best is trial 0 with value: 0.8058333333333333.\n",
      "[I 2025-06-23 16:20:36,807] Trial 1 finished with value: 0.8052083333333333 and parameters: {'solver': 'svd', 'tol': 0.05}. Best is trial 0 with value: 0.8058333333333333.\n",
      "[I 2025-06-23 16:20:52,311] Trial 2 finished with value: 0.8150000000000001 and parameters: {'solver': 'svd', 'tol': 0.1}. Best is trial 2 with value: 0.8150000000000001.\n",
      "[I 2025-06-23 16:21:06,523] Trial 3 finished with value: 0.8058333333333333 and parameters: {'solver': 'svd', 'tol': 0.01}. Best is trial 2 with value: 0.8150000000000001.\n",
      "[I 2025-06-23 16:21:19,743] Trial 4 finished with value: 0.8058333333333333 and parameters: {'solver': 'svd', 'tol': 0.01}. Best is trial 2 with value: 0.8150000000000001.\n",
      "[I 2025-06-23 16:21:35,036] Trial 5 finished with value: 0.8058333333333333 and parameters: {'solver': 'svd', 'tol': 0.01}. Best is trial 2 with value: 0.8150000000000001.\n",
      "[I 2025-06-23 16:21:51,251] Trial 6 finished with value: 0.8150000000000001 and parameters: {'solver': 'svd', 'tol': 0.1}. Best is trial 2 with value: 0.8150000000000001.\n"
     ]
    },
    {
     "name": "stdout",
     "output_type": "stream",
     "text": [
      "EARLY STOPPING: No improvement after 4 trials!\n",
      "--> Best trial is 2 with value: 0.8150000000000001 and parameters: {'solver': 'svd', 'tol': 0.1}\n",
      "\n"
     ]
    },
    {
     "name": "stderr",
     "output_type": "stream",
     "text": [
      "[I 2025-06-23 16:21:57,235] A new study created in memory with name: RandomForest\n",
      "[I 2025-06-23 16:22:01,543] Trial 0 finished with value: 0.8566666666666668 and parameters: {'n_estimators': 100, 'max_depth': 10, 'min_samples_split': 5}. Best is trial 0 with value: 0.8566666666666668.\n",
      "[I 2025-06-23 16:22:07,329] Trial 1 finished with value: 0.8177083333333334 and parameters: {'n_estimators': 250, 'max_depth': 5, 'min_samples_split': 10}. Best is trial 0 with value: 0.8566666666666668.\n",
      "[I 2025-06-23 16:22:13,024] Trial 2 finished with value: 0.8208333333333333 and parameters: {'n_estimators': 250, 'max_depth': 5, 'min_samples_split': 10}. Best is trial 0 with value: 0.8566666666666668.\n",
      "[I 2025-06-23 16:22:33,258] Trial 3 finished with value: 0.859375 and parameters: {'n_estimators': 500, 'max_depth': 10, 'min_samples_split': 2}. Best is trial 3 with value: 0.859375.\n",
      "[I 2025-06-23 16:22:58,577] Trial 4 finished with value: 0.881875 and parameters: {'n_estimators': 500, 'max_depth': 15, 'min_samples_split': 10}. Best is trial 4 with value: 0.881875.\n",
      "[I 2025-06-23 16:23:02,381] Trial 5 pruned. \n",
      "[I 2025-06-23 16:23:04,273] Trial 6 pruned. \n",
      "[I 2025-06-23 16:23:14,303] Trial 7 finished with value: 0.8577083333333334 and parameters: {'n_estimators': 250, 'max_depth': 10, 'min_samples_split': 10}. Best is trial 4 with value: 0.881875.\n",
      "[I 2025-06-23 16:23:18,020] Trial 8 pruned. \n"
     ]
    },
    {
     "name": "stdout",
     "output_type": "stream",
     "text": [
      "EARLY STOPPING: No improvement after 4 trials!\n",
      "--> Best trial is 4 with value: 0.881875 and parameters: {'n_estimators': 500, 'max_depth': 15, 'min_samples_split': 10}\n",
      "\n"
     ]
    },
    {
     "name": "stderr",
     "output_type": "stream",
     "text": [
      "[I 2025-06-23 16:23:31,064] A new study created in memory with name: RandomForest\n",
      "[I 2025-06-23 16:23:42,221] Trial 0 finished with value: 0.82875 and parameters: {'n_estimators': 500, 'max_depth': 5, 'min_samples_split': 2}. Best is trial 0 with value: 0.82875.\n",
      "[I 2025-06-23 16:23:47,720] Trial 1 finished with value: 0.8741666666666666 and parameters: {'n_estimators': 100, 'max_depth': 15, 'min_samples_split': 2}. Best is trial 1 with value: 0.8741666666666666.\n",
      "[I 2025-06-23 16:24:07,702] Trial 2 finished with value: 0.8683333333333332 and parameters: {'n_estimators': 500, 'max_depth': 10, 'min_samples_split': 2}. Best is trial 1 with value: 0.8741666666666666.\n",
      "[I 2025-06-23 16:24:20,588] Trial 3 finished with value: 0.8806250000000001 and parameters: {'n_estimators': 250, 'max_depth': 15, 'min_samples_split': 5}. Best is trial 3 with value: 0.8806250000000001.\n",
      "[I 2025-06-23 16:24:26,341] Trial 4 finished with value: 0.8302083333333333 and parameters: {'n_estimators': 250, 'max_depth': 5, 'min_samples_split': 5}. Best is trial 3 with value: 0.8806250000000001.\n",
      "[I 2025-06-23 16:24:28,285] Trial 5 pruned. \n",
      "[I 2025-06-23 16:24:38,520] Trial 6 finished with value: 0.8683333333333333 and parameters: {'n_estimators': 250, 'max_depth': 10, 'min_samples_split': 5}. Best is trial 3 with value: 0.8806250000000001.\n",
      "[I 2025-06-23 16:24:39,381] Trial 7 pruned. \n"
     ]
    },
    {
     "name": "stdout",
     "output_type": "stream",
     "text": [
      "EARLY STOPPING: No improvement after 4 trials!\n",
      "--> Best trial is 3 with value: 0.8806250000000001 and parameters: {'n_estimators': 250, 'max_depth': 15, 'min_samples_split': 5}\n",
      "\n"
     ]
    },
    {
     "name": "stderr",
     "output_type": "stream",
     "text": [
      "[I 2025-06-23 16:24:46,218] A new study created in memory with name: RandomForest\n",
      "[I 2025-06-23 16:24:57,203] Trial 0 finished with value: 0.8254166666666668 and parameters: {'n_estimators': 500, 'max_depth': 5, 'min_samples_split': 10}. Best is trial 0 with value: 0.8254166666666668.\n",
      "[I 2025-06-23 16:25:02,566] Trial 1 finished with value: 0.8735416666666667 and parameters: {'n_estimators': 100, 'max_depth': 15, 'min_samples_split': 2}. Best is trial 1 with value: 0.8735416666666667.\n",
      "[I 2025-06-23 16:25:13,614] Trial 2 finished with value: 0.8275 and parameters: {'n_estimators': 500, 'max_depth': 5, 'min_samples_split': 10}. Best is trial 1 with value: 0.8735416666666667.\n",
      "[I 2025-06-23 16:25:19,325] Trial 3 finished with value: 0.823125 and parameters: {'n_estimators': 250, 'max_depth': 5, 'min_samples_split': 2}. Best is trial 1 with value: 0.8735416666666667.\n",
      "[I 2025-06-23 16:25:38,599] Trial 4 finished with value: 0.8589583333333334 and parameters: {'n_estimators': 500, 'max_depth': 10, 'min_samples_split': 10}. Best is trial 1 with value: 0.8735416666666667.\n",
      "[I 2025-06-23 16:25:39,422] Trial 5 pruned. \n"
     ]
    },
    {
     "name": "stdout",
     "output_type": "stream",
     "text": [
      "EARLY STOPPING: No improvement after 4 trials!\n",
      "--> Best trial is 1 with value: 0.8735416666666667 and parameters: {'n_estimators': 100, 'max_depth': 15, 'min_samples_split': 2}\n",
      "\n"
     ]
    },
    {
     "name": "stderr",
     "output_type": "stream",
     "text": [
      "[I 2025-06-23 16:25:42,253] A new study created in memory with name: RandomForest\n",
      "[I 2025-06-23 16:26:02,272] Trial 0 finished with value: 0.859375 and parameters: {'n_estimators': 500, 'max_depth': 10, 'min_samples_split': 5}. Best is trial 0 with value: 0.859375.\n",
      "[I 2025-06-23 16:26:04,742] Trial 1 finished with value: 0.8152083333333334 and parameters: {'n_estimators': 100, 'max_depth': 5, 'min_samples_split': 5}. Best is trial 0 with value: 0.859375.\n",
      "[I 2025-06-23 16:26:24,940] Trial 2 finished with value: 0.8560416666666666 and parameters: {'n_estimators': 500, 'max_depth': 10, 'min_samples_split': 5}. Best is trial 0 with value: 0.859375.\n",
      "[I 2025-06-23 16:26:27,461] Trial 3 finished with value: 0.8170833333333333 and parameters: {'n_estimators': 100, 'max_depth': 5, 'min_samples_split': 5}. Best is trial 0 with value: 0.859375.\n",
      "[I 2025-06-23 16:26:38,504] Trial 4 finished with value: 0.8189583333333333 and parameters: {'n_estimators': 500, 'max_depth': 5, 'min_samples_split': 5}. Best is trial 0 with value: 0.859375.\n"
     ]
    },
    {
     "name": "stdout",
     "output_type": "stream",
     "text": [
      "EARLY STOPPING: No improvement after 4 trials!\n",
      "--> Best trial is 0 with value: 0.859375 and parameters: {'n_estimators': 500, 'max_depth': 10, 'min_samples_split': 5}\n",
      "\n"
     ]
    },
    {
     "name": "stderr",
     "output_type": "stream",
     "text": [
      "[I 2025-06-23 16:26:48,039] A new study created in memory with name: RandomForest\n",
      "[I 2025-06-23 16:26:52,211] Trial 0 finished with value: 0.8508333333333334 and parameters: {'n_estimators': 100, 'max_depth': 10, 'min_samples_split': 10}. Best is trial 0 with value: 0.8508333333333334.\n",
      "[I 2025-06-23 16:27:03,383] Trial 1 finished with value: 0.8245833333333333 and parameters: {'n_estimators': 500, 'max_depth': 5, 'min_samples_split': 5}. Best is trial 0 with value: 0.8508333333333334.\n",
      "[I 2025-06-23 16:27:13,425] Trial 2 finished with value: 0.855 and parameters: {'n_estimators': 250, 'max_depth': 10, 'min_samples_split': 10}. Best is trial 2 with value: 0.855.\n",
      "[I 2025-06-23 16:27:24,601] Trial 3 finished with value: 0.8252083333333333 and parameters: {'n_estimators': 500, 'max_depth': 5, 'min_samples_split': 5}. Best is trial 2 with value: 0.855.\n",
      "[I 2025-06-23 16:27:34,591] Trial 4 finished with value: 0.8562500000000001 and parameters: {'n_estimators': 250, 'max_depth': 10, 'min_samples_split': 10}. Best is trial 4 with value: 0.8562500000000001.\n",
      "[I 2025-06-23 16:27:39,888] Trial 5 finished with value: 0.8702083333333333 and parameters: {'n_estimators': 100, 'max_depth': 15, 'min_samples_split': 10}. Best is trial 5 with value: 0.8702083333333333.\n",
      "[I 2025-06-23 16:27:59,445] Trial 6 finished with value: 0.8614583333333332 and parameters: {'n_estimators': 500, 'max_depth': 10, 'min_samples_split': 10}. Best is trial 5 with value: 0.8702083333333333.\n",
      "[I 2025-06-23 16:28:19,538] Trial 7 finished with value: 0.8570833333333333 and parameters: {'n_estimators': 500, 'max_depth': 10, 'min_samples_split': 2}. Best is trial 5 with value: 0.8702083333333333.\n",
      "[I 2025-06-23 16:28:45,499] Trial 8 finished with value: 0.8758333333333334 and parameters: {'n_estimators': 500, 'max_depth': 15, 'min_samples_split': 5}. Best is trial 8 with value: 0.8758333333333334.\n",
      "[I 2025-06-23 16:28:59,358] A new study created in memory with name: LightGBM\n",
      "[I 2025-06-23 16:29:25,268] Trial 0 finished with value: 0.8385416666666666 and parameters: {'n_estimators': 250, 'max_depth': 15, 'learning_rate': 0.001, 'verbosity': -1}. Best is trial 0 with value: 0.8385416666666666.\n",
      "[I 2025-06-23 16:29:49,107] Trial 1 finished with value: 0.8385416666666666 and parameters: {'n_estimators': 250, 'max_depth': 10, 'learning_rate': 0.001, 'verbosity': -1}. Best is trial 0 with value: 0.8385416666666666.\n",
      "[I 2025-06-23 16:30:30,039] Trial 2 finished with value: 0.9020833333333332 and parameters: {'n_estimators': 500, 'max_depth': 10, 'learning_rate': 0.01, 'verbosity': -1}. Best is trial 2 with value: 0.9020833333333332.\n",
      "[I 2025-06-23 16:31:08,272] Trial 3 finished with value: 0.9020833333333332 and parameters: {'n_estimators': 500, 'max_depth': 10, 'learning_rate': 0.01, 'verbosity': -1}. Best is trial 2 with value: 0.9020833333333332.\n",
      "[I 2025-06-23 16:31:26,484] A new study created in memory with name: LightGBM\n",
      "[I 2025-06-23 16:31:39,006] Trial 0 finished with value: 0.8179166666666666 and parameters: {'n_estimators': 250, 'max_depth': 5, 'learning_rate': 0.001, 'verbosity': -1}. Best is trial 0 with value: 0.8179166666666666.\n",
      "[I 2025-06-23 16:32:12,159] Trial 1 finished with value: 0.9233333333333333 and parameters: {'n_estimators': 500, 'max_depth': 15, 'learning_rate': 0.1, 'verbosity': -1}. Best is trial 1 with value: 0.9233333333333333.\n",
      "[I 2025-06-23 16:32:33,560] Trial 2 finished with value: 0.85125 and parameters: {'n_estimators': 250, 'max_depth': 15, 'learning_rate': 0.001, 'verbosity': -1}. Best is trial 1 with value: 0.9233333333333333.\n",
      "[I 2025-06-23 16:33:16,942] Trial 3 finished with value: 0.8545833333333334 and parameters: {'n_estimators': 500, 'max_depth': 10, 'learning_rate': 0.001, 'verbosity': -1}. Best is trial 1 with value: 0.9233333333333333.\n",
      "[I 2025-06-23 16:33:36,783] A new study created in memory with name: LightGBM\n",
      "[I 2025-06-23 16:33:47,048] Trial 0 finished with value: 0.8704166666666667 and parameters: {'n_estimators': 100, 'max_depth': 10, 'learning_rate': 0.01, 'verbosity': -1}. Best is trial 0 with value: 0.8704166666666667.\n",
      "[I 2025-06-23 16:34:11,753] Trial 1 finished with value: 0.8497916666666666 and parameters: {'n_estimators': 250, 'max_depth': 10, 'learning_rate': 0.001, 'verbosity': -1}. Best is trial 0 with value: 0.8704166666666667.\n",
      "[I 2025-06-23 16:35:04,012] Trial 2 finished with value: 0.8562500000000001 and parameters: {'n_estimators': 500, 'max_depth': 15, 'learning_rate': 0.001, 'verbosity': -1}. Best is trial 0 with value: 0.8704166666666667.\n",
      "[I 2025-06-23 16:35:10,689] Trial 3 finished with value: 0.9077083333333333 and parameters: {'n_estimators': 100, 'max_depth': 5, 'learning_rate': 0.1, 'verbosity': -1}. Best is trial 3 with value: 0.9077083333333333.\n",
      "[I 2025-06-23 16:35:17,352] Trial 4 finished with value: 0.8158333333333333 and parameters: {'n_estimators': 100, 'max_depth': 5, 'learning_rate': 0.001, 'verbosity': -1}. Best is trial 3 with value: 0.9077083333333333.\n",
      "[I 2025-06-23 16:35:19,764] A new study created in memory with name: LightGBM\n",
      "[I 2025-06-23 16:35:41,238] Trial 0 finished with value: 0.8927083333333333 and parameters: {'n_estimators': 250, 'max_depth': 10, 'learning_rate': 0.01, 'verbosity': -1}. Best is trial 0 with value: 0.8927083333333333.\n",
      "[I 2025-06-23 16:36:06,302] Trial 1 finished with value: 0.8485416666666667 and parameters: {'n_estimators': 250, 'max_depth': 10, 'learning_rate': 0.001, 'verbosity': -1}. Best is trial 0 with value: 0.8927083333333333.\n",
      "[I 2025-06-23 16:36:28,082] Trial 2 finished with value: 0.8927083333333333 and parameters: {'n_estimators': 250, 'max_depth': 10, 'learning_rate': 0.01, 'verbosity': -1}. Best is trial 0 with value: 0.8927083333333333.\n",
      "[I 2025-06-23 16:36:32,828] Trial 3 finished with value: 0.9075000000000001 and parameters: {'n_estimators': 100, 'max_depth': 5, 'learning_rate': 0.1, 'verbosity': -1}. Best is trial 3 with value: 0.9075000000000001.\n",
      "[I 2025-06-23 16:36:55,961] Trial 4 finished with value: 0.9031250000000001 and parameters: {'n_estimators': 500, 'max_depth': 5, 'learning_rate': 0.01, 'verbosity': -1}. Best is trial 3 with value: 0.9075000000000001.\n",
      "[I 2025-06-23 16:37:05,667] Trial 5 finished with value: 0.9135416666666666 and parameters: {'n_estimators': 250, 'max_depth': 5, 'learning_rate': 0.1, 'verbosity': -1}. Best is trial 5 with value: 0.9135416666666666.\n",
      "[I 2025-06-23 16:37:10,245] A new study created in memory with name: LightGBM\n",
      "[I 2025-06-23 16:37:19,980] Trial 0 finished with value: 0.8485416666666667 and parameters: {'n_estimators': 100, 'max_depth': 15, 'learning_rate': 0.001, 'verbosity': -1}. Best is trial 0 with value: 0.8485416666666667.\n",
      "[I 2025-06-23 16:37:32,302] Trial 1 finished with value: 0.81625 and parameters: {'n_estimators': 250, 'max_depth': 5, 'learning_rate': 0.001, 'verbosity': -1}. Best is trial 0 with value: 0.8485416666666667.\n",
      "[I 2025-06-23 16:38:11,713] Trial 2 finished with value: 0.9052083333333334 and parameters: {'n_estimators': 500, 'max_depth': 10, 'learning_rate': 0.01, 'verbosity': -1}. Best is trial 2 with value: 0.9052083333333334.\n",
      "[I 2025-06-23 16:38:34,418] Trial 3 finished with value: 0.8504166666666667 and parameters: {'n_estimators': 250, 'max_depth': 10, 'learning_rate': 0.001, 'verbosity': -1}. Best is trial 2 with value: 0.9052083333333334.\n",
      "[I 2025-06-23 16:38:55,718] Trial 4 finished with value: 0.8504166666666667 and parameters: {'n_estimators': 250, 'max_depth': 10, 'learning_rate': 0.001, 'verbosity': -1}. Best is trial 2 with value: 0.9052083333333334.\n",
      "[I 2025-06-23 16:39:12,900] A new study created in memory with name: LogisticRegression\n"
     ]
    },
    {
     "name": "stdout",
     "output_type": "stream",
     "text": [
      "------ Repetition 3/4 ------\n",
      "\n"
     ]
    },
    {
     "name": "stderr",
     "output_type": "stream",
     "text": [
      "[I 2025-06-23 16:39:34,492] Trial 0 finished with value: 0.8922916666666666 and parameters: {'penalty': 'l1', 'solver': 'saga', 'C': 0.1, 'l1_ratio': 0.25}. Best is trial 0 with value: 0.8922916666666666.\n",
      "[I 2025-06-23 16:39:48,607] Trial 1 finished with value: 0.8825 and parameters: {'penalty': 'l2', 'solver': 'saga', 'C': 0.1, 'l1_ratio': 0.75}. Best is trial 0 with value: 0.8922916666666666.\n",
      "[I 2025-06-23 16:40:08,235] Trial 2 finished with value: 0.8979166666666667 and parameters: {'penalty': 'elasticnet', 'solver': 'saga', 'C': 0.01, 'l1_ratio': 0.75}. Best is trial 2 with value: 0.8979166666666667.\n",
      "[I 2025-06-23 16:40:22,474] Trial 3 finished with value: 0.8827083333333334 and parameters: {'penalty': 'l2', 'solver': 'saga', 'C': 0.1, 'l1_ratio': 0.25}. Best is trial 2 with value: 0.8979166666666667.\n",
      "[I 2025-06-23 16:40:37,205] Trial 4 finished with value: 0.7987500000000001 and parameters: {'penalty': 'elasticnet', 'solver': 'saga', 'C': 0.001, 'l1_ratio': 0.5}. Best is trial 2 with value: 0.8979166666666667.\n",
      "[I 2025-06-23 16:40:46,694] Trial 5 finished with value: 0.8966666666666666 and parameters: {'penalty': 'l2', 'solver': 'saga', 'C': 0.001, 'l1_ratio': 0.25}. Best is trial 2 with value: 0.8979166666666667.\n",
      "[I 2025-06-23 16:40:52,466] Trial 6 pruned. \n"
     ]
    },
    {
     "name": "stdout",
     "output_type": "stream",
     "text": [
      "EARLY STOPPING: No improvement after 4 trials!\n",
      "--> Best trial is 2 with value: 0.8979166666666667 and parameters: {'penalty': 'elasticnet', 'solver': 'saga', 'C': 0.01, 'l1_ratio': 0.75}\n",
      "\n"
     ]
    },
    {
     "name": "stderr",
     "output_type": "stream",
     "text": [
      "[I 2025-06-23 16:41:02,725] A new study created in memory with name: LogisticRegression\n",
      "[I 2025-06-23 16:41:12,481] Trial 0 finished with value: 0.8956249999999999 and parameters: {'penalty': 'l2', 'solver': 'saga', 'C': 0.001, 'l1_ratio': 0.25}. Best is trial 0 with value: 0.8956249999999999.\n",
      "[I 2025-06-23 16:41:34,159] Trial 1 finished with value: 0.8958333333333334 and parameters: {'penalty': 'l1', 'solver': 'saga', 'C': 0.1, 'l1_ratio': 0.25}. Best is trial 1 with value: 0.8958333333333334.\n",
      "[I 2025-06-23 16:41:48,367] Trial 2 finished with value: 0.8937500000000002 and parameters: {'penalty': 'l2', 'solver': 'saga', 'C': 0.01, 'l1_ratio': 0.5}. Best is trial 1 with value: 0.8958333333333334.\n",
      "[I 2025-06-23 16:42:07,386] Trial 3 finished with value: 0.883125 and parameters: {'penalty': 'l1', 'solver': 'saga', 'C': 0.01, 'l1_ratio': 0.25}. Best is trial 1 with value: 0.8958333333333334.\n",
      "[I 2025-06-23 16:42:21,765] Trial 4 finished with value: 0.8908333333333333 and parameters: {'penalty': 'l2', 'solver': 'saga', 'C': 0.1, 'l1_ratio': 0.5}. Best is trial 1 with value: 0.8958333333333334.\n",
      "[I 2025-06-23 16:42:36,185] Trial 5 pruned. \n"
     ]
    },
    {
     "name": "stdout",
     "output_type": "stream",
     "text": [
      "EARLY STOPPING: No improvement after 4 trials!\n",
      "--> Best trial is 1 with value: 0.8958333333333334 and parameters: {'penalty': 'l1', 'solver': 'saga', 'C': 0.1, 'l1_ratio': 0.25}\n",
      "\n"
     ]
    },
    {
     "name": "stderr",
     "output_type": "stream",
     "text": [
      "[I 2025-06-23 16:42:47,388] A new study created in memory with name: LogisticRegression\n",
      "[I 2025-06-23 16:42:57,004] Trial 0 finished with value: 0.8977083333333334 and parameters: {'penalty': 'l2', 'solver': 'saga', 'C': 0.001, 'l1_ratio': 0.25}. Best is trial 0 with value: 0.8977083333333334.\n",
      "[I 2025-06-23 16:43:18,584] Trial 1 finished with value: 0.899375 and parameters: {'penalty': 'l1', 'solver': 'saga', 'C': 0.1, 'l1_ratio': 0.75}. Best is trial 1 with value: 0.899375.\n",
      "[I 2025-06-23 16:43:40,083] Trial 2 finished with value: 0.8995833333333333 and parameters: {'penalty': 'l1', 'solver': 'saga', 'C': 0.1, 'l1_ratio': 0.75}. Best is trial 2 with value: 0.8995833333333333.\n",
      "[I 2025-06-23 16:44:02,909] Trial 3 finished with value: 0.8962499999999999 and parameters: {'penalty': 'elasticnet', 'solver': 'saga', 'C': 0.1, 'l1_ratio': 0.5}. Best is trial 2 with value: 0.8995833333333333.\n",
      "[I 2025-06-23 16:44:17,941] Trial 4 finished with value: 0.7827083333333332 and parameters: {'penalty': 'elasticnet', 'solver': 'saga', 'C': 0.001, 'l1_ratio': 0.75}. Best is trial 2 with value: 0.8995833333333333.\n",
      "[I 2025-06-23 16:44:23,762] Trial 5 pruned. \n",
      "[I 2025-06-23 16:44:45,225] Trial 6 finished with value: 0.9027083333333333 and parameters: {'penalty': 'elasticnet', 'solver': 'saga', 'C': 0.01, 'l1_ratio': 0.25}. Best is trial 6 with value: 0.9027083333333333.\n",
      "[I 2025-06-23 16:44:56,122] A new study created in memory with name: LogisticRegression\n",
      "[I 2025-06-23 16:45:13,422] Trial 0 finished with value: 0.7616666666666667 and parameters: {'penalty': 'l1', 'solver': 'saga', 'C': 0.001, 'l1_ratio': 0.75}. Best is trial 0 with value: 0.7616666666666667.\n",
      "[I 2025-06-23 16:45:27,636] Trial 1 finished with value: 0.8939583333333333 and parameters: {'penalty': 'l2', 'solver': 'saga', 'C': 0.1, 'l1_ratio': 0.25}. Best is trial 1 with value: 0.8939583333333333.\n",
      "[I 2025-06-23 16:45:46,794] Trial 2 finished with value: 0.88375 and parameters: {'penalty': 'l1', 'solver': 'saga', 'C': 0.01, 'l1_ratio': 0.5}. Best is trial 1 with value: 0.8939583333333333.\n",
      "[I 2025-06-23 16:46:07,391] Trial 3 finished with value: 0.8983333333333333 and parameters: {'penalty': 'elasticnet', 'solver': 'saga', 'C': 0.01, 'l1_ratio': 0.5}. Best is trial 3 with value: 0.8983333333333333.\n",
      "[I 2025-06-23 16:46:26,680] Trial 4 finished with value: 0.88375 and parameters: {'penalty': 'l1', 'solver': 'saga', 'C': 0.01, 'l1_ratio': 0.25}. Best is trial 3 with value: 0.8983333333333333.\n",
      "[I 2025-06-23 16:46:36,067] Trial 5 finished with value: 0.9020833333333332 and parameters: {'penalty': 'l2', 'solver': 'saga', 'C': 0.001, 'l1_ratio': 0.75}. Best is trial 5 with value: 0.9020833333333332.\n",
      "[I 2025-06-23 16:46:41,831] Trial 6 pruned. \n",
      "[I 2025-06-23 16:46:46,596] A new study created in memory with name: LogisticRegression\n",
      "[I 2025-06-23 16:47:04,035] Trial 0 finished with value: 0.75875 and parameters: {'penalty': 'l1', 'solver': 'saga', 'C': 0.001, 'l1_ratio': 0.25}. Best is trial 0 with value: 0.75875.\n",
      "[I 2025-06-23 16:47:18,471] Trial 1 finished with value: 0.8833333333333333 and parameters: {'penalty': 'l2', 'solver': 'saga', 'C': 0.1, 'l1_ratio': 0.5}. Best is trial 1 with value: 0.8833333333333333.\n",
      "[I 2025-06-23 16:47:37,622] Trial 2 finished with value: 0.8779166666666667 and parameters: {'penalty': 'l1', 'solver': 'saga', 'C': 0.01, 'l1_ratio': 0.75}. Best is trial 1 with value: 0.8833333333333333.\n",
      "[I 2025-06-23 16:47:59,339] Trial 3 finished with value: 0.8925000000000001 and parameters: {'penalty': 'l1', 'solver': 'saga', 'C': 0.1, 'l1_ratio': 0.25}. Best is trial 3 with value: 0.8925000000000001.\n",
      "[I 2025-06-23 16:48:13,667] Trial 4 finished with value: 0.8839583333333333 and parameters: {'penalty': 'l2', 'solver': 'saga', 'C': 0.1, 'l1_ratio': 0.5}. Best is trial 3 with value: 0.8925000000000001.\n",
      "[I 2025-06-23 16:48:26,454] Trial 5 pruned. \n",
      "[I 2025-06-23 16:48:32,266] Trial 6 pruned. \n",
      "[I 2025-06-23 16:48:43,340] A new study created in memory with name: LDA\n",
      "[I 2025-06-23 16:48:58,196] Trial 0 finished with value: 0.8041666666666667 and parameters: {'solver': 'svd', 'tol': 0.1}. Best is trial 0 with value: 0.8041666666666667.\n",
      "[I 2025-06-23 16:49:12,013] Trial 1 finished with value: 0.8041666666666667 and parameters: {'solver': 'svd', 'tol': 0.1}. Best is trial 0 with value: 0.8041666666666667.\n",
      "[I 2025-06-23 16:49:25,884] Trial 2 finished with value: 0.7989583333333333 and parameters: {'solver': 'svd', 'tol': 0.05}. Best is trial 0 with value: 0.8041666666666667.\n",
      "[I 2025-06-23 16:49:40,740] Trial 3 finished with value: 0.8041666666666667 and parameters: {'solver': 'svd', 'tol': 0.1}. Best is trial 0 with value: 0.8041666666666667.\n",
      "[I 2025-06-23 16:49:55,086] Trial 4 finished with value: 0.8041666666666667 and parameters: {'solver': 'svd', 'tol': 0.1}. Best is trial 0 with value: 0.8041666666666667.\n"
     ]
    },
    {
     "name": "stdout",
     "output_type": "stream",
     "text": [
      "EARLY STOPPING: No improvement after 4 trials!\n",
      "--> Best trial is 0 with value: 0.8041666666666667 and parameters: {'solver': 'svd', 'tol': 0.1}\n",
      "\n"
     ]
    },
    {
     "name": "stderr",
     "output_type": "stream",
     "text": [
      "[I 2025-06-23 16:50:00,628] A new study created in memory with name: LDA\n",
      "[I 2025-06-23 16:50:15,923] Trial 0 finished with value: 0.7983333333333333 and parameters: {'solver': 'svd', 'tol': 0.01}. Best is trial 0 with value: 0.7983333333333333.\n",
      "[I 2025-06-23 16:50:31,496] Trial 1 finished with value: 0.7983333333333333 and parameters: {'solver': 'svd', 'tol': 0.01}. Best is trial 0 with value: 0.7983333333333333.\n",
      "[I 2025-06-23 16:50:46,571] Trial 2 finished with value: 0.8016666666666666 and parameters: {'solver': 'svd', 'tol': 0.1}. Best is trial 2 with value: 0.8016666666666666.\n",
      "[I 2025-06-23 16:51:00,674] Trial 3 finished with value: 0.7983333333333333 and parameters: {'solver': 'svd', 'tol': 0.01}. Best is trial 2 with value: 0.8016666666666666.\n",
      "[I 2025-06-23 16:51:15,328] Trial 4 finished with value: 0.7983333333333333 and parameters: {'solver': 'svd', 'tol': 0.01}. Best is trial 2 with value: 0.8016666666666666.\n",
      "[I 2025-06-23 16:51:29,558] Trial 5 finished with value: 0.8016666666666666 and parameters: {'solver': 'svd', 'tol': 0.1}. Best is trial 2 with value: 0.8016666666666666.\n",
      "[I 2025-06-23 16:51:34,152] Trial 6 pruned. \n"
     ]
    },
    {
     "name": "stdout",
     "output_type": "stream",
     "text": [
      "EARLY STOPPING: No improvement after 4 trials!\n",
      "--> Best trial is 2 with value: 0.8016666666666666 and parameters: {'solver': 'svd', 'tol': 0.1}\n",
      "\n"
     ]
    },
    {
     "name": "stderr",
     "output_type": "stream",
     "text": [
      "[I 2025-06-23 16:51:39,729] A new study created in memory with name: LDA\n",
      "[I 2025-06-23 16:51:53,704] Trial 0 finished with value: 0.8083333333333332 and parameters: {'solver': 'svd', 'tol': 0.01}. Best is trial 0 with value: 0.8083333333333332.\n",
      "[I 2025-06-23 16:52:08,063] Trial 1 finished with value: 0.8083333333333332 and parameters: {'solver': 'svd', 'tol': 0.01}. Best is trial 0 with value: 0.8083333333333332.\n",
      "[I 2025-06-23 16:52:22,165] Trial 2 finished with value: 0.814375 and parameters: {'solver': 'svd', 'tol': 0.1}. Best is trial 2 with value: 0.814375.\n",
      "[I 2025-06-23 16:52:37,290] Trial 3 finished with value: 0.814375 and parameters: {'solver': 'svd', 'tol': 0.1}. Best is trial 2 with value: 0.814375.\n",
      "[I 2025-06-23 16:52:52,579] Trial 4 finished with value: 0.80875 and parameters: {'solver': 'svd', 'tol': 0.05}. Best is trial 2 with value: 0.814375.\n",
      "[I 2025-06-23 16:53:07,370] Trial 5 finished with value: 0.8083333333333332 and parameters: {'solver': 'svd', 'tol': 0.01}. Best is trial 2 with value: 0.814375.\n",
      "[I 2025-06-23 16:53:21,766] Trial 6 finished with value: 0.8083333333333332 and parameters: {'solver': 'svd', 'tol': 0.01}. Best is trial 2 with value: 0.814375.\n"
     ]
    },
    {
     "name": "stdout",
     "output_type": "stream",
     "text": [
      "EARLY STOPPING: No improvement after 4 trials!\n",
      "--> Best trial is 2 with value: 0.814375 and parameters: {'solver': 'svd', 'tol': 0.1}\n",
      "\n"
     ]
    },
    {
     "name": "stderr",
     "output_type": "stream",
     "text": [
      "[I 2025-06-23 16:53:27,333] A new study created in memory with name: LDA\n",
      "[I 2025-06-23 16:53:42,203] Trial 0 finished with value: 0.8147916666666667 and parameters: {'solver': 'svd', 'tol': 0.1}. Best is trial 0 with value: 0.8147916666666667.\n",
      "[I 2025-06-23 16:53:57,929] Trial 1 finished with value: 0.8054166666666666 and parameters: {'solver': 'svd', 'tol': 0.01}. Best is trial 0 with value: 0.8147916666666667.\n",
      "[I 2025-06-23 16:54:13,640] Trial 2 finished with value: 0.8054166666666666 and parameters: {'solver': 'svd', 'tol': 0.01}. Best is trial 0 with value: 0.8147916666666667.\n",
      "[I 2025-06-23 16:54:29,381] Trial 3 finished with value: 0.8085416666666667 and parameters: {'solver': 'svd', 'tol': 0.05}. Best is trial 0 with value: 0.8147916666666667.\n",
      "[I 2025-06-23 16:54:45,079] Trial 4 finished with value: 0.8054166666666666 and parameters: {'solver': 'svd', 'tol': 0.01}. Best is trial 0 with value: 0.8147916666666667.\n"
     ]
    },
    {
     "name": "stdout",
     "output_type": "stream",
     "text": [
      "EARLY STOPPING: No improvement after 4 trials!\n",
      "--> Best trial is 0 with value: 0.8147916666666667 and parameters: {'solver': 'svd', 'tol': 0.1}\n",
      "\n"
     ]
    },
    {
     "name": "stderr",
     "output_type": "stream",
     "text": [
      "[I 2025-06-23 16:54:50,573] A new study created in memory with name: LDA\n",
      "[I 2025-06-23 16:55:04,582] Trial 0 finished with value: 0.7964583333333334 and parameters: {'solver': 'svd', 'tol': 0.01}. Best is trial 0 with value: 0.7964583333333334.\n",
      "[I 2025-06-23 16:55:18,610] Trial 1 finished with value: 0.7964583333333334 and parameters: {'solver': 'svd', 'tol': 0.01}. Best is trial 0 with value: 0.7964583333333334.\n",
      "[I 2025-06-23 16:55:35,242] Trial 2 finished with value: 0.8033333333333333 and parameters: {'solver': 'svd', 'tol': 0.1}. Best is trial 2 with value: 0.8033333333333333.\n",
      "[I 2025-06-23 16:55:50,254] Trial 3 finished with value: 0.7958333333333334 and parameters: {'solver': 'svd', 'tol': 0.05}. Best is trial 2 with value: 0.8033333333333333.\n",
      "[I 2025-06-23 16:56:05,142] Trial 4 finished with value: 0.7964583333333334 and parameters: {'solver': 'svd', 'tol': 0.01}. Best is trial 2 with value: 0.8033333333333333.\n",
      "[I 2025-06-23 16:56:20,033] Trial 5 finished with value: 0.7964583333333334 and parameters: {'solver': 'svd', 'tol': 0.01}. Best is trial 2 with value: 0.8033333333333333.\n",
      "[I 2025-06-23 16:56:34,208] Trial 6 finished with value: 0.7964583333333334 and parameters: {'solver': 'svd', 'tol': 0.01}. Best is trial 2 with value: 0.8033333333333333.\n"
     ]
    },
    {
     "name": "stdout",
     "output_type": "stream",
     "text": [
      "EARLY STOPPING: No improvement after 4 trials!\n",
      "--> Best trial is 2 with value: 0.8033333333333333 and parameters: {'solver': 'svd', 'tol': 0.1}\n",
      "\n"
     ]
    },
    {
     "name": "stderr",
     "output_type": "stream",
     "text": [
      "[I 2025-06-23 16:56:39,570] A new study created in memory with name: RandomForest\n",
      "[I 2025-06-23 16:56:49,616] Trial 0 finished with value: 0.8604166666666666 and parameters: {'n_estimators': 250, 'max_depth': 10, 'min_samples_split': 5}. Best is trial 0 with value: 0.8604166666666666.\n",
      "[I 2025-06-23 16:56:59,910] Trial 1 finished with value: 0.863125 and parameters: {'n_estimators': 250, 'max_depth': 10, 'min_samples_split': 2}. Best is trial 1 with value: 0.863125.\n",
      "[I 2025-06-23 16:57:11,195] Trial 2 finished with value: 0.8260416666666668 and parameters: {'n_estimators': 500, 'max_depth': 5, 'min_samples_split': 10}. Best is trial 1 with value: 0.863125.\n",
      "[I 2025-06-23 16:57:37,048] Trial 3 finished with value: 0.8789583333333333 and parameters: {'n_estimators': 500, 'max_depth': 15, 'min_samples_split': 5}. Best is trial 3 with value: 0.8789583333333333.\n",
      "[I 2025-06-23 16:57:49,722] Trial 4 finished with value: 0.8781249999999999 and parameters: {'n_estimators': 250, 'max_depth': 15, 'min_samples_split': 10}. Best is trial 3 with value: 0.8789583333333333.\n",
      "[I 2025-06-23 16:57:51,170] Trial 5 pruned. \n",
      "[I 2025-06-23 16:57:54,982] Trial 6 pruned. \n",
      "[I 2025-06-23 16:57:56,428] Trial 7 pruned. \n"
     ]
    },
    {
     "name": "stdout",
     "output_type": "stream",
     "text": [
      "EARLY STOPPING: No improvement after 4 trials!\n",
      "--> Best trial is 3 with value: 0.8789583333333333 and parameters: {'n_estimators': 500, 'max_depth': 15, 'min_samples_split': 5}\n",
      "\n"
     ]
    },
    {
     "name": "stderr",
     "output_type": "stream",
     "text": [
      "[I 2025-06-23 16:58:10,293] A new study created in memory with name: RandomForest\n",
      "[I 2025-06-23 16:58:12,739] Trial 0 finished with value: 0.8250000000000001 and parameters: {'n_estimators': 100, 'max_depth': 5, 'min_samples_split': 10}. Best is trial 0 with value: 0.8250000000000001.\n",
      "[I 2025-06-23 16:58:16,895] Trial 1 finished with value: 0.8583333333333334 and parameters: {'n_estimators': 100, 'max_depth': 10, 'min_samples_split': 10}. Best is trial 1 with value: 0.8583333333333334.\n",
      "[I 2025-06-23 16:58:21,016] Trial 2 finished with value: 0.8597916666666666 and parameters: {'n_estimators': 100, 'max_depth': 10, 'min_samples_split': 10}. Best is trial 2 with value: 0.8597916666666666.\n",
      "[I 2025-06-23 16:58:41,189] Trial 3 finished with value: 0.8608333333333335 and parameters: {'n_estimators': 500, 'max_depth': 10, 'min_samples_split': 2}. Best is trial 3 with value: 0.8608333333333335.\n",
      "[I 2025-06-23 16:58:51,163] Trial 4 finished with value: 0.8574999999999999 and parameters: {'n_estimators': 250, 'max_depth': 10, 'min_samples_split': 10}. Best is trial 3 with value: 0.8608333333333335.\n",
      "[I 2025-06-23 16:58:56,505] Trial 5 finished with value: 0.8722916666666668 and parameters: {'n_estimators': 100, 'max_depth': 15, 'min_samples_split': 5}. Best is trial 5 with value: 0.8722916666666668.\n",
      "[I 2025-06-23 16:58:57,918] Trial 6 pruned. \n",
      "[I 2025-06-23 16:59:04,609] Trial 7 pruned. \n",
      "[I 2025-06-23 16:59:17,639] Trial 8 finished with value: 0.8804166666666667 and parameters: {'n_estimators': 250, 'max_depth': 15, 'min_samples_split': 5}. Best is trial 8 with value: 0.8804166666666667.\n",
      "[I 2025-06-23 16:59:37,860] Trial 9 pruned. \n",
      "[I 2025-06-23 16:59:44,980] A new study created in memory with name: RandomForest\n",
      "[I 2025-06-23 16:59:50,857] Trial 0 finished with value: 0.8268749999999999 and parameters: {'n_estimators': 250, 'max_depth': 5, 'min_samples_split': 10}. Best is trial 0 with value: 0.8268749999999999.\n",
      "[I 2025-06-23 17:00:00,959] Trial 1 finished with value: 0.8606250000000001 and parameters: {'n_estimators': 250, 'max_depth': 10, 'min_samples_split': 10}. Best is trial 1 with value: 0.8606250000000001.\n",
      "[I 2025-06-23 17:00:05,228] Trial 2 finished with value: 0.8589583333333333 and parameters: {'n_estimators': 100, 'max_depth': 10, 'min_samples_split': 2}. Best is trial 1 with value: 0.8606250000000001.\n",
      "[I 2025-06-23 17:00:09,483] Trial 3 finished with value: 0.8552083333333332 and parameters: {'n_estimators': 100, 'max_depth': 10, 'min_samples_split': 2}. Best is trial 1 with value: 0.8606250000000001.\n",
      "[I 2025-06-23 17:00:22,292] Trial 4 finished with value: 0.8727083333333333 and parameters: {'n_estimators': 250, 'max_depth': 15, 'min_samples_split': 10}. Best is trial 4 with value: 0.8727083333333333.\n",
      "[I 2025-06-23 17:00:24,215] Trial 5 pruned. \n",
      "[I 2025-06-23 17:00:26,127] Trial 6 pruned. \n",
      "[I 2025-06-23 17:00:28,044] Trial 7 pruned. \n",
      "[I 2025-06-23 17:00:29,443] Trial 8 pruned. \n"
     ]
    },
    {
     "name": "stdout",
     "output_type": "stream",
     "text": [
      "EARLY STOPPING: No improvement after 4 trials!\n",
      "--> Best trial is 4 with value: 0.8727083333333333 and parameters: {'n_estimators': 250, 'max_depth': 15, 'min_samples_split': 10}\n",
      "\n"
     ]
    },
    {
     "name": "stderr",
     "output_type": "stream",
     "text": [
      "[I 2025-06-23 17:00:36,024] A new study created in memory with name: RandomForest\n",
      "[I 2025-06-23 17:00:47,222] Trial 0 finished with value: 0.824375 and parameters: {'n_estimators': 500, 'max_depth': 5, 'min_samples_split': 10}. Best is trial 0 with value: 0.824375.\n",
      "[I 2025-06-23 17:00:49,701] Trial 1 finished with value: 0.8195833333333332 and parameters: {'n_estimators': 100, 'max_depth': 5, 'min_samples_split': 2}. Best is trial 0 with value: 0.824375.\n",
      "[I 2025-06-23 17:01:15,214] Trial 2 finished with value: 0.87125 and parameters: {'n_estimators': 500, 'max_depth': 15, 'min_samples_split': 5}. Best is trial 2 with value: 0.87125.\n",
      "[I 2025-06-23 17:01:20,699] Trial 3 finished with value: 0.8670833333333334 and parameters: {'n_estimators': 100, 'max_depth': 15, 'min_samples_split': 5}. Best is trial 2 with value: 0.87125.\n",
      "[I 2025-06-23 17:01:40,695] Trial 4 finished with value: 0.8604166666666666 and parameters: {'n_estimators': 500, 'max_depth': 10, 'min_samples_split': 5}. Best is trial 2 with value: 0.87125.\n",
      "[I 2025-06-23 17:01:53,206] Trial 5 finished with value: 0.875 and parameters: {'n_estimators': 250, 'max_depth': 15, 'min_samples_split': 10}. Best is trial 5 with value: 0.875.\n",
      "[I 2025-06-23 17:01:54,022] Trial 6 pruned. \n",
      "[I 2025-06-23 17:01:59,301] Trial 7 finished with value: 0.8739583333333334 and parameters: {'n_estimators': 100, 'max_depth': 15, 'min_samples_split': 5}. Best is trial 5 with value: 0.875.\n",
      "[I 2025-06-23 17:02:06,010] Trial 8 pruned. \n",
      "[I 2025-06-23 17:02:07,405] Trial 9 pruned. \n"
     ]
    },
    {
     "name": "stdout",
     "output_type": "stream",
     "text": [
      "EARLY STOPPING: No improvement after 4 trials!\n",
      "--> Best trial is 5 with value: 0.875 and parameters: {'n_estimators': 250, 'max_depth': 15, 'min_samples_split': 10}\n",
      "\n"
     ]
    },
    {
     "name": "stderr",
     "output_type": "stream",
     "text": [
      "[I 2025-06-23 17:02:13,579] A new study created in memory with name: RandomForest\n",
      "[I 2025-06-23 17:02:24,803] Trial 0 finished with value: 0.8252083333333333 and parameters: {'n_estimators': 500, 'max_depth': 5, 'min_samples_split': 10}. Best is trial 0 with value: 0.8252083333333333.\n",
      "[I 2025-06-23 17:02:37,768] Trial 1 finished with value: 0.875 and parameters: {'n_estimators': 250, 'max_depth': 15, 'min_samples_split': 5}. Best is trial 1 with value: 0.875.\n",
      "[I 2025-06-23 17:02:40,197] Trial 2 finished with value: 0.8222916666666666 and parameters: {'n_estimators': 100, 'max_depth': 5, 'min_samples_split': 5}. Best is trial 1 with value: 0.875.\n",
      "[I 2025-06-23 17:02:52,813] Trial 3 finished with value: 0.8760416666666666 and parameters: {'n_estimators': 250, 'max_depth': 15, 'min_samples_split': 10}. Best is trial 3 with value: 0.8760416666666666.\n",
      "[I 2025-06-23 17:03:06,083] Trial 4 finished with value: 0.8762500000000001 and parameters: {'n_estimators': 250, 'max_depth': 15, 'min_samples_split': 2}. Best is trial 4 with value: 0.8762500000000001.\n",
      "[I 2025-06-23 17:03:09,452] Trial 5 pruned. \n",
      "[I 2025-06-23 17:03:12,886] Trial 6 pruned. \n",
      "[I 2025-06-23 17:03:14,291] Trial 7 pruned. \n",
      "[I 2025-06-23 17:03:15,688] Trial 8 pruned. \n"
     ]
    },
    {
     "name": "stdout",
     "output_type": "stream",
     "text": [
      "EARLY STOPPING: No improvement after 4 trials!\n",
      "--> Best trial is 4 with value: 0.8762500000000001 and parameters: {'n_estimators': 250, 'max_depth': 15, 'min_samples_split': 2}\n",
      "\n"
     ]
    },
    {
     "name": "stderr",
     "output_type": "stream",
     "text": [
      "[I 2025-06-23 17:03:22,529] A new study created in memory with name: LightGBM\n",
      "[I 2025-06-23 17:03:44,449] Trial 0 finished with value: 0.855625 and parameters: {'n_estimators': 250, 'max_depth': 15, 'learning_rate': 0.001, 'verbosity': -1}. Best is trial 0 with value: 0.855625.\n",
      "[I 2025-06-23 17:03:54,492] Trial 1 finished with value: 0.8741666666666666 and parameters: {'n_estimators': 100, 'max_depth': 15, 'learning_rate': 0.01, 'verbosity': -1}. Best is trial 1 with value: 0.8741666666666666.\n",
      "[I 2025-06-23 17:04:05,518] Trial 2 finished with value: 0.9104166666666668 and parameters: {'n_estimators': 100, 'max_depth': 15, 'learning_rate': 0.1, 'verbosity': -1}. Best is trial 2 with value: 0.9104166666666668.\n",
      "[I 2025-06-23 17:04:28,349] Trial 3 finished with value: 0.8916666666666667 and parameters: {'n_estimators': 250, 'max_depth': 15, 'learning_rate': 0.01, 'verbosity': -1}. Best is trial 2 with value: 0.9104166666666668.\n",
      "[I 2025-06-23 17:04:50,728] Trial 4 finished with value: 0.8916666666666667 and parameters: {'n_estimators': 250, 'max_depth': 15, 'learning_rate': 0.01, 'verbosity': -1}. Best is trial 2 with value: 0.9104166666666668.\n",
      "[I 2025-06-23 17:05:01,573] Trial 5 pruned. \n",
      "[I 2025-06-23 17:05:16,388] Trial 6 pruned. \n"
     ]
    },
    {
     "name": "stdout",
     "output_type": "stream",
     "text": [
      "EARLY STOPPING: No improvement after 4 trials!\n",
      "--> Best trial is 2 with value: 0.9104166666666668 and parameters: {'n_estimators': 100, 'max_depth': 15, 'learning_rate': 0.1, 'verbosity': -1}\n",
      "\n"
     ]
    },
    {
     "name": "stderr",
     "output_type": "stream",
     "text": [
      "[I 2025-06-23 17:05:21,026] A new study created in memory with name: LightGBM\n",
      "[I 2025-06-23 17:05:44,645] Trial 0 finished with value: 0.8952083333333333 and parameters: {'n_estimators': 250, 'max_depth': 10, 'learning_rate': 0.01, 'verbosity': -1}. Best is trial 0 with value: 0.8952083333333333.\n",
      "[I 2025-06-23 17:06:04,395] Trial 1 finished with value: 0.9158333333333334 and parameters: {'n_estimators': 500, 'max_depth': 5, 'learning_rate': 0.1, 'verbosity': -1}. Best is trial 1 with value: 0.9158333333333334.\n",
      "[I 2025-06-23 17:06:09,492] Trial 2 finished with value: 0.9095833333333333 and parameters: {'n_estimators': 100, 'max_depth': 5, 'learning_rate': 0.1, 'verbosity': -1}. Best is trial 1 with value: 0.9158333333333334.\n",
      "[I 2025-06-23 17:06:18,948] Trial 3 finished with value: 0.8389583333333334 and parameters: {'n_estimators': 100, 'max_depth': 10, 'learning_rate': 0.001, 'verbosity': -1}. Best is trial 1 with value: 0.9158333333333334.\n",
      "[I 2025-06-23 17:06:57,934] Trial 4 finished with value: 0.9047916666666667 and parameters: {'n_estimators': 500, 'max_depth': 10, 'learning_rate': 0.01, 'verbosity': -1}. Best is trial 1 with value: 0.9158333333333334.\n",
      "[I 2025-06-23 17:07:11,648] Trial 5 pruned. \n"
     ]
    },
    {
     "name": "stdout",
     "output_type": "stream",
     "text": [
      "EARLY STOPPING: No improvement after 4 trials!\n",
      "--> Best trial is 1 with value: 0.9158333333333334 and parameters: {'n_estimators': 500, 'max_depth': 5, 'learning_rate': 0.1, 'verbosity': -1}\n",
      "\n"
     ]
    },
    {
     "name": "stderr",
     "output_type": "stream",
     "text": [
      "[I 2025-06-23 17:07:21,098] A new study created in memory with name: LightGBM\n",
      "[I 2025-06-23 17:07:33,871] Trial 0 finished with value: 0.8158333333333333 and parameters: {'n_estimators': 250, 'max_depth': 5, 'learning_rate': 0.001, 'verbosity': -1}. Best is trial 0 with value: 0.8158333333333333.\n",
      "[I 2025-06-23 17:07:59,267] Trial 1 finished with value: 0.830625 and parameters: {'n_estimators': 500, 'max_depth': 5, 'learning_rate': 0.001, 'verbosity': -1}. Best is trial 1 with value: 0.830625.\n",
      "[I 2025-06-23 17:08:08,683] Trial 2 finished with value: 0.8722916666666666 and parameters: {'n_estimators': 100, 'max_depth': 10, 'learning_rate': 0.01, 'verbosity': -1}. Best is trial 2 with value: 0.8722916666666666.\n",
      "[I 2025-06-23 17:08:30,952] Trial 3 finished with value: 0.8516666666666667 and parameters: {'n_estimators': 250, 'max_depth': 10, 'learning_rate': 0.001, 'verbosity': -1}. Best is trial 2 with value: 0.8722916666666666.\n",
      "[I 2025-06-23 17:08:36,061] Trial 4 finished with value: 0.91125 and parameters: {'n_estimators': 100, 'max_depth': 5, 'learning_rate': 0.1, 'verbosity': -1}. Best is trial 4 with value: 0.91125.\n",
      "[I 2025-06-23 17:08:58,678] Trial 5 finished with value: 0.9031250000000001 and parameters: {'n_estimators': 500, 'max_depth': 5, 'learning_rate': 0.01, 'verbosity': -1}. Best is trial 4 with value: 0.91125.\n",
      "[I 2025-06-23 17:09:01,829] Trial 6 pruned. \n",
      "[I 2025-06-23 17:09:04,403] A new study created in memory with name: LightGBM\n",
      "[I 2025-06-23 17:09:12,942] Trial 0 finished with value: 0.8764583333333333 and parameters: {'n_estimators': 100, 'max_depth': 10, 'learning_rate': 0.01, 'verbosity': -1}. Best is trial 0 with value: 0.8764583333333333.\n",
      "[I 2025-06-23 17:09:35,070] Trial 1 finished with value: 0.853125 and parameters: {'n_estimators': 250, 'max_depth': 15, 'learning_rate': 0.001, 'verbosity': -1}. Best is trial 0 with value: 0.8764583333333333.\n",
      "[I 2025-06-23 17:09:43,184] Trial 2 finished with value: 0.9114583333333334 and parameters: {'n_estimators': 100, 'max_depth': 10, 'learning_rate': 0.1, 'verbosity': -1}. Best is trial 2 with value: 0.9114583333333334.\n",
      "[I 2025-06-23 17:09:57,080] Trial 3 finished with value: 0.8208333333333333 and parameters: {'n_estimators': 250, 'max_depth': 5, 'learning_rate': 0.001, 'verbosity': -1}. Best is trial 2 with value: 0.9114583333333334.\n",
      "[I 2025-06-23 17:10:40,134] Trial 4 finished with value: 0.9058333333333333 and parameters: {'n_estimators': 500, 'max_depth': 15, 'learning_rate': 0.01, 'verbosity': -1}. Best is trial 2 with value: 0.9114583333333334.\n",
      "[I 2025-06-23 17:10:48,621] Trial 5 pruned. \n",
      "[I 2025-06-23 17:10:52,960] A new study created in memory with name: LightGBM\n",
      "[I 2025-06-23 17:11:03,256] Trial 0 finished with value: 0.9135416666666667 and parameters: {'n_estimators': 100, 'max_depth': 15, 'learning_rate': 0.1, 'verbosity': -1}. Best is trial 0 with value: 0.9135416666666667.\n",
      "[I 2025-06-23 17:11:38,929] Trial 1 finished with value: 0.915625 and parameters: {'n_estimators': 500, 'max_depth': 10, 'learning_rate': 0.1, 'verbosity': -1}. Best is trial 1 with value: 0.915625.\n",
      "[I 2025-06-23 17:11:49,199] Trial 2 finished with value: 0.9120833333333334 and parameters: {'n_estimators': 250, 'max_depth': 5, 'learning_rate': 0.1, 'verbosity': -1}. Best is trial 1 with value: 0.915625.\n",
      "[I 2025-06-23 17:12:09,897] Trial 3 finished with value: 0.8491666666666666 and parameters: {'n_estimators': 250, 'max_depth': 10, 'learning_rate': 0.001, 'verbosity': -1}. Best is trial 1 with value: 0.915625.\n",
      "[I 2025-06-23 17:12:54,401] Trial 4 finished with value: 0.9049999999999999 and parameters: {'n_estimators': 500, 'max_depth': 10, 'learning_rate': 0.01, 'verbosity': -1}. Best is trial 1 with value: 0.915625.\n",
      "[I 2025-06-23 17:13:15,367] A new study created in memory with name: LogisticRegression\n"
     ]
    },
    {
     "name": "stdout",
     "output_type": "stream",
     "text": [
      "------ Repetition 4/4 ------\n",
      "\n"
     ]
    },
    {
     "name": "stderr",
     "output_type": "stream",
     "text": [
      "[I 2025-06-23 17:13:25,110] Trial 0 finished with value: 0.8960416666666667 and parameters: {'penalty': 'l2', 'solver': 'saga', 'C': 0.001, 'l1_ratio': 0.75}. Best is trial 0 with value: 0.8960416666666667.\n",
      "[I 2025-06-23 17:13:46,823] Trial 1 finished with value: 0.8927083333333333 and parameters: {'penalty': 'l1', 'solver': 'saga', 'C': 0.1, 'l1_ratio': 0.5}. Best is trial 0 with value: 0.8960416666666667.\n",
      "[I 2025-06-23 17:14:01,159] Trial 2 finished with value: 0.8872916666666667 and parameters: {'penalty': 'l2', 'solver': 'saga', 'C': 0.1, 'l1_ratio': 0.5}. Best is trial 0 with value: 0.8960416666666667.\n",
      "[I 2025-06-23 17:14:18,708] Trial 3 finished with value: 0.7637499999999999 and parameters: {'penalty': 'l1', 'solver': 'saga', 'C': 0.001, 'l1_ratio': 0.5}. Best is trial 0 with value: 0.8960416666666667.\n",
      "[I 2025-06-23 17:14:39,437] Trial 4 finished with value: 0.8960416666666666 and parameters: {'penalty': 'elasticnet', 'solver': 'saga', 'C': 0.01, 'l1_ratio': 0.5}. Best is trial 0 with value: 0.8960416666666667.\n"
     ]
    },
    {
     "name": "stdout",
     "output_type": "stream",
     "text": [
      "EARLY STOPPING: No improvement after 4 trials!\n",
      "--> Best trial is 0 with value: 0.8960416666666667 and parameters: {'penalty': 'l2', 'solver': 'saga', 'C': 0.001, 'l1_ratio': 0.75}\n",
      "\n"
     ]
    },
    {
     "name": "stderr",
     "output_type": "stream",
     "text": [
      "[I 2025-06-23 17:14:44,160] A new study created in memory with name: LogisticRegression\n",
      "[I 2025-06-23 17:15:01,710] Trial 0 finished with value: 0.7549999999999999 and parameters: {'penalty': 'l1', 'solver': 'saga', 'C': 0.001, 'l1_ratio': 0.5}. Best is trial 0 with value: 0.7549999999999999.\n",
      "[I 2025-06-23 17:15:24,151] Trial 1 finished with value: 0.8875000000000001 and parameters: {'penalty': 'elasticnet', 'solver': 'saga', 'C': 0.1, 'l1_ratio': 0.75}. Best is trial 1 with value: 0.8875000000000001.\n",
      "[I 2025-06-23 17:15:47,620] Trial 2 finished with value: 0.886875 and parameters: {'penalty': 'elasticnet', 'solver': 'saga', 'C': 0.1, 'l1_ratio': 0.75}. Best is trial 1 with value: 0.8875000000000001.\n",
      "[I 2025-06-23 17:16:09,439] Trial 3 finished with value: 0.8891666666666667 and parameters: {'penalty': 'l1', 'solver': 'saga', 'C': 0.1, 'l1_ratio': 0.25}. Best is trial 3 with value: 0.8891666666666667.\n",
      "[I 2025-06-23 17:16:32,393] Trial 4 finished with value: 0.8862500000000001 and parameters: {'penalty': 'elasticnet', 'solver': 'saga', 'C': 0.1, 'l1_ratio': 0.5}. Best is trial 3 with value: 0.8891666666666667.\n",
      "[I 2025-06-23 17:16:43,633] A new study created in memory with name: LogisticRegression\n",
      "[I 2025-06-23 17:16:58,042] Trial 0 finished with value: 0.89 and parameters: {'penalty': 'l2', 'solver': 'saga', 'C': 0.1, 'l1_ratio': 0.5}. Best is trial 0 with value: 0.89.\n",
      "[I 2025-06-23 17:17:19,861] Trial 1 finished with value: 0.895 and parameters: {'penalty': 'l1', 'solver': 'saga', 'C': 0.1, 'l1_ratio': 0.25}. Best is trial 1 with value: 0.895.\n",
      "[I 2025-06-23 17:17:39,123] Trial 2 finished with value: 0.8833333333333333 and parameters: {'penalty': 'l1', 'solver': 'saga', 'C': 0.01, 'l1_ratio': 0.5}. Best is trial 1 with value: 0.895.\n",
      "[I 2025-06-23 17:17:56,565] Trial 3 finished with value: 0.7591666666666667 and parameters: {'penalty': 'l1', 'solver': 'saga', 'C': 0.001, 'l1_ratio': 0.5}. Best is trial 1 with value: 0.895.\n",
      "[I 2025-06-23 17:18:11,174] Trial 4 finished with value: 0.7935416666666667 and parameters: {'penalty': 'elasticnet', 'solver': 'saga', 'C': 0.001, 'l1_ratio': 0.5}. Best is trial 1 with value: 0.895.\n",
      "[I 2025-06-23 17:18:35,710] Trial 5 finished with value: 0.8922916666666666 and parameters: {'penalty': 'elasticnet', 'solver': 'saga', 'C': 0.1, 'l1_ratio': 0.25}. Best is trial 1 with value: 0.895.\n"
     ]
    },
    {
     "name": "stdout",
     "output_type": "stream",
     "text": [
      "EARLY STOPPING: No improvement after 4 trials!\n",
      "--> Best trial is 1 with value: 0.895 and parameters: {'penalty': 'l1', 'solver': 'saga', 'C': 0.1, 'l1_ratio': 0.25}\n",
      "\n"
     ]
    },
    {
     "name": "stderr",
     "output_type": "stream",
     "text": [
      "[I 2025-06-23 17:18:46,867] A new study created in memory with name: LogisticRegression\n",
      "[I 2025-06-23 17:19:01,223] Trial 0 finished with value: 0.885625 and parameters: {'penalty': 'l2', 'solver': 'saga', 'C': 0.1, 'l1_ratio': 0.25}. Best is trial 0 with value: 0.885625.\n",
      "[I 2025-06-23 17:19:20,345] Trial 1 finished with value: 0.8820833333333334 and parameters: {'penalty': 'l1', 'solver': 'saga', 'C': 0.01, 'l1_ratio': 0.5}. Best is trial 0 with value: 0.885625.\n",
      "[I 2025-06-23 17:19:41,076] Trial 2 finished with value: 0.8958333333333334 and parameters: {'penalty': 'elasticnet', 'solver': 'saga', 'C': 0.01, 'l1_ratio': 0.5}. Best is trial 2 with value: 0.8958333333333334.\n",
      "[I 2025-06-23 17:20:00,399] Trial 3 finished with value: 0.8820833333333334 and parameters: {'penalty': 'l1', 'solver': 'saga', 'C': 0.01, 'l1_ratio': 0.75}. Best is trial 2 with value: 0.8958333333333334.\n",
      "[I 2025-06-23 17:20:14,742] Trial 4 finished with value: 0.8852083333333333 and parameters: {'penalty': 'l2', 'solver': 'saga', 'C': 0.1, 'l1_ratio': 0.75}. Best is trial 2 with value: 0.8958333333333334.\n",
      "[I 2025-06-23 17:20:21,150] Trial 5 pruned. \n",
      "[I 2025-06-23 17:20:42,920] Trial 6 finished with value: 0.8937500000000002 and parameters: {'penalty': 'l1', 'solver': 'saga', 'C': 0.1, 'l1_ratio': 0.5}. Best is trial 2 with value: 0.8958333333333334.\n"
     ]
    },
    {
     "name": "stdout",
     "output_type": "stream",
     "text": [
      "EARLY STOPPING: No improvement after 4 trials!\n",
      "--> Best trial is 2 with value: 0.8958333333333334 and parameters: {'penalty': 'elasticnet', 'solver': 'saga', 'C': 0.01, 'l1_ratio': 0.5}\n",
      "\n"
     ]
    },
    {
     "name": "stderr",
     "output_type": "stream",
     "text": [
      "[I 2025-06-23 17:20:53,529] A new study created in memory with name: LogisticRegression\n",
      "[I 2025-06-23 17:21:07,938] Trial 0 finished with value: 0.8891666666666667 and parameters: {'penalty': 'l2', 'solver': 'saga', 'C': 0.1, 'l1_ratio': 0.75}. Best is trial 0 with value: 0.8891666666666667.\n",
      "[I 2025-06-23 17:21:32,087] Trial 1 finished with value: 0.8941666666666667 and parameters: {'penalty': 'elasticnet', 'solver': 'saga', 'C': 0.1, 'l1_ratio': 0.25}. Best is trial 1 with value: 0.8941666666666667.\n",
      "[I 2025-06-23 17:21:46,365] Trial 2 finished with value: 0.8885416666666668 and parameters: {'penalty': 'l2', 'solver': 'saga', 'C': 0.1, 'l1_ratio': 0.25}. Best is trial 1 with value: 0.8941666666666667.\n",
      "[I 2025-06-23 17:22:00,547] Trial 3 finished with value: 0.8904166666666667 and parameters: {'penalty': 'l2', 'solver': 'saga', 'C': 0.01, 'l1_ratio': 0.5}. Best is trial 1 with value: 0.8941666666666667.\n",
      "[I 2025-06-23 17:22:19,506] Trial 4 finished with value: 0.890625 and parameters: {'penalty': 'l1', 'solver': 'saga', 'C': 0.01, 'l1_ratio': 0.75}. Best is trial 1 with value: 0.8941666666666667.\n",
      "[I 2025-06-23 17:22:43,666] Trial 5 finished with value: 0.8939583333333333 and parameters: {'penalty': 'elasticnet', 'solver': 'saga', 'C': 0.1, 'l1_ratio': 0.25}. Best is trial 1 with value: 0.8941666666666667.\n"
     ]
    },
    {
     "name": "stdout",
     "output_type": "stream",
     "text": [
      "EARLY STOPPING: No improvement after 4 trials!\n",
      "--> Best trial is 1 with value: 0.8941666666666667 and parameters: {'penalty': 'elasticnet', 'solver': 'saga', 'C': 0.1, 'l1_ratio': 0.25}\n",
      "\n"
     ]
    },
    {
     "name": "stderr",
     "output_type": "stream",
     "text": [
      "[I 2025-06-23 17:22:56,223] A new study created in memory with name: LDA\n",
      "[I 2025-06-23 17:23:10,127] Trial 0 finished with value: 0.8220833333333332 and parameters: {'solver': 'svd', 'tol': 0.1}. Best is trial 0 with value: 0.8220833333333332.\n",
      "[I 2025-06-23 17:23:24,005] Trial 1 finished with value: 0.8133333333333334 and parameters: {'solver': 'svd', 'tol': 0.05}. Best is trial 0 with value: 0.8220833333333332.\n",
      "[I 2025-06-23 17:23:37,961] Trial 2 finished with value: 0.8133333333333334 and parameters: {'solver': 'svd', 'tol': 0.05}. Best is trial 0 with value: 0.8220833333333332.\n",
      "[I 2025-06-23 17:23:51,742] Trial 3 finished with value: 0.815 and parameters: {'solver': 'svd', 'tol': 0.01}. Best is trial 0 with value: 0.8220833333333332.\n",
      "[I 2025-06-23 17:24:05,598] Trial 4 finished with value: 0.8133333333333334 and parameters: {'solver': 'svd', 'tol': 0.05}. Best is trial 0 with value: 0.8220833333333332.\n"
     ]
    },
    {
     "name": "stdout",
     "output_type": "stream",
     "text": [
      "EARLY STOPPING: No improvement after 4 trials!\n",
      "--> Best trial is 0 with value: 0.8220833333333332 and parameters: {'solver': 'svd', 'tol': 0.1}\n",
      "\n"
     ]
    },
    {
     "name": "stderr",
     "output_type": "stream",
     "text": [
      "[I 2025-06-23 17:24:10,830] A new study created in memory with name: LDA\n",
      "[I 2025-06-23 17:24:24,586] Trial 0 finished with value: 0.8039583333333332 and parameters: {'solver': 'svd', 'tol': 0.1}. Best is trial 0 with value: 0.8039583333333332.\n",
      "[I 2025-06-23 17:24:38,268] Trial 1 finished with value: 0.8039583333333332 and parameters: {'solver': 'svd', 'tol': 0.1}. Best is trial 0 with value: 0.8039583333333332.\n",
      "[I 2025-06-23 17:24:52,100] Trial 2 finished with value: 0.7972916666666666 and parameters: {'solver': 'svd', 'tol': 0.01}. Best is trial 0 with value: 0.8039583333333332.\n",
      "[I 2025-06-23 17:25:05,821] Trial 3 finished with value: 0.7987500000000001 and parameters: {'solver': 'svd', 'tol': 0.05}. Best is trial 0 with value: 0.8039583333333332.\n",
      "[I 2025-06-23 17:25:19,601] Trial 4 finished with value: 0.7972916666666666 and parameters: {'solver': 'svd', 'tol': 0.01}. Best is trial 0 with value: 0.8039583333333332.\n"
     ]
    },
    {
     "name": "stdout",
     "output_type": "stream",
     "text": [
      "EARLY STOPPING: No improvement after 4 trials!\n",
      "--> Best trial is 0 with value: 0.8039583333333332 and parameters: {'solver': 'svd', 'tol': 0.1}\n",
      "\n"
     ]
    },
    {
     "name": "stderr",
     "output_type": "stream",
     "text": [
      "[I 2025-06-23 17:25:24,885] A new study created in memory with name: LDA\n",
      "[I 2025-06-23 17:25:38,648] Trial 0 finished with value: 0.8027083333333334 and parameters: {'solver': 'svd', 'tol': 0.05}. Best is trial 0 with value: 0.8027083333333334.\n",
      "[I 2025-06-23 17:25:52,357] Trial 1 finished with value: 0.8027083333333334 and parameters: {'solver': 'svd', 'tol': 0.05}. Best is trial 0 with value: 0.8027083333333334.\n",
      "[I 2025-06-23 17:26:06,209] Trial 2 finished with value: 0.8141666666666666 and parameters: {'solver': 'svd', 'tol': 0.1}. Best is trial 2 with value: 0.8141666666666666.\n",
      "[I 2025-06-23 17:26:19,851] Trial 3 finished with value: 0.8141666666666666 and parameters: {'solver': 'svd', 'tol': 0.1}. Best is trial 2 with value: 0.8141666666666666.\n",
      "[I 2025-06-23 17:26:33,789] Trial 4 finished with value: 0.8141666666666666 and parameters: {'solver': 'svd', 'tol': 0.1}. Best is trial 2 with value: 0.8141666666666666.\n",
      "[I 2025-06-23 17:26:38,338] Trial 5 pruned. \n",
      "[I 2025-06-23 17:26:42,927] Trial 6 pruned. \n"
     ]
    },
    {
     "name": "stdout",
     "output_type": "stream",
     "text": [
      "EARLY STOPPING: No improvement after 4 trials!\n",
      "--> Best trial is 2 with value: 0.8141666666666666 and parameters: {'solver': 'svd', 'tol': 0.1}\n",
      "\n"
     ]
    },
    {
     "name": "stderr",
     "output_type": "stream",
     "text": [
      "[I 2025-06-23 17:26:48,221] A new study created in memory with name: LDA\n",
      "[I 2025-06-23 17:27:02,428] Trial 0 finished with value: 0.7999999999999999 and parameters: {'solver': 'svd', 'tol': 0.01}. Best is trial 0 with value: 0.7999999999999999.\n",
      "[I 2025-06-23 17:27:17,724] Trial 1 finished with value: 0.7999999999999999 and parameters: {'solver': 'svd', 'tol': 0.01}. Best is trial 0 with value: 0.7999999999999999.\n",
      "[I 2025-06-23 17:27:32,926] Trial 2 finished with value: 0.8070833333333334 and parameters: {'solver': 'svd', 'tol': 0.1}. Best is trial 2 with value: 0.8070833333333334.\n",
      "[I 2025-06-23 17:27:49,416] Trial 3 finished with value: 0.8039583333333334 and parameters: {'solver': 'svd', 'tol': 0.05}. Best is trial 2 with value: 0.8070833333333334.\n",
      "[I 2025-06-23 17:28:05,277] Trial 4 finished with value: 0.8070833333333334 and parameters: {'solver': 'svd', 'tol': 0.1}. Best is trial 2 with value: 0.8070833333333334.\n",
      "[I 2025-06-23 17:28:20,926] Trial 5 finished with value: 0.8070833333333334 and parameters: {'solver': 'svd', 'tol': 0.1}. Best is trial 2 with value: 0.8070833333333334.\n",
      "[I 2025-06-23 17:28:31,207] Trial 6 pruned. \n"
     ]
    },
    {
     "name": "stdout",
     "output_type": "stream",
     "text": [
      "EARLY STOPPING: No improvement after 4 trials!\n",
      "--> Best trial is 2 with value: 0.8070833333333334 and parameters: {'solver': 'svd', 'tol': 0.1}\n",
      "\n"
     ]
    },
    {
     "name": "stderr",
     "output_type": "stream",
     "text": [
      "[I 2025-06-23 17:28:36,968] A new study created in memory with name: LDA\n",
      "[I 2025-06-23 17:28:52,664] Trial 0 finished with value: 0.8152083333333334 and parameters: {'solver': 'svd', 'tol': 0.1}. Best is trial 0 with value: 0.8152083333333334.\n",
      "[I 2025-06-23 17:29:08,768] Trial 1 finished with value: 0.8152083333333334 and parameters: {'solver': 'svd', 'tol': 0.1}. Best is trial 0 with value: 0.8152083333333334.\n",
      "[I 2025-06-23 17:29:24,693] Trial 2 finished with value: 0.8152083333333334 and parameters: {'solver': 'svd', 'tol': 0.1}. Best is trial 0 with value: 0.8152083333333334.\n",
      "[I 2025-06-23 17:29:40,101] Trial 3 finished with value: 0.8152083333333334 and parameters: {'solver': 'svd', 'tol': 0.1}. Best is trial 0 with value: 0.8152083333333334.\n",
      "[I 2025-06-23 17:29:54,987] Trial 4 finished with value: 0.8106249999999999 and parameters: {'solver': 'svd', 'tol': 0.01}. Best is trial 0 with value: 0.8152083333333334.\n"
     ]
    },
    {
     "name": "stdout",
     "output_type": "stream",
     "text": [
      "EARLY STOPPING: No improvement after 4 trials!\n",
      "--> Best trial is 0 with value: 0.8152083333333334 and parameters: {'solver': 'svd', 'tol': 0.1}\n",
      "\n"
     ]
    },
    {
     "name": "stderr",
     "output_type": "stream",
     "text": [
      "[I 2025-06-23 17:30:01,166] A new study created in memory with name: RandomForest\n",
      "[I 2025-06-23 17:30:06,711] Trial 0 finished with value: 0.8720833333333333 and parameters: {'n_estimators': 100, 'max_depth': 15, 'min_samples_split': 2}. Best is trial 0 with value: 0.8720833333333333.\n",
      "[I 2025-06-23 17:30:32,600] Trial 1 finished with value: 0.8766666666666666 and parameters: {'n_estimators': 500, 'max_depth': 15, 'min_samples_split': 5}. Best is trial 1 with value: 0.8766666666666666.\n",
      "[I 2025-06-23 17:30:36,830] Trial 2 finished with value: 0.8545833333333334 and parameters: {'n_estimators': 100, 'max_depth': 10, 'min_samples_split': 5}. Best is trial 1 with value: 0.8766666666666666.\n",
      "[I 2025-06-23 17:31:03,283] Trial 3 finished with value: 0.8745833333333333 and parameters: {'n_estimators': 500, 'max_depth': 15, 'min_samples_split': 2}. Best is trial 1 with value: 0.8766666666666666.\n",
      "[I 2025-06-23 17:31:16,510] Trial 4 finished with value: 0.8708333333333332 and parameters: {'n_estimators': 250, 'max_depth': 15, 'min_samples_split': 5}. Best is trial 1 with value: 0.8766666666666666.\n",
      "[I 2025-06-23 17:31:17,327] Trial 5 pruned. \n"
     ]
    },
    {
     "name": "stdout",
     "output_type": "stream",
     "text": [
      "EARLY STOPPING: No improvement after 4 trials!\n",
      "--> Best trial is 1 with value: 0.8766666666666666 and parameters: {'n_estimators': 500, 'max_depth': 15, 'min_samples_split': 5}\n",
      "\n"
     ]
    },
    {
     "name": "stderr",
     "output_type": "stream",
     "text": [
      "[I 2025-06-23 17:31:30,838] A new study created in memory with name: RandomForest\n",
      "[I 2025-06-23 17:31:33,293] Trial 0 finished with value: 0.8204166666666666 and parameters: {'n_estimators': 100, 'max_depth': 5, 'min_samples_split': 10}. Best is trial 0 with value: 0.8204166666666666.\n",
      "[I 2025-06-23 17:31:44,476] Trial 1 finished with value: 0.8254166666666668 and parameters: {'n_estimators': 500, 'max_depth': 5, 'min_samples_split': 2}. Best is trial 1 with value: 0.8254166666666668.\n",
      "[I 2025-06-23 17:31:48,585] Trial 2 finished with value: 0.8577083333333334 and parameters: {'n_estimators': 100, 'max_depth': 10, 'min_samples_split': 10}. Best is trial 2 with value: 0.8577083333333334.\n",
      "[I 2025-06-23 17:31:58,726] Trial 3 finished with value: 0.8633333333333333 and parameters: {'n_estimators': 250, 'max_depth': 10, 'min_samples_split': 5}. Best is trial 3 with value: 0.8633333333333333.\n",
      "[I 2025-06-23 17:32:02,875] Trial 4 finished with value: 0.8620833333333332 and parameters: {'n_estimators': 100, 'max_depth': 10, 'min_samples_split': 10}. Best is trial 3 with value: 0.8633333333333333.\n",
      "[I 2025-06-23 17:32:15,681] Trial 5 finished with value: 0.8745833333333334 and parameters: {'n_estimators': 250, 'max_depth': 15, 'min_samples_split': 10}. Best is trial 5 with value: 0.8745833333333334.\n",
      "[I 2025-06-23 17:32:20,978] Trial 6 finished with value: 0.8679166666666666 and parameters: {'n_estimators': 100, 'max_depth': 15, 'min_samples_split': 10}. Best is trial 5 with value: 0.8745833333333334.\n",
      "[I 2025-06-23 17:32:30,893] Trial 7 finished with value: 0.8627083333333333 and parameters: {'n_estimators': 250, 'max_depth': 10, 'min_samples_split': 10}. Best is trial 5 with value: 0.8745833333333334.\n",
      "[I 2025-06-23 17:32:32,786] Trial 8 pruned. \n",
      "[I 2025-06-23 17:32:34,701] Trial 9 pruned. \n"
     ]
    },
    {
     "name": "stdout",
     "output_type": "stream",
     "text": [
      "EARLY STOPPING: No improvement after 4 trials!\n",
      "--> Best trial is 5 with value: 0.8745833333333334 and parameters: {'n_estimators': 250, 'max_depth': 15, 'min_samples_split': 10}\n",
      "\n"
     ]
    },
    {
     "name": "stderr",
     "output_type": "stream",
     "text": [
      "[I 2025-06-23 17:32:41,378] A new study created in memory with name: RandomForest\n",
      "[I 2025-06-23 17:32:46,551] Trial 0 finished with value: 0.8741666666666666 and parameters: {'n_estimators': 100, 'max_depth': 15, 'min_samples_split': 10}. Best is trial 0 with value: 0.8741666666666666.\n",
      "[I 2025-06-23 17:33:06,505] Trial 1 finished with value: 0.8597916666666666 and parameters: {'n_estimators': 500, 'max_depth': 10, 'min_samples_split': 2}. Best is trial 0 with value: 0.8741666666666666.\n",
      "[I 2025-06-23 17:33:12,276] Trial 2 finished with value: 0.8262499999999999 and parameters: {'n_estimators': 250, 'max_depth': 5, 'min_samples_split': 5}. Best is trial 0 with value: 0.8741666666666666.\n",
      "[I 2025-06-23 17:33:36,969] Trial 3 finished with value: 0.8722916666666668 and parameters: {'n_estimators': 500, 'max_depth': 15, 'min_samples_split': 10}. Best is trial 0 with value: 0.8741666666666666.\n",
      "[I 2025-06-23 17:33:42,616] Trial 4 finished with value: 0.8210416666666666 and parameters: {'n_estimators': 250, 'max_depth': 5, 'min_samples_split': 10}. Best is trial 0 with value: 0.8741666666666666.\n"
     ]
    },
    {
     "name": "stdout",
     "output_type": "stream",
     "text": [
      "EARLY STOPPING: No improvement after 4 trials!\n",
      "--> Best trial is 0 with value: 0.8741666666666666 and parameters: {'n_estimators': 100, 'max_depth': 15, 'min_samples_split': 10}\n",
      "\n"
     ]
    },
    {
     "name": "stderr",
     "output_type": "stream",
     "text": [
      "[I 2025-06-23 17:33:45,239] A new study created in memory with name: RandomForest\n",
      "[I 2025-06-23 17:33:55,266] Trial 0 finished with value: 0.8583333333333334 and parameters: {'n_estimators': 250, 'max_depth': 10, 'min_samples_split': 5}. Best is trial 0 with value: 0.8583333333333334.\n",
      "[I 2025-06-23 17:34:00,582] Trial 1 finished with value: 0.8681249999999999 and parameters: {'n_estimators': 100, 'max_depth': 15, 'min_samples_split': 10}. Best is trial 1 with value: 0.8681249999999999.\n",
      "[I 2025-06-23 17:34:11,698] Trial 2 finished with value: 0.8277083333333334 and parameters: {'n_estimators': 500, 'max_depth': 5, 'min_samples_split': 10}. Best is trial 1 with value: 0.8681249999999999.\n",
      "[I 2025-06-23 17:34:21,672] Trial 3 finished with value: 0.8537500000000001 and parameters: {'n_estimators': 250, 'max_depth': 10, 'min_samples_split': 10}. Best is trial 1 with value: 0.8681249999999999.\n",
      "[I 2025-06-23 17:34:46,904] Trial 4 finished with value: 0.8766666666666666 and parameters: {'n_estimators': 500, 'max_depth': 15, 'min_samples_split': 10}. Best is trial 4 with value: 0.8766666666666666.\n",
      "[I 2025-06-23 17:34:50,621] Trial 5 pruned. \n",
      "[I 2025-06-23 17:35:03,319] Trial 6 finished with value: 0.8777083333333334 and parameters: {'n_estimators': 250, 'max_depth': 15, 'min_samples_split': 10}. Best is trial 6 with value: 0.8777083333333334.\n",
      "[I 2025-06-23 17:35:29,236] Trial 7 finished with value: 0.87875 and parameters: {'n_estimators': 500, 'max_depth': 15, 'min_samples_split': 5}. Best is trial 7 with value: 0.87875.\n",
      "[I 2025-06-23 17:35:42,496] A new study created in memory with name: RandomForest\n",
      "[I 2025-06-23 17:36:02,099] Trial 0 finished with value: 0.8652083333333334 and parameters: {'n_estimators': 500, 'max_depth': 10, 'min_samples_split': 5}. Best is trial 0 with value: 0.8652083333333334.\n",
      "[I 2025-06-23 17:36:04,533] Trial 1 finished with value: 0.824375 and parameters: {'n_estimators': 100, 'max_depth': 5, 'min_samples_split': 2}. Best is trial 0 with value: 0.8652083333333334.\n",
      "[I 2025-06-23 17:36:08,640] Trial 2 finished with value: 0.8589583333333334 and parameters: {'n_estimators': 100, 'max_depth': 10, 'min_samples_split': 5}. Best is trial 0 with value: 0.8652083333333334.\n",
      "[I 2025-06-23 17:36:13,808] Trial 3 finished with value: 0.8712500000000002 and parameters: {'n_estimators': 100, 'max_depth': 15, 'min_samples_split': 10}. Best is trial 3 with value: 0.8712500000000002.\n",
      "[I 2025-06-23 17:36:38,583] Trial 4 finished with value: 0.8791666666666668 and parameters: {'n_estimators': 500, 'max_depth': 15, 'min_samples_split': 10}. Best is trial 4 with value: 0.8791666666666668.\n",
      "[I 2025-06-23 17:36:42,275] Trial 5 pruned. \n",
      "[I 2025-06-23 17:36:44,194] Trial 6 pruned. \n",
      "[I 2025-06-23 17:36:47,570] Trial 7 pruned. \n",
      "[I 2025-06-23 17:37:00,390] Trial 8 finished with value: 0.8808333333333334 and parameters: {'n_estimators': 250, 'max_depth': 15, 'min_samples_split': 5}. Best is trial 8 with value: 0.8808333333333334.\n",
      "[I 2025-06-23 17:37:04,097] Trial 9 pruned. \n",
      "[I 2025-06-23 17:37:10,779] A new study created in memory with name: LightGBM\n",
      "[I 2025-06-23 17:37:53,726] Trial 0 finished with value: 0.905625 and parameters: {'n_estimators': 500, 'max_depth': 15, 'learning_rate': 0.01, 'verbosity': -1}. Best is trial 0 with value: 0.905625.\n",
      "[I 2025-06-23 17:38:06,901] Trial 1 finished with value: 0.8314583333333333 and parameters: {'n_estimators': 250, 'max_depth': 5, 'learning_rate': 0.001, 'verbosity': -1}. Best is trial 0 with value: 0.905625.\n",
      "[I 2025-06-23 17:38:15,918] Trial 2 finished with value: 0.8445833333333335 and parameters: {'n_estimators': 100, 'max_depth': 15, 'learning_rate': 0.001, 'verbosity': -1}. Best is trial 0 with value: 0.905625.\n",
      "[I 2025-06-23 17:38:35,706] Trial 3 finished with value: 0.916875 and parameters: {'n_estimators': 250, 'max_depth': 15, 'learning_rate': 0.1, 'verbosity': -1}. Best is trial 3 with value: 0.916875.\n",
      "[I 2025-06-23 17:39:15,202] Trial 4 finished with value: 0.86 and parameters: {'n_estimators': 500, 'max_depth': 10, 'learning_rate': 0.001, 'verbosity': -1}. Best is trial 3 with value: 0.916875.\n",
      "[I 2025-06-23 17:39:24,621] A new study created in memory with name: LightGBM\n",
      "[I 2025-06-23 17:39:46,023] Trial 0 finished with value: 0.8916666666666666 and parameters: {'n_estimators': 250, 'max_depth': 15, 'learning_rate': 0.01, 'verbosity': -1}. Best is trial 0 with value: 0.8916666666666666.\n",
      "[I 2025-06-23 17:40:26,050] Trial 1 finished with value: 0.9025 and parameters: {'n_estimators': 500, 'max_depth': 10, 'learning_rate': 0.01, 'verbosity': -1}. Best is trial 1 with value: 0.9025.\n",
      "[I 2025-06-23 17:40:48,283] Trial 2 finished with value: 0.9170833333333333 and parameters: {'n_estimators': 250, 'max_depth': 15, 'learning_rate': 0.1, 'verbosity': -1}. Best is trial 2 with value: 0.9170833333333333.\n",
      "[I 2025-06-23 17:41:29,580] Trial 3 finished with value: 0.9029166666666667 and parameters: {'n_estimators': 500, 'max_depth': 15, 'learning_rate': 0.01, 'verbosity': -1}. Best is trial 2 with value: 0.9170833333333333.\n",
      "[I 2025-06-23 17:41:40,225] A new study created in memory with name: LightGBM\n",
      "[I 2025-06-23 17:41:49,909] Trial 0 finished with value: 0.91 and parameters: {'n_estimators': 250, 'max_depth': 5, 'learning_rate': 0.1, 'verbosity': -1}. Best is trial 0 with value: 0.91.\n",
      "[I 2025-06-23 17:42:11,341] Trial 1 finished with value: 0.8933333333333332 and parameters: {'n_estimators': 250, 'max_depth': 15, 'learning_rate': 0.01, 'verbosity': -1}. Best is trial 0 with value: 0.91.\n",
      "[I 2025-06-23 17:42:31,319] Trial 2 finished with value: 0.8939583333333333 and parameters: {'n_estimators': 250, 'max_depth': 10, 'learning_rate': 0.01, 'verbosity': -1}. Best is trial 0 with value: 0.91.\n",
      "[I 2025-06-23 17:43:04,838] Trial 3 finished with value: 0.9193749999999999 and parameters: {'n_estimators': 500, 'max_depth': 15, 'learning_rate': 0.1, 'verbosity': -1}. Best is trial 3 with value: 0.9193749999999999.\n",
      "[I 2025-06-23 17:43:14,008] Trial 4 finished with value: 0.8754166666666667 and parameters: {'n_estimators': 100, 'max_depth': 15, 'learning_rate': 0.01, 'verbosity': -1}. Best is trial 3 with value: 0.9193749999999999.\n",
      "[I 2025-06-23 17:43:51,474] Trial 5 finished with value: 0.9047916666666667 and parameters: {'n_estimators': 500, 'max_depth': 10, 'learning_rate': 0.01, 'verbosity': -1}. Best is trial 3 with value: 0.9193749999999999.\n",
      "[I 2025-06-23 17:44:09,583] A new study created in memory with name: LightGBM\n",
      "[I 2025-06-23 17:44:18,570] Trial 0 finished with value: 0.8395833333333332 and parameters: {'n_estimators': 100, 'max_depth': 10, 'learning_rate': 0.001, 'verbosity': -1}. Best is trial 0 with value: 0.8395833333333332.\n",
      "[I 2025-06-23 17:44:39,893] Trial 1 finished with value: 0.9204166666666667 and parameters: {'n_estimators': 250, 'max_depth': 15, 'learning_rate': 0.1, 'verbosity': -1}. Best is trial 1 with value: 0.9204166666666667.\n",
      "[I 2025-06-23 17:44:45,588] Trial 2 finished with value: 0.81 and parameters: {'n_estimators': 100, 'max_depth': 5, 'learning_rate': 0.001, 'verbosity': -1}. Best is trial 1 with value: 0.9204166666666667.\n",
      "[I 2025-06-23 17:45:18,148] Trial 3 finished with value: 0.9170833333333334 and parameters: {'n_estimators': 500, 'max_depth': 10, 'learning_rate': 0.1, 'verbosity': -1}. Best is trial 1 with value: 0.9204166666666667.\n",
      "[I 2025-06-23 17:45:27,695] Trial 4 finished with value: 0.8416666666666667 and parameters: {'n_estimators': 100, 'max_depth': 15, 'learning_rate': 0.001, 'verbosity': -1}. Best is trial 1 with value: 0.9204166666666667.\n",
      "[I 2025-06-23 17:46:09,300] Trial 5 finished with value: 0.9085416666666667 and parameters: {'n_estimators': 500, 'max_depth': 15, 'learning_rate': 0.01, 'verbosity': -1}. Best is trial 1 with value: 0.9204166666666667.\n"
     ]
    },
    {
     "name": "stdout",
     "output_type": "stream",
     "text": [
      "EARLY STOPPING: No improvement after 4 trials!\n",
      "--> Best trial is 1 with value: 0.9204166666666667 and parameters: {'n_estimators': 250, 'max_depth': 15, 'learning_rate': 0.1, 'verbosity': -1}\n",
      "\n"
     ]
    },
    {
     "name": "stderr",
     "output_type": "stream",
     "text": [
      "[I 2025-06-23 17:46:18,687] A new study created in memory with name: LightGBM\n",
      "[I 2025-06-23 17:46:39,724] Trial 0 finished with value: 0.9204166666666667 and parameters: {'n_estimators': 250, 'max_depth': 15, 'learning_rate': 0.1, 'verbosity': -1}. Best is trial 0 with value: 0.9204166666666667.\n",
      "[I 2025-06-23 17:47:00,882] Trial 1 finished with value: 0.8970833333333333 and parameters: {'n_estimators': 250, 'max_depth': 15, 'learning_rate': 0.01, 'verbosity': -1}. Best is trial 0 with value: 0.9204166666666667.\n",
      "[I 2025-06-23 17:47:22,280] Trial 2 finished with value: 0.8525 and parameters: {'n_estimators': 250, 'max_depth': 15, 'learning_rate': 0.001, 'verbosity': -1}. Best is trial 0 with value: 0.9204166666666667.\n",
      "[I 2025-06-23 17:47:34,226] Trial 3 finished with value: 0.8885416666666667 and parameters: {'n_estimators': 250, 'max_depth': 5, 'learning_rate': 0.01, 'verbosity': -1}. Best is trial 0 with value: 0.9204166666666667.\n",
      "[I 2025-06-23 17:47:43,389] Trial 4 finished with value: 0.8408333333333333 and parameters: {'n_estimators': 100, 'max_depth': 15, 'learning_rate': 0.001, 'verbosity': -1}. Best is trial 0 with value: 0.9204166666666667.\n"
     ]
    },
    {
     "name": "stdout",
     "output_type": "stream",
     "text": [
      "EARLY STOPPING: No improvement after 4 trials!\n",
      "--> Best trial is 0 with value: 0.9204166666666667 and parameters: {'n_estimators': 250, 'max_depth': 15, 'learning_rate': 0.1, 'verbosity': -1}\n",
      "\n",
      "Summary:\n",
      "                          MCC   ROC_AUC  Balanced_Accuracy        F1    Recall  \\\n",
      "LogisticRegression  0.797556  0.968231            0.89875  0.898961  0.902500   \n",
      "LDA                 0.705353  0.914538            0.85250  0.854934  0.864167   \n",
      "RandomForest        0.757532  0.958351            0.87875  0.878695  0.881667   \n",
      "LightGBM            0.840062  0.979968            0.92000  0.920455  0.918333   \n",
      "\n",
      "                    Precision  Specificity       NPV    PR_AUC  \n",
      "LogisticRegression   0.900750     0.900000  0.901263  0.969147  \n",
      "LDA                  0.845839     0.842500  0.860890  0.895237  \n",
      "RandomForest         0.881277     0.881667  0.880364  0.961217  \n",
      "LightGBM             0.922296     0.923333  0.917990  0.980720  \n"
     ]
    }
   ],
   "source": [
    "\n",
    "my_file = Path(\"../data/rncv_summary_results.csv\")\n",
    "if not my_file.is_file():\n",
    "    perform_rnCV(path='../data/merged_train_subset3k.csv')"
   ]
  }
 ],
 "metadata": {
  "kernelspec": {
   "display_name": "base",
   "language": "python",
   "name": "python3"
  },
  "language_info": {
   "codemirror_mode": {
    "name": "ipython",
    "version": 3
   },
   "file_extension": ".py",
   "mimetype": "text/x-python",
   "name": "python",
   "nbconvert_exporter": "python",
   "pygments_lexer": "ipython3",
   "version": "3.12.4"
  }
 },
 "nbformat": 4,
 "nbformat_minor": 5
}
