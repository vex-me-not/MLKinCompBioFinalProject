{
 "cells": [
  {
   "cell_type": "code",
   "execution_count": 1,
   "id": "6c5e5253",
   "metadata": {},
   "outputs": [
    {
     "name": "stdout",
     "output_type": "stream",
     "text": [
      "/home/cotsios/dsit/2nd-semester/ml-in-comp-bio/project/MLKinCompBioFinalProject\n"
     ]
    }
   ],
   "source": [
    "import sys\n",
    "import os\n",
    "\n",
    "\n",
    "sys.path.append(os.path.abspath(os.path.join(os.getcwd(), \"..\")))\n",
    "print(sys.path[-1])"
   ]
  },
  {
   "cell_type": "code",
   "execution_count": 2,
   "id": "e861c99e",
   "metadata": {},
   "outputs": [
    {
     "name": "stdout",
     "output_type": "stream",
     "text": [
      "BASE_DIR       /home/cotsios/dsit/2nd-semester/ml-in-comp-bio/project/MLKinCompBioFinalProject\n",
      "DATA_DIR       /home/cotsios/dsit/2nd-semester/ml-in-comp-bio/project/MLKinCompBioFinalProject/data\n",
      "H5AD_V2_DIR    /home/cotsios/dsit/2nd-semester/ml-in-comp-bio/project/MLKinCompBioFinalProject/data/abc_atlas/expression_matrices/WMB-10Xv2/20230630\n",
      "H5AD_V3_DIR    /home/cotsios/dsit/2nd-semester/ml-in-comp-bio/project/MLKinCompBioFinalProject/data/abc_atlas/expression_matrices/WMB-10Xv3/20230630\n"
     ]
    }
   ],
   "source": [
    "BASE_DIR = os.path.abspath(os.path.join(os.getcwd(), \"..\"))\n",
    "DATA_DIR = os.path.join(BASE_DIR, \"data\")\n",
    "H5AD_V2_DIR = os.path.join(\n",
    "    DATA_DIR, \"abc_atlas\", \"expression_matrices\", \"WMB-10Xv2\", \"20230630\"\n",
    ")\n",
    "H5AD_V3_DIR = os.path.join(\n",
    "    DATA_DIR, \"abc_atlas\", \"expression_matrices\", \"WMB-10Xv3\", \"20230630\"\n",
    ")\n",
    "\n",
    "\n",
    "print(f\"{'BASE_DIR':<15}{BASE_DIR}\")\n",
    "print(f\"{'DATA_DIR':<15}{DATA_DIR}\")\n",
    "print(f\"{'H5AD_V2_DIR':<15}{H5AD_V2_DIR}\")\n",
    "print(f\"{'H5AD_V3_DIR':<15}{H5AD_V3_DIR}\")"
   ]
  },
  {
   "cell_type": "code",
   "execution_count": 3,
   "id": "5ebb0f92",
   "metadata": {},
   "outputs": [
    {
     "name": "stdout",
     "output_type": "stream",
     "text": [
      "hy_v2_path     /home/cotsios/dsit/2nd-semester/ml-in-comp-bio/project/MLKinCompBioFinalProject/data/abc_atlas/expression_matrices/WMB-10Xv2/20230630/WMB-10Xv2-HY-log2.h5ad\n",
      "hy_v3_path     /home/cotsios/dsit/2nd-semester/ml-in-comp-bio/project/MLKinCompBioFinalProject/data/abc_atlas/expression_matrices/WMB-10Xv3/20230630/WMB-10Xv3-HY-log2.h5ad\n"
     ]
    }
   ],
   "source": [
    "hy_v2_path = os.path.join(\n",
    "    H5AD_V2_DIR,\n",
    "    \"WMB-10Xv2-HY-log2.h5ad\"\n",
    ")\n",
    "hy_v3_path = os.path.join(\n",
    "    H5AD_V3_DIR,\n",
    "    \"WMB-10Xv3-HY-log2.h5ad\"\n",
    ")\n",
    "\n",
    "print(f\"{'hy_v2_path':<15}{hy_v2_path}\")\n",
    "print(f\"{'hy_v3_path':<15}{hy_v3_path}\")"
   ]
  },
  {
   "cell_type": "code",
   "execution_count": 4,
   "metadata": {},
   "outputs": [],
   "source": [
    "from src.utils import load_data\n",
    "\n",
    "import numpy as np\n",
    "import gc"
   ]
  },
  {
   "cell_type": "code",
   "execution_count": 5,
   "id": "a258cb2a",
   "metadata": {},
   "outputs": [],
   "source": [
    "hy_v2 = load_data(hy_v2_path, backed=\"r\")\n",
    "hy_v3 = load_data(hy_v3_path, backed=\"r\")"
   ]
  },
  {
   "cell_type": "code",
   "execution_count": 6,
   "id": "c3d062c3",
   "metadata": {},
   "outputs": [
    {
     "name": "stdout",
     "output_type": "stream",
     "text": [
      "Finding highly variable genes...\n",
      "Scaling data...\n"
     ]
    },
    {
     "name": "stderr",
     "output_type": "stream",
     "text": [
      "/home/cotsios/dsit/2nd-semester/ml-in-comp-bio/project/MLKinCompBioFinalProject/.env/lib/python3.12/site-packages/scanpy/preprocessing/_scale.py:309: UserWarning: Received a view of an AnnData. Making a copy.\n",
      "  view_to_actual(adata)\n",
      "/usr/lib/python3.12/functools.py:909: UserWarning: zero-centering a sparse array/matrix densifies it.\n",
      "  return dispatch(args[0].__class__)(*args, **kw)\n"
     ]
    },
    {
     "name": "stdout",
     "output_type": "stream",
     "text": [
      "Performing PCA...\n"
     ]
    },
    {
     "data": {
      "image/png": "[encoded data removed]",
      "text/plain": [
       "<Figure size 640x480 with 1 Axes>"
      ]
     },
     "metadata": {},
     "output_type": "display_data"
    },
    {
     "name": "stdout",
     "output_type": "stream",
     "text": [
      "Computing neighbors...\n"
     ]
    },
    {
     "name": "stderr",
     "output_type": "stream",
     "text": [
      "/home/cotsios/dsit/2nd-semester/ml-in-comp-bio/project/MLKinCompBioFinalProject/.env/lib/python3.12/site-packages/tqdm/auto.py:21: TqdmWarning: IProgress not found. Please update jupyter and ipywidgets. See https://ipywidgets.readthedocs.io/en/stable/user_install.html\n",
      "  from .autonotebook import tqdm as notebook_tqdm\n"
     ]
    },
    {
     "name": "stdout",
     "output_type": "stream",
     "text": [
      "Louvain clustering...\n"
     ]
    },
    {
     "ename": "ImportError",
     "evalue": "Please install the leiden algorithm: `conda install -c conda-forge leidenalg` or `pip3 install leidenalg`.",
     "output_type": "error",
     "traceback": [
      "\u001b[31m---------------------------------------------------------------------------\u001b[39m",
      "\u001b[31mModuleNotFoundError\u001b[39m                       Traceback (most recent call last)",
      "\u001b[36mFile \u001b[39m\u001b[32m~/dsit/2nd-semester/ml-in-comp-bio/project/MLKinCompBioFinalProject/.env/lib/python3.12/site-packages/scanpy/tools/_leiden.py:136\u001b[39m, in \u001b[36mleiden\u001b[39m\u001b[34m(adata, resolution, restrict_to, random_state, key_added, adjacency, directed, use_weights, n_iterations, partition_type, neighbors_key, obsp, copy, flavor, **clustering_args)\u001b[39m\n\u001b[32m    135\u001b[39m \u001b[38;5;28;01mtry\u001b[39;00m:\n\u001b[32m--> \u001b[39m\u001b[32m136\u001b[39m     \u001b[38;5;28;01mimport\u001b[39;00m\u001b[38;5;250m \u001b[39m\u001b[34;01mleidenalg\u001b[39;00m\n\u001b[32m    138\u001b[39m     msg = \u001b[33m'\u001b[39m\u001b[33mIn the future, the default backend for leiden will be igraph instead of leidenalg.\u001b[39m\u001b[38;5;130;01m\\n\u001b[39;00m\u001b[38;5;130;01m\\n\u001b[39;00m\u001b[33m To achieve the future defaults please pass: flavor=\u001b[39m\u001b[33m\"\u001b[39m\u001b[33migraph\u001b[39m\u001b[33m\"\u001b[39m\u001b[33m and n_iterations=2.  directed must also be False to work with igraph\u001b[39m\u001b[38;5;130;01m\\'\u001b[39;00m\u001b[33ms implementation.\u001b[39m\u001b[33m'\u001b[39m\n",
      "\u001b[31mModuleNotFoundError\u001b[39m: No module named 'leidenalg'",
      "\nThe above exception was the direct cause of the following exception:\n",
      "\u001b[31mImportError\u001b[39m                               Traceback (most recent call last)",
      "\u001b[36mCell\u001b[39m\u001b[36m \u001b[39m\u001b[32mIn[6]\u001b[39m\u001b[32m, line 20\u001b[39m\n\u001b[32m     17\u001b[39m sc.pp.neighbors(adata, n_neighbors=\u001b[32m15\u001b[39m, n_pcs=\u001b[32m30\u001b[39m)\n\u001b[32m     19\u001b[39m \u001b[38;5;28mprint\u001b[39m(\u001b[33m\"\u001b[39m\u001b[33mLouvain clustering...\u001b[39m\u001b[33m\"\u001b[39m)\n\u001b[32m---> \u001b[39m\u001b[32m20\u001b[39m \u001b[43msc\u001b[49m\u001b[43m.\u001b[49m\u001b[43mtl\u001b[49m\u001b[43m.\u001b[49m\u001b[43mleiden\u001b[49m\u001b[43m(\u001b[49m\u001b[43madata\u001b[49m\u001b[43m,\u001b[49m\u001b[43m \u001b[49m\u001b[43mresolution\u001b[49m\u001b[43m=\u001b[49m\u001b[32;43m0.5\u001b[39;49m\u001b[43m)\u001b[49m\n\u001b[32m     22\u001b[39m \u001b[38;5;28mprint\u001b[39m(\u001b[33m\"\u001b[39m\u001b[33mComputing UMAP...\u001b[39m\u001b[33m\"\u001b[39m)\n\u001b[32m     23\u001b[39m sc.tl.umap(adata)\n",
      "\u001b[36mFile \u001b[39m\u001b[32m~/dsit/2nd-semester/ml-in-comp-bio/project/MLKinCompBioFinalProject/.env/lib/python3.12/site-packages/scanpy/tools/_leiden.py:142\u001b[39m, in \u001b[36mleiden\u001b[39m\u001b[34m(adata, resolution, restrict_to, random_state, key_added, adjacency, directed, use_weights, n_iterations, partition_type, neighbors_key, obsp, copy, flavor, **clustering_args)\u001b[39m\n\u001b[32m    140\u001b[39m     \u001b[38;5;28;01mexcept\u001b[39;00m \u001b[38;5;167;01mImportError\u001b[39;00m \u001b[38;5;28;01mas\u001b[39;00m e:\n\u001b[32m    141\u001b[39m         msg = \u001b[33m\"\u001b[39m\u001b[33mPlease install the leiden algorithm: `conda install -c conda-forge leidenalg` or `pip3 install leidenalg`.\u001b[39m\u001b[33m\"\u001b[39m\n\u001b[32m--> \u001b[39m\u001b[32m142\u001b[39m         \u001b[38;5;28;01mraise\u001b[39;00m \u001b[38;5;167;01mImportError\u001b[39;00m(msg) \u001b[38;5;28;01mfrom\u001b[39;00m\u001b[38;5;250m \u001b[39m\u001b[34;01me\u001b[39;00m\n\u001b[32m    143\u001b[39m clustering_args = \u001b[38;5;28mdict\u001b[39m(clustering_args)\n\u001b[32m    145\u001b[39m start = logg.info(\u001b[33m\"\u001b[39m\u001b[33mrunning Leiden clustering\u001b[39m\u001b[33m\"\u001b[39m)\n",
      "\u001b[31mImportError\u001b[39m: Please install the leiden algorithm: `conda install -c conda-forge leidenalg` or `pip3 install leidenalg`."
     ]
    }
   ],
   "source": [
    "import scanpy as sc\n",
    "\n",
    "adata = hy_v2.to_memory()\n",
    "\n",
    "print(\"Finding highly variable genes...\")\n",
    "sc.pp.highly_variable_genes(adata, n_top_genes=2000, flavor=\"seurat\")\n",
    "adata = adata[:, adata.var.highly_variable].copy()\n",
    "\n",
    "print(\"Scaling data...\")\n",
    "sc.pp.scale(adata, max_value=10)\n",
    "\n",
    "print(\"Performing PCA...\")\n",
    "sc.tl.pca(adata, svd_solver='arpack')\n",
    "sc.pl.pca_variance_ratio(adata, log=True)\n",
    "\n",
    "print(\"Computing neighbors...\")\n",
    "sc.pp.neighbors(adata, n_neighbors=15, n_pcs=30)\n",
    "\n",
    "print(\"Louvain clustering...\")\n",
    "sc.tl.leiden(adata, resolution=0.5)\n",
    "\n",
    "print(\"Computing UMAP...\")\n",
    "sc.tl.umap(adata)\n",
    "sc.pl.umap(adata, color=[\"leiden\"])\n",
    "\n",
    "print(\"Ranking genes...\")\n",
    "sc.tl.rank_genes_groups(adata, \"leiden\", method=\"t-test\")\n",
    "sc.pl.rank_genes_groups(adata, n_genes=20, sharey=False)\n",
    "\n"
   ]
  }
 ],
 "metadata": {
  "kernelspec": {
   "display_name": ".env",
   "language": "python",
   "name": "python3"
  },
  "language_info": {
   "codemirror_mode": {
    "name": "ipython",
    "version": 3
   },
   "file_extension": ".py",
   "mimetype": "text/x-python",
   "name": "python",
   "nbconvert_exporter": "python",
   "pygments_lexer": "ipython3",
   "version": "3.12.3"
  }
 },
 "nbformat": 4,
 "nbformat_minor": 5
}
